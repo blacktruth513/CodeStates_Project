{
  "nbformat": 4,
  "nbformat_minor": 0,
  "metadata": {
    "colab": {
      "name": "AI_03_최현진_개인 project2.ipynb",
      "provenance": [],
      "collapsed_sections": [],
      "toc_visible": true,
      "machine_shape": "hm",
      "authorship_tag": "ABX9TyO3zUQkhVAB2Jf6Fl5AWCkY",
      "include_colab_link": true
    },
    "kernelspec": {
      "name": "python3",
      "display_name": "Python 3"
    },
    "language_info": {
      "name": "python"
    },
    "accelerator": "GPU"
  },
  "cells": [
    {
      "cell_type": "markdown",
      "metadata": {
        "id": "view-in-github",
        "colab_type": "text"
      },
      "source": [
        "<a href=\"https://colab.research.google.com/github/blacktruth513/CodeStates_Project/blob/main/AI_03_%EC%B5%9C%ED%98%84%EC%A7%84_%EA%B0%9C%EC%9D%B8_project2.ipynb\" target=\"_parent\"><img src=\"https://colab.research.google.com/assets/colab-badge.svg\" alt=\"Open In Colab\"/></a>"
      ]
    },
    {
      "cell_type": "markdown",
      "metadata": {
        "id": "3QdWgp4V9ZO8"
      },
      "source": [
        " <img src='https://i.imgur.com/RDAD11M.png' width = '200' align = 'right'>\n",
        "\n",
        "# 개인 프로젝트 2 \n",
        "\n",
        "---\n",
        "\n",
        "#<center> **<Attention NLP 모델 기반 중문-영문 기계어 번역 프로젝트>** </center>\n",
        "\n",
        "---\n",
        "<br>\n",
        "\n",
        "##- 프로젝트 순서 -  \n",
        "<br>\n",
        "\n",
        "1.  프로젝트 주제 및 목적  \n",
        "<br>\n",
        "\n",
        "2. 프로젝트 문제 정의  \n",
        "<br>\n",
        "\n",
        "3. 데이터 선정 이유 및 소개 \n",
        "<br> \n",
        "<br>\n",
        "\n",
        "4. 데이터 전처리 \n",
        "<br>\n",
        "\n",
        "5. 모델링 \n",
        "<br>\n",
        "\n",
        "6. 모델 테스트 및 평가\n",
        "<br>\n",
        "\n",
        "7. 프로젝트 결론 및 향후 개선점 \n",
        "<br>\n",
        "\n",
        "8. 참고 문헌\n",
        "\n",
        "\n",
        "\n"
      ]
    },
    {
      "cell_type": "markdown",
      "metadata": {
        "id": "_gk5U8_qKP1x"
      },
      "source": [
        "# 1 프로젝트 주제 및 목적"
      ]
    },
    {
      "cell_type": "markdown",
      "metadata": {
        "id": "DU39_ojWIIVp"
      },
      "source": [
        "## 1-1 프로젝트 주제\n",
        "\n",
        "- 주제 : 어텐션 메커니즘을 적용한 seq2seq nlp 모델 기반 중문-영문 기계어 번역 프로젝트"
      ]
    },
    {
      "cell_type": "markdown",
      "metadata": {
        "id": "KAPDT7qmJ69D"
      },
      "source": [
        "##1-2 프로젝트 목적\n",
        "\n",
        "\n",
        "- 두 언어 (입력 언어 : 중국어, 타겟 언어 : 영어) 간 기계어 번역 모델을 구축하고 결과를 도출함으로써, 언어 모델에 대한 심화된 이해력을 갖추고 더 나아가, 딥러닝 분야에서의 딥러닝 기술 활용 역량 강화를 목표로 한다."
      ]
    },
    {
      "cell_type": "markdown",
      "metadata": {
        "id": "EIbHueR9Kmv_"
      },
      "source": [
        "# 2 프로젝트 문제 정의\n",
        "\n",
        "- 프로젝트 가설 : 주어진 데이터의 입력 언어를 언어 모델 학습을 통해 대응되는 타겟 언어로 기계 번역한다.\n",
        "<br>\n",
        "<br>\n",
        "- 프로젝트 예상 결과 : 딥러닝 모델링을 통해 성능 지표를 확보하여 중문 데이터를 영문 데이터로 기계 번역하고, 테스트 데이터에 모델을 적용하여 모델의 성능을 테스트한다.    "
      ]
    },
    {
      "cell_type": "markdown",
      "metadata": {
        "id": "R3VczNoKQ1sY"
      },
      "source": [
        "# 3 데이터 선정 이유 및 소개\n"
      ]
    },
    {
      "cell_type": "markdown",
      "metadata": {
        "id": "7kwAdvOfRwA-"
      },
      "source": [
        " ![tatoeba.png](data:image/png;base64,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)\n",
        "\n",
        " - Tatoeba Project 출처 데이터로서, 중국어-영어 번역(병렬) 코퍼스(말뭉치) 형태로 26388개의 데이터로 구성되어 있다. 기계어 번역을 수행하는 본 프로젝트에 데이터로 사용하기에 적절하다고 판단해 해당 데이터를 사용하여 프로젝트를 수행했다. \n",
        "<br>\n",
        "<br>\n",
        "\n",
        "- 참고) Tatoeba Project 목표 : 언어 학습 응용 프로그램을 개발하는 모든 사람이 사용할 수 있는 문장 및 번역 데이터베이스를 만드는 것을 목표로 한다. 프로젝트 아이디어는 해당 프로젝트가 언어 관련 데이터를 생성하므로 프로그래머는 응용 프로그램 코딩에만 집중할 수 있도록 함에 있다.\n",
        " (데이터 출처 : http://www.manythings.org/anki/)"
      ]
    },
    {
      "cell_type": "markdown",
      "metadata": {
        "id": "mMZa120Hapu7"
      },
      "source": [
        "## 3-1 데이터 미리 보기"
      ]
    },
    {
      "cell_type": "code",
      "metadata": {
        "id": "uonNN8AMczEQ",
        "colab": {
          "base_uri": "https://localhost:8080/"
        },
        "outputId": "cfee6074-5d2a-4b2d-8a50-ba78030174aa"
      },
      "source": [
        "from google.colab import drive\n",
        "drive.mount('/content/drive') "
      ],
      "execution_count": 1,
      "outputs": [
        {
          "output_type": "stream",
          "name": "stdout",
          "text": [
            "Mounted at /content/drive\n"
          ]
        }
      ]
    },
    {
      "cell_type": "code",
      "metadata": {
        "id": "UwgEMg8Zcz1w",
        "colab": {
          "base_uri": "https://localhost:8080/"
        },
        "outputId": "391d3733-4b06-41b2-eafc-80fc7b685255"
      },
      "source": [
        "# 중문 간자체 패키지\n",
        "# !pip install OpenCC"
      ],
      "execution_count": 10,
      "outputs": [
        {
          "output_type": "stream",
          "name": "stdout",
          "text": [
            "Requirement already satisfied: OpenCC in /usr/local/lib/python3.7/dist-packages (1.1.2)\n"
          ]
        }
      ]
    },
    {
      "cell_type": "code",
      "metadata": {
        "id": "emCkI3RKh9CR"
      },
      "source": [
        "import os\n",
        "import io\n",
        "import time\n",
        "import pandas as pd\n",
        "import numpy as np\n",
        "\n",
        "# 전처리 라이브러리\n",
        "import re\n",
        "from opencc import OpenCC\n",
        "import jieba\n",
        "import unicodedata\n",
        "\n",
        "# 모델링 라이브러리\n",
        "import tensorflow as tf\n",
        "from sklearn.model_selection import train_test_split\n",
        "\n",
        "# 시각화 라이브러리\n",
        "import matplotlib as mpl\n",
        "import matplotlib.pyplot as plt\n",
        "import matplotlib.ticker as ticker"
      ],
      "execution_count": 49,
      "outputs": []
    },
    {
      "cell_type": "code",
      "metadata": {
        "id": "FSJ43eZVcs0y"
      },
      "source": [
        "import pandas as pd\n",
        "with open('/content/drive/MyDrive/AI_Bootcamp/Project2_Data/new_df.txt', mode='r', encoding='utf-8') as f:\n",
        "    en_zh = f.read().strip().split('\\n')\n",
        "\n",
        "en_zh = pd.read_table('/content/drive/MyDrive/AI_Bootcamp/Project2_Data/new_df.txt', sep='\\t', header=None)\n",
        "\n",
        "en_zh.columns = ['en', 'zh', 'source']\n",
        "zh_en = en_zh[['zh', 'en']]"
      ],
      "execution_count": 13,
      "outputs": []
    },
    {
      "cell_type": "code",
      "metadata": {
        "colab": {
          "base_uri": "https://localhost:8080/",
          "height": 1000
        },
        "id": "vTsAG7FY6Wrt",
        "outputId": "5d23374b-2beb-46e5-d02b-35baf7e92ce0"
      },
      "source": [
        "# 데이터 내 번체자 >> 간체자로 전환\n",
        "zh_en.head(50)"
      ],
      "execution_count": 14,
      "outputs": [
        {
          "output_type": "execute_result",
          "data": {
            "text/html": [
              "<div>\n",
              "<style scoped>\n",
              "    .dataframe tbody tr th:only-of-type {\n",
              "        vertical-align: middle;\n",
              "    }\n",
              "\n",
              "    .dataframe tbody tr th {\n",
              "        vertical-align: top;\n",
              "    }\n",
              "\n",
              "    .dataframe thead th {\n",
              "        text-align: right;\n",
              "    }\n",
              "</style>\n",
              "<table border=\"1\" class=\"dataframe\">\n",
              "  <thead>\n",
              "    <tr style=\"text-align: right;\">\n",
              "      <th></th>\n",
              "      <th>zh</th>\n",
              "      <th>en</th>\n",
              "    </tr>\n",
              "  </thead>\n",
              "  <tbody>\n",
              "    <tr>\n",
              "      <th>0</th>\n",
              "      <td>他这么说就是为了开玩笑。</td>\n",
              "      <td>He said it merely as a joke.</td>\n",
              "    </tr>\n",
              "    <tr>\n",
              "      <th>1</th>\n",
              "      <td>我不知道你不喜欢汤姆的理由。</td>\n",
              "      <td>I don't know why you don't like Tom.</td>\n",
              "    </tr>\n",
              "    <tr>\n",
              "      <th>2</th>\n",
              "      <td>这正是我需要的东西。</td>\n",
              "      <td>This is exactly what I need.</td>\n",
              "    </tr>\n",
              "    <tr>\n",
              "      <th>3</th>\n",
              "      <td>探头配有麦克风。</td>\n",
              "      <td>The probe is equipped with a microphone.</td>\n",
              "    </tr>\n",
              "    <tr>\n",
              "      <th>4</th>\n",
              "      <td>我今年没时间去度假。</td>\n",
              "      <td>I don't have time for a vacation this year.</td>\n",
              "    </tr>\n",
              "    <tr>\n",
              "      <th>5</th>\n",
              "      <td>你擅長說哪種語言？</td>\n",
              "      <td>What languages are you good at speaking?</td>\n",
              "    </tr>\n",
              "    <tr>\n",
              "      <th>6</th>\n",
              "      <td>你做什么工作？</td>\n",
              "      <td>What is your occupation?</td>\n",
              "    </tr>\n",
              "    <tr>\n",
              "      <th>7</th>\n",
              "      <td>我收集郵票。</td>\n",
              "      <td>I collect stamps.</td>\n",
              "    </tr>\n",
              "    <tr>\n",
              "      <th>8</th>\n",
              "      <td>把你们的帽子摘下来。</td>\n",
              "      <td>Take your hats off.</td>\n",
              "    </tr>\n",
              "    <tr>\n",
              "      <th>9</th>\n",
              "      <td>我可以去洗手間嗎？</td>\n",
              "      <td>May I go to the bathroom?</td>\n",
              "    </tr>\n",
              "    <tr>\n",
              "      <th>10</th>\n",
              "      <td>这太贵了。</td>\n",
              "      <td>This is too expensive.</td>\n",
              "    </tr>\n",
              "    <tr>\n",
              "      <th>11</th>\n",
              "      <td>你的嘴唇很漂亮。</td>\n",
              "      <td>You have beautiful lips.</td>\n",
              "    </tr>\n",
              "    <tr>\n",
              "      <th>12</th>\n",
              "      <td>汤姆错了。</td>\n",
              "      <td>Tom was mistaken.</td>\n",
              "    </tr>\n",
              "    <tr>\n",
              "      <th>13</th>\n",
              "      <td>讓我們去看電影。</td>\n",
              "      <td>Let's go to a movie.</td>\n",
              "    </tr>\n",
              "    <tr>\n",
              "      <th>14</th>\n",
              "      <td>我有东西想给你看看。</td>\n",
              "      <td>I'd like to show you something.</td>\n",
              "    </tr>\n",
              "    <tr>\n",
              "      <th>15</th>\n",
              "      <td>那女人比我老很多。</td>\n",
              "      <td>That woman is much older than I am.</td>\n",
              "    </tr>\n",
              "    <tr>\n",
              "      <th>16</th>\n",
              "      <td>把書放在那裡。</td>\n",
              "      <td>Put the book there.</td>\n",
              "    </tr>\n",
              "    <tr>\n",
              "      <th>17</th>\n",
              "      <td>十一点准时到车站。</td>\n",
              "      <td>Be at the station at 11 o'clock sharp.</td>\n",
              "    </tr>\n",
              "    <tr>\n",
              "      <th>18</th>\n",
              "      <td>我抓不到句子的确切含义。</td>\n",
              "      <td>I can't get at the exact meaning of the sentence.</td>\n",
              "    </tr>\n",
              "    <tr>\n",
              "      <th>19</th>\n",
              "      <td>他們的努力都白費了。</td>\n",
              "      <td>All their efforts were in vain.</td>\n",
              "    </tr>\n",
              "    <tr>\n",
              "      <th>20</th>\n",
              "      <td>我们被要求不再这么做。</td>\n",
              "      <td>We've been asked to not do this anymore.</td>\n",
              "    </tr>\n",
              "    <tr>\n",
              "      <th>21</th>\n",
              "      <td>我喜歡在夜晚走路。</td>\n",
              "      <td>I like walking at night.</td>\n",
              "    </tr>\n",
              "    <tr>\n",
              "      <th>22</th>\n",
              "      <td>他把书放在了书架上。</td>\n",
              "      <td>He put the book on the shelf.</td>\n",
              "    </tr>\n",
              "    <tr>\n",
              "      <th>23</th>\n",
              "      <td>我做完了所有重要的事。</td>\n",
              "      <td>I've done everything necessary.</td>\n",
              "    </tr>\n",
              "    <tr>\n",
              "      <th>24</th>\n",
              "      <td>在医院的时候，我不得不戒烟。</td>\n",
              "      <td>I had to abstain from smoking while I was in t...</td>\n",
              "    </tr>\n",
              "    <tr>\n",
              "      <th>25</th>\n",
              "      <td>今天是情人节</td>\n",
              "      <td>Today is Valentine's Day.</td>\n",
              "    </tr>\n",
              "    <tr>\n",
              "      <th>26</th>\n",
              "      <td>多好的主意啊！</td>\n",
              "      <td>What a good idea!</td>\n",
              "    </tr>\n",
              "    <tr>\n",
              "      <th>27</th>\n",
              "      <td>我们可全指望你了。</td>\n",
              "      <td>We depend on you.</td>\n",
              "    </tr>\n",
              "    <tr>\n",
              "      <th>28</th>\n",
              "      <td>Tom有三隻貓。</td>\n",
              "      <td>Tom has three cats.</td>\n",
              "    </tr>\n",
              "    <tr>\n",
              "      <th>29</th>\n",
              "      <td>你能幫我搬這張桌子嗎？</td>\n",
              "      <td>Will you help me move this desk?</td>\n",
              "    </tr>\n",
              "    <tr>\n",
              "      <th>30</th>\n",
              "      <td>我乐意分享。</td>\n",
              "      <td>I'm willing to share.</td>\n",
              "    </tr>\n",
              "    <tr>\n",
              "      <th>31</th>\n",
              "      <td>因為他遲到了，所以我很生氣。</td>\n",
              "      <td>I was angry because he was late.</td>\n",
              "    </tr>\n",
              "    <tr>\n",
              "      <th>32</th>\n",
              "      <td>你空闲时间喜欢做什么？</td>\n",
              "      <td>What do you like to do in your free time?</td>\n",
              "    </tr>\n",
              "    <tr>\n",
              "      <th>33</th>\n",
              "      <td>您最好请教一下医生。</td>\n",
              "      <td>You'd better consult the doctor.</td>\n",
              "    </tr>\n",
              "    <tr>\n",
              "      <th>34</th>\n",
              "      <td>我沒有和她相處過。</td>\n",
              "      <td>I didn't get along with her.</td>\n",
              "    </tr>\n",
              "    <tr>\n",
              "      <th>35</th>\n",
              "      <td>湯姆畢業了。</td>\n",
              "      <td>Tom graduated.</td>\n",
              "    </tr>\n",
              "    <tr>\n",
              "      <th>36</th>\n",
              "      <td>汤姆是聪明的孩子。</td>\n",
              "      <td>Tom is a clever kid.</td>\n",
              "    </tr>\n",
              "    <tr>\n",
              "      <th>37</th>\n",
              "      <td>那有两块蛋糕。</td>\n",
              "      <td>There were two pieces of cake.</td>\n",
              "    </tr>\n",
              "    <tr>\n",
              "      <th>38</th>\n",
              "      <td>你去过哪些国家？</td>\n",
              "      <td>Which countries have you visited?</td>\n",
              "    </tr>\n",
              "    <tr>\n",
              "      <th>39</th>\n",
              "      <td>演唱會上有許多人。</td>\n",
              "      <td>There were many people at the concert.</td>\n",
              "    </tr>\n",
              "    <tr>\n",
              "      <th>40</th>\n",
              "      <td>保持在較低的溫度。</td>\n",
              "      <td>Keep it at a lower temperature.</td>\n",
              "    </tr>\n",
              "    <tr>\n",
              "      <th>41</th>\n",
              "      <td>繼續看！</td>\n",
              "      <td>Keep looking.</td>\n",
              "    </tr>\n",
              "    <tr>\n",
              "      <th>42</th>\n",
              "      <td>这就是我出生的村庄。</td>\n",
              "      <td>That's the village I was born in.</td>\n",
              "    </tr>\n",
              "    <tr>\n",
              "      <th>43</th>\n",
              "      <td>我没改变。</td>\n",
              "      <td>I haven't changed.</td>\n",
              "    </tr>\n",
              "    <tr>\n",
              "      <th>44</th>\n",
              "      <td>应该更谨慎地处理它。</td>\n",
              "      <td>It must be done more carefully.</td>\n",
              "    </tr>\n",
              "    <tr>\n",
              "      <th>45</th>\n",
              "      <td>我同意。</td>\n",
              "      <td>I agree.</td>\n",
              "    </tr>\n",
              "    <tr>\n",
              "      <th>46</th>\n",
              "      <td>“你去哪儿了？”“我去了火车站送我的一个朋友。”</td>\n",
              "      <td>Where have you been? \"I have been to the stati...</td>\n",
              "    </tr>\n",
              "    <tr>\n",
              "      <th>47</th>\n",
              "      <td>如果用了你的車，你會介意嗎?</td>\n",
              "      <td>Would you mind if I used your car?</td>\n",
              "    </tr>\n",
              "    <tr>\n",
              "      <th>48</th>\n",
              "      <td>观点因人而异。</td>\n",
              "      <td>Opinions vary from person to person.</td>\n",
              "    </tr>\n",
              "    <tr>\n",
              "      <th>49</th>\n",
              "      <td>我在修洗衣機。</td>\n",
              "      <td>I am fixing the washing machine.</td>\n",
              "    </tr>\n",
              "  </tbody>\n",
              "</table>\n",
              "</div>"
            ],
            "text/plain": [
              "                          zh                                                 en\n",
              "0               他这么说就是为了开玩笑。                       He said it merely as a joke.\n",
              "1             我不知道你不喜欢汤姆的理由。               I don't know why you don't like Tom.\n",
              "2                 这正是我需要的东西。                       This is exactly what I need.\n",
              "3                   探头配有麦克风。           The probe is equipped with a microphone.\n",
              "4                 我今年没时间去度假。        I don't have time for a vacation this year.\n",
              "5                  你擅長說哪種語言？           What languages are you good at speaking?\n",
              "6                    你做什么工作？                           What is your occupation?\n",
              "7                     我收集郵票。                                  I collect stamps.\n",
              "8                 把你们的帽子摘下来。                                Take your hats off.\n",
              "9                  我可以去洗手間嗎？                          May I go to the bathroom?\n",
              "10                     这太贵了。                             This is too expensive.\n",
              "11                  你的嘴唇很漂亮。                           You have beautiful lips.\n",
              "12                     汤姆错了。                                  Tom was mistaken.\n",
              "13                  讓我們去看電影。                               Let's go to a movie.\n",
              "14                我有东西想给你看看。                    I'd like to show you something.\n",
              "15                 那女人比我老很多。                That woman is much older than I am.\n",
              "16                   把書放在那裡。                                Put the book there.\n",
              "17                 十一点准时到车站。             Be at the station at 11 o'clock sharp.\n",
              "18              我抓不到句子的确切含义。  I can't get at the exact meaning of the sentence.\n",
              "19                他們的努力都白費了。                    All their efforts were in vain.\n",
              "20               我们被要求不再这么做。           We've been asked to not do this anymore.\n",
              "21                 我喜歡在夜晚走路。                           I like walking at night.\n",
              "22                他把书放在了书架上。                      He put the book on the shelf.\n",
              "23               我做完了所有重要的事。                    I've done everything necessary.\n",
              "24            在医院的时候，我不得不戒烟。  I had to abstain from smoking while I was in t...\n",
              "25                    今天是情人节                          Today is Valentine's Day.\n",
              "26                   多好的主意啊！                                  What a good idea!\n",
              "27                 我们可全指望你了。                                  We depend on you.\n",
              "28                  Tom有三隻貓。                                Tom has three cats.\n",
              "29               你能幫我搬這張桌子嗎？                   Will you help me move this desk?\n",
              "30                    我乐意分享。                              I'm willing to share.\n",
              "31            因為他遲到了，所以我很生氣。                   I was angry because he was late.\n",
              "32               你空闲时间喜欢做什么？          What do you like to do in your free time?\n",
              "33                您最好请教一下医生。                   You'd better consult the doctor.\n",
              "34                 我沒有和她相處過。                       I didn't get along with her.\n",
              "35                    湯姆畢業了。                                     Tom graduated.\n",
              "36                 汤姆是聪明的孩子。                               Tom is a clever kid.\n",
              "37                   那有两块蛋糕。                     There were two pieces of cake.\n",
              "38                  你去过哪些国家？                  Which countries have you visited?\n",
              "39                 演唱會上有許多人。             There were many people at the concert.\n",
              "40                 保持在較低的溫度。                    Keep it at a lower temperature.\n",
              "41                      繼續看！                                      Keep looking.\n",
              "42                这就是我出生的村庄。                  That's the village I was born in.\n",
              "43                     我没改变。                                 I haven't changed.\n",
              "44                应该更谨慎地处理它。                    It must be done more carefully.\n",
              "45                      我同意。                                           I agree.\n",
              "46  “你去哪儿了？”“我去了火车站送我的一个朋友。”  Where have you been? \"I have been to the stati...\n",
              "47            如果用了你的車，你會介意嗎?                 Would you mind if I used your car?\n",
              "48                   观点因人而异。               Opinions vary from person to person.\n",
              "49                   我在修洗衣機。                   I am fixing the washing machine."
            ]
          },
          "metadata": {},
          "execution_count": 14
        }
      ]
    },
    {
      "cell_type": "code",
      "metadata": {
        "colab": {
          "base_uri": "https://localhost:8080/",
          "height": 1000
        },
        "id": "dxxeq7fc8BBG",
        "outputId": "8cba82ef-90d1-4e08-c5f0-7fc0f52a2c7d"
      },
      "source": [
        "zh_en.tail(50)"
      ],
      "execution_count": 15,
      "outputs": [
        {
          "output_type": "execute_result",
          "data": {
            "text/html": [
              "<div>\n",
              "<style scoped>\n",
              "    .dataframe tbody tr th:only-of-type {\n",
              "        vertical-align: middle;\n",
              "    }\n",
              "\n",
              "    .dataframe tbody tr th {\n",
              "        vertical-align: top;\n",
              "    }\n",
              "\n",
              "    .dataframe thead th {\n",
              "        text-align: right;\n",
              "    }\n",
              "</style>\n",
              "<table border=\"1\" class=\"dataframe\">\n",
              "  <thead>\n",
              "    <tr style=\"text-align: right;\">\n",
              "      <th></th>\n",
              "      <th>zh</th>\n",
              "      <th>en</th>\n",
              "    </tr>\n",
              "  </thead>\n",
              "  <tbody>\n",
              "    <tr>\n",
              "      <th>26338</th>\n",
              "      <td>保镖戴着耳机。</td>\n",
              "      <td>The bodyguard was wearing an earpiece.</td>\n",
              "    </tr>\n",
              "    <tr>\n",
              "      <th>26339</th>\n",
              "      <td>我刚才在家。</td>\n",
              "      <td>I was at home.</td>\n",
              "    </tr>\n",
              "    <tr>\n",
              "      <th>26340</th>\n",
              "      <td>他英文得到了九十分。</td>\n",
              "      <td>He got 90% in English.</td>\n",
              "    </tr>\n",
              "    <tr>\n",
              "      <th>26341</th>\n",
              "      <td>我大学里的第一天相当没意思。</td>\n",
              "      <td>My first day in the university was rather boring.</td>\n",
              "    </tr>\n",
              "    <tr>\n",
              "      <th>26342</th>\n",
              "      <td>各位，請安靜。</td>\n",
              "      <td>Everyone, please be quiet.</td>\n",
              "    </tr>\n",
              "    <tr>\n",
              "      <th>26343</th>\n",
              "      <td>我們把牛奶製成乳酪和奶油。</td>\n",
              "      <td>We make milk into cheese and butter.</td>\n",
              "    </tr>\n",
              "    <tr>\n",
              "      <th>26344</th>\n",
              "      <td>我不能喝牛奶。</td>\n",
              "      <td>I can't drink milk.</td>\n",
              "    </tr>\n",
              "    <tr>\n",
              "      <th>26345</th>\n",
              "      <td>我今天没时间冲澡。</td>\n",
              "      <td>I didn't have time to take a shower today.</td>\n",
              "    </tr>\n",
              "    <tr>\n",
              "      <th>26346</th>\n",
              "      <td>你们这些人帮不了自己。</td>\n",
              "      <td>You people can't help yourselves.</td>\n",
              "    </tr>\n",
              "    <tr>\n",
              "      <th>26347</th>\n",
              "      <td>停止大声说话。</td>\n",
              "      <td>Stop talking loudly.</td>\n",
              "    </tr>\n",
              "    <tr>\n",
              "      <th>26348</th>\n",
              "      <td>請再說一次。</td>\n",
              "      <td>Please say it once more.</td>\n",
              "    </tr>\n",
              "    <tr>\n",
              "      <th>26349</th>\n",
              "      <td>汤姆不会高兴。</td>\n",
              "      <td>Tom isn't going to be happy.</td>\n",
              "    </tr>\n",
              "    <tr>\n",
              "      <th>26350</th>\n",
              "      <td>今天天气很好。</td>\n",
              "      <td>It's fine today.</td>\n",
              "    </tr>\n",
              "    <tr>\n",
              "      <th>26351</th>\n",
              "      <td>我們學校在車站的附近。</td>\n",
              "      <td>Our school is near the station.</td>\n",
              "    </tr>\n",
              "    <tr>\n",
              "      <th>26352</th>\n",
              "      <td>我们没迟到。</td>\n",
              "      <td>We're not late.</td>\n",
              "    </tr>\n",
              "    <tr>\n",
              "      <th>26353</th>\n",
              "      <td>英语现已成为世界上许多国家的通用语言了。</td>\n",
              "      <td>English has now become the common language of ...</td>\n",
              "    </tr>\n",
              "    <tr>\n",
              "      <th>26354</th>\n",
              "      <td>我等一下將清理廚房。</td>\n",
              "      <td>I'll clean up the kitchen later.</td>\n",
              "    </tr>\n",
              "    <tr>\n",
              "      <th>26355</th>\n",
              "      <td>汤姆不喜欢妆化太浓的女人。</td>\n",
              "      <td>Tom doesn't like women who wear too much makeup.</td>\n",
              "    </tr>\n",
              "    <tr>\n",
              "      <th>26356</th>\n",
              "      <td>他給了我任何我需要的幫助。</td>\n",
              "      <td>He gave me whatever help I needed.</td>\n",
              "    </tr>\n",
              "    <tr>\n",
              "      <th>26357</th>\n",
              "      <td>我很快樂能參加你的派對。</td>\n",
              "      <td>I will be happy to attend your party.</td>\n",
              "    </tr>\n",
              "    <tr>\n",
              "      <th>26358</th>\n",
              "      <td>旅行社的利润猛涨。</td>\n",
              "      <td>Travel agencies' profits soared.</td>\n",
              "    </tr>\n",
              "    <tr>\n",
              "      <th>26359</th>\n",
              "      <td>我刚去过那里。</td>\n",
              "      <td>I went there recently.</td>\n",
              "    </tr>\n",
              "    <tr>\n",
              "      <th>26360</th>\n",
              "      <td>從這裡大約10分鐘車程。</td>\n",
              "      <td>It's about a ten-minute drive from here.</td>\n",
              "    </tr>\n",
              "    <tr>\n",
              "      <th>26361</th>\n",
              "      <td>你能承认你错了是很伟大的。</td>\n",
              "      <td>It's very big of you to admit you're wrong.</td>\n",
              "    </tr>\n",
              "    <tr>\n",
              "      <th>26362</th>\n",
              "      <td>汤姆没受伤。</td>\n",
              "      <td>Tom wasn't injured.</td>\n",
              "    </tr>\n",
              "    <tr>\n",
              "      <th>26363</th>\n",
              "      <td>湯姆死於交通事故。</td>\n",
              "      <td>Tom died in a traffic accident.</td>\n",
              "    </tr>\n",
              "    <tr>\n",
              "      <th>26364</th>\n",
              "      <td>我不是有意要保密的。</td>\n",
              "      <td>I didn't mean to keep it secret.</td>\n",
              "    </tr>\n",
              "    <tr>\n",
              "      <th>26365</th>\n",
              "      <td>早饭吃什么？</td>\n",
              "      <td>What's for breakfast?</td>\n",
              "    </tr>\n",
              "    <tr>\n",
              "      <th>26366</th>\n",
              "      <td>我答应汤姆我会去那里。</td>\n",
              "      <td>I've promised Tom that I'd be there.</td>\n",
              "    </tr>\n",
              "    <tr>\n",
              "      <th>26367</th>\n",
              "      <td>他喝太多啤酒。</td>\n",
              "      <td>He drinks too much beer.</td>\n",
              "    </tr>\n",
              "    <tr>\n",
              "      <th>26368</th>\n",
              "      <td>去年他在海上度過了三個月。</td>\n",
              "      <td>Last year, he spent three months at sea.</td>\n",
              "    </tr>\n",
              "    <tr>\n",
              "      <th>26369</th>\n",
              "      <td>他们坚持让他走。</td>\n",
              "      <td>They insist that he should go.</td>\n",
              "    </tr>\n",
              "    <tr>\n",
              "      <th>26370</th>\n",
              "      <td>偶尔我会讨厌我自己。</td>\n",
              "      <td>I hate myself sometimes.</td>\n",
              "    </tr>\n",
              "    <tr>\n",
              "      <th>26371</th>\n",
              "      <td>我必須幫忙我母親。</td>\n",
              "      <td>I have to help my mother.</td>\n",
              "    </tr>\n",
              "    <tr>\n",
              "      <th>26372</th>\n",
              "      <td>她一劳永逸地告诉我，她不想再见我了。</td>\n",
              "      <td>She told me once and for all that she did not ...</td>\n",
              "    </tr>\n",
              "    <tr>\n",
              "      <th>26373</th>\n",
              "      <td>你们在哪找到我的雨伞的？</td>\n",
              "      <td>Where did you find my umbrella?</td>\n",
              "    </tr>\n",
              "    <tr>\n",
              "      <th>26374</th>\n",
              "      <td>他是这么的无情。</td>\n",
              "      <td>He is so heartless.</td>\n",
              "    </tr>\n",
              "    <tr>\n",
              "      <th>26375</th>\n",
              "      <td>你读完那本小说了吗？</td>\n",
              "      <td>Have you finished reading that novel?</td>\n",
              "    </tr>\n",
              "    <tr>\n",
              "      <th>26376</th>\n",
              "      <td>我什么都不知道。</td>\n",
              "      <td>I don't know anything.</td>\n",
              "    </tr>\n",
              "    <tr>\n",
              "      <th>26377</th>\n",
              "      <td>我對你姐姐感到非常抱歉。</td>\n",
              "      <td>I feel very sorry for your sister.</td>\n",
              "    </tr>\n",
              "    <tr>\n",
              "      <th>26378</th>\n",
              "      <td>你不要跟我一起走嗎？</td>\n",
              "      <td>Aren't you going to go with me?</td>\n",
              "    </tr>\n",
              "    <tr>\n",
              "      <th>26379</th>\n",
              "      <td>她昨天看见一个高大的男人。</td>\n",
              "      <td>She saw a tall man yesterday.</td>\n",
              "    </tr>\n",
              "    <tr>\n",
              "      <th>26380</th>\n",
              "      <td>昨天我收到了她的信。</td>\n",
              "      <td>I received her letter yesterday.</td>\n",
              "    </tr>\n",
              "    <tr>\n",
              "      <th>26381</th>\n",
              "      <td>這些書裡沒有一本是有用的。</td>\n",
              "      <td>None of those books are useful.</td>\n",
              "    </tr>\n",
              "    <tr>\n",
              "      <th>26382</th>\n",
              "      <td>幾乎所有的工作都完成了。</td>\n",
              "      <td>Almost all the work is done now.</td>\n",
              "    </tr>\n",
              "    <tr>\n",
              "      <th>26383</th>\n",
              "      <td>我听说你通过了入学考试。恭喜你了！</td>\n",
              "      <td>I hear you passed the entrance exam. Congratul...</td>\n",
              "    </tr>\n",
              "    <tr>\n",
              "      <th>26384</th>\n",
              "      <td>玛丽是班里面长得最漂亮的女孩。</td>\n",
              "      <td>Mary is the prettiest girl in her class.</td>\n",
              "    </tr>\n",
              "    <tr>\n",
              "      <th>26385</th>\n",
              "      <td>錯在哪裡？</td>\n",
              "      <td>Where was the mistake?</td>\n",
              "    </tr>\n",
              "    <tr>\n",
              "      <th>26386</th>\n",
              "      <td>我做得不如以前好了。</td>\n",
              "      <td>I don't do that as well as I used to.</td>\n",
              "    </tr>\n",
              "    <tr>\n",
              "      <th>26387</th>\n",
              "      <td>我不知道什么时候要在那里。</td>\n",
              "      <td>I don't know when I need to be there.</td>\n",
              "    </tr>\n",
              "  </tbody>\n",
              "</table>\n",
              "</div>"
            ],
            "text/plain": [
              "                         zh                                                 en\n",
              "26338               保镖戴着耳机。             The bodyguard was wearing an earpiece.\n",
              "26339                我刚才在家。                                     I was at home.\n",
              "26340            他英文得到了九十分。                             He got 90% in English.\n",
              "26341        我大学里的第一天相当没意思。  My first day in the university was rather boring.\n",
              "26342               各位，請安靜。                         Everyone, please be quiet.\n",
              "26343         我們把牛奶製成乳酪和奶油。               We make milk into cheese and butter.\n",
              "26344               我不能喝牛奶。                                I can't drink milk.\n",
              "26345             我今天没时间冲澡。         I didn't have time to take a shower today.\n",
              "26346           你们这些人帮不了自己。                  You people can't help yourselves.\n",
              "26347               停止大声说话。                               Stop talking loudly.\n",
              "26348                請再說一次。                           Please say it once more.\n",
              "26349               汤姆不会高兴。                       Tom isn't going to be happy.\n",
              "26350               今天天气很好。                                   It's fine today.\n",
              "26351           我們學校在車站的附近。                    Our school is near the station.\n",
              "26352                我们没迟到。                                    We're not late.\n",
              "26353  英语现已成为世界上许多国家的通用语言了。  English has now become the common language of ...\n",
              "26354            我等一下將清理廚房。                   I'll clean up the kitchen later.\n",
              "26355         汤姆不喜欢妆化太浓的女人。   Tom doesn't like women who wear too much makeup.\n",
              "26356         他給了我任何我需要的幫助。                 He gave me whatever help I needed.\n",
              "26357          我很快樂能參加你的派對。              I will be happy to attend your party.\n",
              "26358             旅行社的利润猛涨。                   Travel agencies' profits soared.\n",
              "26359               我刚去过那里。                             I went there recently.\n",
              "26360          從這裡大約10分鐘車程。           It's about a ten-minute drive from here.\n",
              "26361         你能承认你错了是很伟大的。        It's very big of you to admit you're wrong.\n",
              "26362                汤姆没受伤。                                Tom wasn't injured.\n",
              "26363             湯姆死於交通事故。                    Tom died in a traffic accident.\n",
              "26364            我不是有意要保密的。                   I didn't mean to keep it secret.\n",
              "26365                早饭吃什么？                              What's for breakfast?\n",
              "26366           我答应汤姆我会去那里。               I've promised Tom that I'd be there.\n",
              "26367               他喝太多啤酒。                           He drinks too much beer.\n",
              "26368         去年他在海上度過了三個月。           Last year, he spent three months at sea.\n",
              "26369              他们坚持让他走。                     They insist that he should go.\n",
              "26370            偶尔我会讨厌我自己。                           I hate myself sometimes.\n",
              "26371             我必須幫忙我母親。                          I have to help my mother.\n",
              "26372    她一劳永逸地告诉我，她不想再见我了。  She told me once and for all that she did not ...\n",
              "26373          你们在哪找到我的雨伞的？                    Where did you find my umbrella?\n",
              "26374              他是这么的无情。                                He is so heartless.\n",
              "26375            你读完那本小说了吗？              Have you finished reading that novel?\n",
              "26376              我什么都不知道。                             I don't know anything.\n",
              "26377          我對你姐姐感到非常抱歉。                 I feel very sorry for your sister.\n",
              "26378            你不要跟我一起走嗎？                    Aren't you going to go with me?\n",
              "26379         她昨天看见一个高大的男人。                      She saw a tall man yesterday.\n",
              "26380            昨天我收到了她的信。                   I received her letter yesterday.\n",
              "26381         這些書裡沒有一本是有用的。                    None of those books are useful.\n",
              "26382          幾乎所有的工作都完成了。                   Almost all the work is done now.\n",
              "26383     我听说你通过了入学考试。恭喜你了！  I hear you passed the entrance exam. Congratul...\n",
              "26384       玛丽是班里面长得最漂亮的女孩。           Mary is the prettiest girl in her class.\n",
              "26385                 錯在哪裡？                             Where was the mistake?\n",
              "26386            我做得不如以前好了。              I don't do that as well as I used to.\n",
              "26387         我不知道什么时候要在那里。              I don't know when I need to be there."
            ]
          },
          "metadata": {},
          "execution_count": 15
        }
      ]
    },
    {
      "cell_type": "markdown",
      "metadata": {
        "id": "fs6We4YJdl6h"
      },
      "source": [
        "# 4 데이터 전처리\n",
        "\n",
        "- 4-1) 중문 데이터 간자체 적용 : 데이터에 번체자-간체자 혼용으로 같은 단어가 다른 단어로 인식될 경우를 방지 \n",
        "- 4-2) 데이터 기본 전처리 : 단어 분철 / 영문 데이터 소문자 형태로 변환 / 기본 부호 \n",
        "- 4-3) 모델링 적용을 위한 토크나이징 및 텍스트 데이터 벡터화"
      ]
    },
    {
      "cell_type": "markdown",
      "metadata": {
        "id": "FQPikDHxeTDw"
      },
      "source": [
        "##4-1 중문 데이터 간자체 적용"
      ]
    },
    {
      "cell_type": "code",
      "metadata": {
        "id": "XL0e3gfTedq7"
      },
      "source": [
        "# 데이터 주소 경로\n",
        "path_to_file = '/content/drive/MyDrive/AI_Bootcamp/Project2_Data/new_df.txt'"
      ],
      "execution_count": 16,
      "outputs": []
    },
    {
      "cell_type": "code",
      "metadata": {
        "id": "olQbQCX99Lck"
      },
      "source": [
        "# 간자체 변환 인스턴스 생성\n",
        "cc = OpenCC('t2s')"
      ],
      "execution_count": 17,
      "outputs": []
    },
    {
      "cell_type": "markdown",
      "metadata": {
        "id": "GmZaykZUerCR"
      },
      "source": [
        "##4-2 데이터 기본 전처리\n",
        "\n",
        "- 단어 분철 / 영문 데이터 소문자 형태로 변환 / 기본 부호 처리"
      ]
    },
    {
      "cell_type": "code",
      "metadata": {
        "id": "DNhpfLcV9gpe"
      },
      "source": [
        "# 문서 전처리 함수\n",
        "def preprocess_sentence(w):\n",
        "    # 영문 \n",
        "    w = w.lower().strip()\n",
        "    # 중문 번체 > 간체\n",
        "    w = cc.convert(w)  \n",
        "    w = w.rstrip().strip()\n",
        "    # 분철\n",
        "    w = ' '.join(jieba.lcut(w))\n",
        "    w = re.sub(r'[\" \"]+', \" \", w)\n",
        "    # 단위 문서 구분\n",
        "    w = '<start> ' + w + ' <end>'\n",
        "    return w"
      ],
      "execution_count": 18,
      "outputs": []
    },
    {
      "cell_type": "markdown",
      "metadata": {
        "id": "84qcnZkefpo4"
      },
      "source": [
        "### 예시 문장 전처리 상태 확인"
      ]
    },
    {
      "cell_type": "code",
      "metadata": {
        "colab": {
          "base_uri": "https://localhost:8080/"
        },
        "id": "bQI9UIg393kJ",
        "outputId": "ab3edf93-ca40-421c-9d10-1e1de9f2773e"
      },
      "source": [
        "en_sentence = u\"Please be ready in fifteen minutes.\"\n",
        "cn_sentence = u\"瑪麗很容易發脾氣。\"\n",
        "print(preprocess_sentence(en_sentence))\n",
        "print(preprocess_sentence(cn_sentence))"
      ],
      "execution_count": 19,
      "outputs": [
        {
          "output_type": "stream",
          "name": "stderr",
          "text": [
            "Building prefix dict from the default dictionary ...\n",
            "Dumping model to file cache /tmp/jieba.cache\n",
            "Loading model cost 0.868 seconds.\n",
            "Prefix dict has been built successfully.\n"
          ]
        },
        {
          "output_type": "stream",
          "name": "stdout",
          "text": [
            "<start> please be ready in fifteen minutes . <end>\n",
            "<start> 玛丽 很 容易 发脾气 。 <end>\n"
          ]
        }
      ]
    },
    {
      "cell_type": "markdown",
      "metadata": {
        "id": "evtxevBZf2_Q"
      },
      "source": [
        "### 전처리 완료된 데이터셋 구축"
      ]
    },
    {
      "cell_type": "code",
      "metadata": {
        "id": "md1RuSvl98pu"
      },
      "source": [
        "# 데이터 전처리 완료 및 정제된 문서 파일 반환 / [ENGLISH, CHINESE]\n",
        "def create_dataset(path):\n",
        "    lines = io.open(path, encoding='UTF-8').read().strip().split('\\n')\n",
        "\n",
        "    word_pairs = [[preprocess_sentence(w) for w in l.split('\\t')[:2]]  for l in lines]\n",
        "\n",
        "    return zip(*word_pairs)"
      ],
      "execution_count": 20,
      "outputs": []
    },
    {
      "cell_type": "code",
      "metadata": {
        "id": "xdgeuqhMtwKF"
      },
      "source": [
        "en, cn = create_dataset(path_to_file)"
      ],
      "execution_count": 21,
      "outputs": []
    },
    {
      "cell_type": "markdown",
      "metadata": {
        "id": "6zXLoDTRgDPi"
      },
      "source": [
        "### 전처리 데이터 예시 확인"
      ]
    },
    {
      "cell_type": "code",
      "metadata": {
        "colab": {
          "base_uri": "https://localhost:8080/"
        },
        "id": "xmUFQSLI-BKS",
        "outputId": "0f0c25b0-7b75-4a83-bcd3-43ebffe69bc6"
      },
      "source": [
        "print(cn[26356])\n",
        "print(en[26356])\n",
        "print()\n",
        "print(cn[34])\n",
        "print(en[34])"
      ],
      "execution_count": 22,
      "outputs": [
        {
          "output_type": "stream",
          "name": "stdout",
          "text": [
            "<start> 他 给 了 我 任何 我 需要 的 帮助 。 <end>\n",
            "<start> he gave me whatever help i needed . <end>\n",
            "\n",
            "<start> 我 没有 和 她 相处 过 。 <end>\n",
            "<start> i didn ' t get along with her . <end>\n"
          ]
        }
      ]
    },
    {
      "cell_type": "markdown",
      "metadata": {
        "id": "ggjZNJ9sganj"
      },
      "source": [
        "##4-3 모델링 적용을 위한 텍스트 데이터 벡터화"
      ]
    },
    {
      "cell_type": "code",
      "metadata": {
        "id": "gJtg66c6uFrG"
      },
      "source": [
        "# 문서 최대 길이 확인 함수\n",
        "def max_length(tensor):\n",
        "    return max(len(t) for t in tensor)"
      ],
      "execution_count": 23,
      "outputs": []
    },
    {
      "cell_type": "markdown",
      "metadata": {
        "id": "F5mMVu6XhPJh"
      },
      "source": [
        "### 문서 토크나이징 및 텍스트 벡터화"
      ]
    },
    {
      "cell_type": "code",
      "metadata": {
        "id": "nSclp9JuuH_2"
      },
      "source": [
        "# 토크나이징 함수\n",
        "def tokenizing(lang):\n",
        "  lang_tokenizer = tf.keras.preprocessing.text.Tokenizer(filters='')\n",
        "  lang_tokenizer.fit_on_texts(lang)\n",
        "\n",
        "  tensor = lang_tokenizer.texts_to_sequences(lang)\n",
        "\n",
        "  tensor = tf.keras.preprocessing.sequence.pad_sequences(tensor, padding='post')\n",
        "\n",
        "  return tensor, lang_tokenizer"
      ],
      "execution_count": 24,
      "outputs": []
    },
    {
      "cell_type": "markdown",
      "metadata": {
        "id": "njWPyKShhi18"
      },
      "source": [
        "###토크나이저 함수 데이터 적용\n",
        "\n",
        "- 입력 언어 데이터(중문) 및 출력 언어 데이터(영문)에 토크나이징 적용"
      ]
    },
    {
      "cell_type": "code",
      "metadata": {
        "id": "s5HKw5wOuf-V"
      },
      "source": [
        "# 토크나이징 데이터 적용 함수 (입력 언어 : 중문, 타겟 언어 : 영문)\n",
        "def load_dataset(path):\n",
        "    \n",
        "    target_lang, input_lang = create_dataset(path)\n",
        "\n",
        "    input_tensor, input_lang_tokenizer = tokenizing(input_lang)\n",
        "    target_tensor, target_lang_tokenizer = tokenizing(target_lang)\n",
        "\n",
        "    return input_tensor, target_tensor, input_lang_tokenizer, target_lang_tokenizer"
      ],
      "execution_count": 25,
      "outputs": []
    },
    {
      "cell_type": "code",
      "metadata": {
        "id": "EhPvN_cdvots"
      },
      "source": [
        "# 토크나이징 함수 적용\n",
        "input_tensor, target_tensor, inp_lang, targ_lang = load_dataset(path_to_file)\n",
        "\n",
        "# 타겟변수 문서 최대 길이 출력\n",
        "max_length_targ, max_length_inp = max_length(target_tensor), max_length(input_tensor)"
      ],
      "execution_count": 26,
      "outputs": []
    },
    {
      "cell_type": "markdown",
      "metadata": {
        "id": "kJtDWKlUh8sG"
      },
      "source": [
        "###문서 최대 길이 확인"
      ]
    },
    {
      "cell_type": "code",
      "metadata": {
        "id": "Ipj6JDTOTdAN",
        "colab": {
          "base_uri": "https://localhost:8080/"
        },
        "outputId": "2bbcba78-69af-4d7d-bff3-3b7fb572373d"
      },
      "source": [
        "print(\"중문 최대 문서 길이:\", max_length_inp) \n",
        "print(\"영문 최대 문서 길이:\", max_length_targ)"
      ],
      "execution_count": 28,
      "outputs": [
        {
          "output_type": "stream",
          "name": "stdout",
          "text": [
            "중문 최대 문서 길이: 32\n",
            "영문 최대 문서 길이: 40\n"
          ]
        }
      ]
    },
    {
      "cell_type": "markdown",
      "metadata": {
        "id": "T6fcqbykiNKb"
      },
      "source": [
        "#5 모델링"
      ]
    },
    {
      "cell_type": "markdown",
      "metadata": {
        "id": "72rMbelNjl2-"
      },
      "source": [
        "## 5-1 모델링 준비"
      ]
    },
    {
      "cell_type": "markdown",
      "metadata": {
        "id": "7gBXXJkOjtRQ"
      },
      "source": [
        "### 데이터셋 분할"
      ]
    },
    {
      "cell_type": "code",
      "metadata": {
        "id": "GqMVTkqlThxk"
      },
      "source": [
        "# 데이터셋 분할 (학습/테스트 - 9:1)\n",
        "input_tensor_train, input_tensor_test, target_tensor_train, target_tensor_test = train_test_split(input_tensor, target_tensor, test_size=0.1) "
      ],
      "execution_count": 29,
      "outputs": []
    },
    {
      "cell_type": "code",
      "metadata": {
        "id": "WOtpURnQYBpZ",
        "colab": {
          "base_uri": "https://localhost:8080/"
        },
        "outputId": "52a94f4b-2541-40b8-863c-acfe7a2bc069"
      },
      "source": [
        "print(input_tensor_train.shape, input_tensor_test.shape) # 중문 데이터"
      ],
      "execution_count": 30,
      "outputs": [
        {
          "output_type": "stream",
          "name": "stdout",
          "text": [
            "(23749, 32) (2639, 32)\n"
          ]
        }
      ]
    },
    {
      "cell_type": "code",
      "metadata": {
        "id": "CjvdlxBsYI_L",
        "colab": {
          "base_uri": "https://localhost:8080/"
        },
        "outputId": "a4f1ae2f-757d-4804-980e-5c7e75601883"
      },
      "source": [
        "print(target_tensor_train.shape, target_tensor_test.shape) # 영문 데이터"
      ],
      "execution_count": 31,
      "outputs": [
        {
          "output_type": "stream",
          "name": "stdout",
          "text": [
            "(23749, 40) (2639, 40)\n"
          ]
        }
      ]
    },
    {
      "cell_type": "markdown",
      "metadata": {
        "id": "62JObAVwjz-G"
      },
      "source": [
        "### 데이터 단어 id 맵핑 확인"
      ]
    },
    {
      "cell_type": "code",
      "metadata": {
        "id": "eB7CpgY0Yte5"
      },
      "source": [
        "# 데이터 id 맵핑 확인\n",
        "def convert(lang, tensor):\n",
        "  for t in tensor:\n",
        "    if t!=0:\n",
        "      print (\"%d ----> %s\" % (t, lang.index_word[t]))"
      ],
      "execution_count": 32,
      "outputs": []
    },
    {
      "cell_type": "code",
      "metadata": {
        "id": "o1-dBI9lY7Nb",
        "colab": {
          "base_uri": "https://localhost:8080/"
        },
        "outputId": "ec5adec1-0f70-40b5-d2ce-5305aec703fd"
      },
      "source": [
        "# 학습 데이터 \n",
        "print(\"Input Language; index to word mapping\")\n",
        "convert(inp_lang, input_tensor_train[18888])\n",
        "print()\n",
        "print (\"Target Language; index to word mapping\")\n",
        "convert(targ_lang, target_tensor_train[18888])"
      ],
      "execution_count": 33,
      "outputs": [
        {
          "output_type": "stream",
          "name": "stdout",
          "text": [
            "Input Language; index to word mapping\n",
            "1 ----> <start>\n",
            "752 ----> 抓住\n",
            "8 ----> 他\n",
            "3 ----> 。\n",
            "2 ----> <end>\n",
            "\n",
            "Target Language; index to word mapping\n",
            "1 ----> <start>\n",
            "566 ----> catch\n",
            "52 ----> him\n",
            "3 ----> .\n",
            "2 ----> <end>\n"
          ]
        }
      ]
    },
    {
      "cell_type": "code",
      "metadata": {
        "colab": {
          "base_uri": "https://localhost:8080/"
        },
        "id": "M5sMiAvph-o0",
        "outputId": "d1d2e963-cf6e-47ed-cfed-33e15b828fb4"
      },
      "source": [
        "# 테스트 데이터 \n",
        "print(\"Input Language; index to word mapping\")\n",
        "convert(inp_lang, input_tensor_test[1770])\n",
        "print()\n",
        "print (\"Target Language; index to word mapping\")\n",
        "convert(targ_lang, target_tensor_test[1770])"
      ],
      "execution_count": 34,
      "outputs": [
        {
          "output_type": "stream",
          "name": "stdout",
          "text": [
            "Input Language; index to word mapping\n",
            "1 ----> <start>\n",
            "28 ----> 一个\n",
            "1122 ----> 外国\n",
            "380 ----> 语言\n",
            "172 ----> 无法\n",
            "11 ----> 在\n",
            "783 ----> 一年\n",
            "915 ----> 左右\n",
            "41 ----> 就\n",
            "58 ----> 被\n",
            "2460 ----> 掌握\n",
            "3 ----> 。\n",
            "2 ----> <end>\n",
            "\n",
            "Target Language; index to word mapping\n",
            "1 ----> <start>\n",
            "9 ----> a\n",
            "753 ----> foreign\n",
            "470 ----> language\n",
            "34 ----> can\n",
            "5 ----> '\n",
            "13 ----> t\n",
            "40 ----> be\n",
            "3760 ----> mastered\n",
            "15 ----> in\n",
            "9 ----> a\n",
            "204 ----> year\n",
            "180 ----> or\n",
            "106 ----> so\n",
            "3 ----> .\n",
            "2 ----> <end>\n"
          ]
        }
      ]
    },
    {
      "cell_type": "markdown",
      "metadata": {
        "id": "Hy1dUAiPkKxV"
      },
      "source": [
        "### tf.data 데이터셋 생성하기\n",
        "\n",
        "-  tf.data API를 사용하면 간단하고 재사용 가능한 단위 데이터로 \n",
        "복잡한 입력 파이프 라인을 빌드할 수 있다."
      ]
    },
    {
      "cell_type": "code",
      "metadata": {
        "id": "4iHUjOUSaoIo",
        "colab": {
          "base_uri": "https://localhost:8080/"
        },
        "outputId": "c940c889-d51c-4a73-e251-86659779ce68"
      },
      "source": [
        "# tf.data 데이터셋 생성\n",
        "\n",
        "\"\"\"\n",
        "tf.data 사용 이유 : tf.data API를 사용하면 간단하고 재사용 가능한 단위 데이터로 \n",
        "복잡한 입력 파이프 라인을 빌드할 수 있다. 텍스트 모델의 파이프라인에는 원시 텍스트 데이터에서 심볼을 추출하고, \n",
        "이를 룩업 테이블이 있는 embedding 식별자로 변환하며, 길이가 서로 다른 시퀀스를 batch 처리하는 과정이 포함될 수 있다. \n",
        "tf.data API를 사용하면 많은 양의 데이터를 처리하고 여러 데이터 형식에서 데이터를 읽으며 복잡한 변환을 수행할 수 있다.\n",
        "\"\"\"\n",
        "\n",
        "BUFFER_SIZE = len(input_tensor_train)\n",
        "BATCH_SIZE = 10\n",
        "steps_per_epoch = len(input_tensor_train)//BATCH_SIZE\n",
        "embedding_dim = 256\n",
        "units = 1024\n",
        "vocab_inp_size = len(inp_lang.word_index)+1\n",
        "vocab_tar_size = len(targ_lang.word_index)+1\n",
        "\n",
        "dataset = tf.data.Dataset.from_tensor_slices((input_tensor_train, target_tensor_train)).shuffle(BUFFER_SIZE)\n",
        "dataset = dataset.batch(BATCH_SIZE, drop_remainder=True)\n",
        "dataset"
      ],
      "execution_count": 35,
      "outputs": [
        {
          "output_type": "execute_result",
          "data": {
            "text/plain": [
              "<BatchDataset shapes: ((10, 32), (10, 40)), types: (tf.int32, tf.int32)>"
            ]
          },
          "metadata": {},
          "execution_count": 35
        }
      ]
    },
    {
      "cell_type": "code",
      "metadata": {
        "id": "j-hh_Cbbf5sU",
        "colab": {
          "base_uri": "https://localhost:8080/"
        },
        "outputId": "d1689183-6314-4cf9-97db-cdc11a4c5007"
      },
      "source": [
        "example_input_batch, example_target_batch = next(iter(dataset))\n",
        "example_input_batch.shape, example_target_batch.shape"
      ],
      "execution_count": 36,
      "outputs": [
        {
          "output_type": "execute_result",
          "data": {
            "text/plain": [
              "(TensorShape([10, 32]), TensorShape([10, 40]))"
            ]
          },
          "metadata": {},
          "execution_count": 36
        }
      ]
    },
    {
      "cell_type": "markdown",
      "metadata": {
        "id": "yuXzaq3okvZY"
      },
      "source": [
        "##5-2 모델링 실시"
      ]
    },
    {
      "cell_type": "markdown",
      "metadata": {
        "id": "ccK-EEg1lTr6"
      },
      "source": [
        "### 어텐션 모델 설명 \n",
        "\n",
        "- 기존 RNN Seq2Seq 모델의 문제점 \n",
        "   - 하나의 고정된 크기의 벡터에 모든 정보를 압축하려고 하니까 정보 손실이   발생.\n",
        "   - RNN의 고질적인 문제인 기울기 소실(Vanishing Gradient) 문제가 존재. >>\n",
        "    입력 문장이 길어질수록 번역 품질이 저하된다.\n",
        "\n",
        "<br>\n",
        "\n",
        "- 어텐션 아이디어 : 디코더(Decoder)에서 출력 단어를 예측하는 매 시점(time-step)마다, 인코더에서의 전체 입력 문장을 다시 한 번 참고한다는 점 입니다. 하지만 동일한 비율로 참고하는 것이 아니라, 해당 시점에서 예측해야 할 단어와 연관이 있는 입력 단어 부분을 좀 더 집중(attention)해서 봄.\n",
        "\n",
        "<br> \n",
        "\n",
        "- 기존 Seq2Seq 모델의 문맥 벡터(Context Vector)가 고정된 사이즈인 점과 비교할 때 어텐션 기반의 Seq2Seq 모델의 문맥 벡터는 'Dynamic context vector'로 불리며, 인코더 파트의 state값들이 항상 사용되어 모델의 성능을 높인다. "
      ]
    },
    {
      "cell_type": "markdown",
      "metadata": {
        "id": "Wbsb_Pa_-S4G"
      },
      "source": [
        "<img src=\"https://raw.githubusercontent.com/ZhouNLP/tf_nmt-att/master/img/1.png\" width=\"500\" alt=\"attention mechanism\">"
      ]
    },
    {
      "cell_type": "markdown",
      "metadata": {
        "id": "Wok5ar4Hlk2E"
      },
      "source": [
        "###Encoder Part"
      ]
    },
    {
      "cell_type": "code",
      "metadata": {
        "id": "GMxMwu4bgR34"
      },
      "source": [
        "# encoder / decoder 모델링\n",
        "\n",
        "class Encoder(tf.keras.Model):\n",
        "  def __init__(self, vocab_size, embedding_dim, enc_units, batch_sz):\n",
        "    super(Encoder, self).__init__()\n",
        "    self.batch_sz = batch_sz\n",
        "    self.enc_units = enc_units\n",
        "    self.embedding = tf.keras.layers.Embedding(vocab_size, embedding_dim)\n",
        "    self.gru = tf.keras.layers.GRU(self.enc_units,\n",
        "                                   return_sequences=True,\n",
        "                                   return_state=True,\n",
        "                                   recurrent_initializer='glorot_uniform')\n",
        "\n",
        "  def call(self, x, hidden):\n",
        "    x = self.embedding(x) # 디코더 입력값\n",
        "    output, state = self.gru(x, initial_state = hidden)\n",
        "    return output, state\n",
        "\n",
        "  def initialize_hidden_state(self):\n",
        "    return tf.zeros((self.batch_sz, self.enc_units))"
      ],
      "execution_count": 37,
      "outputs": []
    },
    {
      "cell_type": "code",
      "metadata": {
        "id": "jPA3ZHu6lI-t",
        "colab": {
          "base_uri": "https://localhost:8080/"
        },
        "outputId": "5d4ed897-8d17-4465-d691-cc89d43c02b4"
      },
      "source": [
        "# 인코더 인스턴스 생성\n",
        "encoder = Encoder(vocab_inp_size, embedding_dim, units, BATCH_SIZE)\n",
        "\n",
        "# 샘플 데이터 인코딩\n",
        "sample_hidden = encoder.initialize_hidden_state()\n",
        "sample_output, sample_hidden = encoder(example_input_batch, sample_hidden)\n",
        "print ('Encoder output shape: (batch size, sequence length, units) {}'.format(sample_output.shape))\n",
        "print ('Encoder Hidden state shape: (batch size, units) {}'.format(sample_hidden.shape))"
      ],
      "execution_count": 38,
      "outputs": [
        {
          "output_type": "stream",
          "name": "stdout",
          "text": [
            "Encoder output shape: (batch size, sequence length, units) (10, 32, 1024)\n",
            "Encoder Hidden state shape: (batch size, units) (10, 1024)\n"
          ]
        }
      ]
    },
    {
      "cell_type": "markdown",
      "metadata": {
        "id": "F6eTcPy1lus8"
      },
      "source": [
        "### BahdanauAttention Part\n",
        "\n"
      ]
    },
    {
      "cell_type": "code",
      "metadata": {
        "id": "Q6Skj-2al2pC"
      },
      "source": [
        "# BahdanauAttention\n",
        "\"\"\"\n",
        "바다나우 어텐션 메카니즘 프로세스\n",
        "\n",
        "1) 어텐션 스코어 계산\n",
        "2) 소프트맥스 함수를 통한 어텐션 분포 계산(어텐션 가중치 >> 어텐션 분포)\n",
        "3) 각 인코더의 어텐션 가중치와 은닉 상태를 가중합하여 어텐션 값(Attention Value) 계산 >> 컨텍스트 벡터\n",
        "4) 컨텍스트 벡터로부터 현 타임스탭의 예측값을 구한다. >> 디코더 파트\n",
        "\n",
        "\"\"\"\n",
        "\n",
        "class BahdanauAttention(tf.keras.layers.Layer):\n",
        "  def __init__(self, units):\n",
        "    super(BahdanauAttention, self).__init__()\n",
        "    self.W1 = tf.keras.layers.Dense(units) # 학습 가중치 행렬\n",
        "    self.W2 = tf.keras.layers.Dense(units)\n",
        "    self.V = tf.keras.layers.Dense(1)\n",
        "\n",
        "  def call(self, query, values):\n",
        "    # 쿼리 은닉 상태(query hidden state)는 (batch_size, hidden size)쌍으로 구성\n",
        "    # query_with_time_axis은 (batch_size, 1, hidden size)쌍으로 구성\n",
        "    # values는 (batch_size, max_len, hidden size)쌍으로 구성\n",
        "    # 스코어(score)계산을 위해 덧셈을 수행하고자 시간 축을 확장하여 아래의 과정을 수행 \n",
        "    hidden_with_time_axis = tf.expand_dims(query, 1)\n",
        "\n",
        "    # score는 (batch_size, max_length, 1)으로 구성\n",
        "    # score를 self.V에 적용하기 때문에 마지막 축에 1을 얻음\n",
        "    # self.V에 적용하기 전에 텐서는 (batch_size, max_length, units)쌍으로 구성\n",
        "    score = self.V(tf.nn.tanh(\n",
        "        self.W1(values) + self.W2(hidden_with_time_axis)))\n",
        "\n",
        "    # attention_weights\n",
        "    attention_weights = tf.nn.softmax(score, axis=1) # (batch_size, max_length, 1) >> 소프트맥스 함수를 통해 어텐션 분포를 구한다.\n",
        "\n",
        "    # context_vector(가중합 벡터)\n",
        "    \"\"\"\n",
        "    i번째 단어의 번역위해 원 문장의 모든 단어 중요도를 고려한다.\n",
        "    Encoder의 hidden state에 대해 가중평균을 담는다.\n",
        "    타겟 문장의 i번째 단어와 관련성 높은 은닉층에 높은 가중치를 부여하게 된다.\n",
        "    \"\"\"\n",
        "    context_vector = attention_weights * values\n",
        "    context_vector = tf.reduce_sum(context_vector, axis=1) # (batch_size, hidden_size)\n",
        "\n",
        "    return context_vector, attention_weights"
      ],
      "execution_count": 39,
      "outputs": []
    },
    {
      "cell_type": "code",
      "metadata": {
        "id": "Uah0ubgVl-c-",
        "colab": {
          "base_uri": "https://localhost:8080/"
        },
        "outputId": "a567abbc-3ebb-4cce-e661-b2d1a0f6106d"
      },
      "source": [
        "attention_layer = BahdanauAttention(10)\n",
        "attention_result, attention_weights = attention_layer(sample_hidden, sample_output)\n",
        "\n",
        "print(\"Attention result shape: (batch size, units) {}\".format(attention_result.shape))\n",
        "print(\"Attention weights shape: (batch_size, sequence_length, 1) {}\".format(attention_weights.shape))"
      ],
      "execution_count": 40,
      "outputs": [
        {
          "output_type": "stream",
          "name": "stdout",
          "text": [
            "Attention result shape: (batch size, units) (10, 1024)\n",
            "Attention weights shape: (batch_size, sequence_length, 1) (10, 32, 1)\n"
          ]
        }
      ]
    },
    {
      "cell_type": "markdown",
      "metadata": {
        "id": "Z0WoEVa5l4Y1"
      },
      "source": [
        "### Decoder Part"
      ]
    },
    {
      "cell_type": "code",
      "metadata": {
        "id": "60R4HspPmOwC"
      },
      "source": [
        "class Decoder(tf.keras.Model):\n",
        "  def __init__(self, vocab_size, embedding_dim, dec_units, batch_sz):\n",
        "    super(Decoder, self).__init__()\n",
        "    self.batch_sz = batch_sz\n",
        "    self.dec_units = dec_units\n",
        "    self.embedding = tf.keras.layers.Embedding(vocab_size, embedding_dim)\n",
        "    self.gru = tf.keras.layers.GRU(self.dec_units,\n",
        "                                   return_sequences=True,\n",
        "                                   return_state=True,\n",
        "                                   recurrent_initializer='glorot_uniform')\n",
        "    self.fc = tf.keras.layers.Dense(vocab_size)\n",
        "\n",
        "    # 어텐션 사용\n",
        "    self.attention = BahdanauAttention(self.dec_units)\n",
        "\n",
        "  def call(self, x, hidden, enc_output):\n",
        "    # enc_output\n",
        "    context_vector, attention_weights = self.attention(hidden, enc_output) # (batch_size, max_length, hidden_size)\n",
        "\n",
        "    # 임베딩층 통과 \n",
        "    x = self.embedding(x) # (batch_size, 1, embedding_dim)\n",
        "\n",
        "    # context vector + 임베딩 결과를 결합\n",
        "    x = tf.concat([tf.expand_dims(context_vector, 1), x], axis=-1) # (batch_size, 1, embedding_dim + hidden_size)\n",
        "\n",
        "    # 결과 x값을 GRU층에 전달\n",
        "    output, state = self.gru(x)\n",
        "\n",
        "    # output\n",
        "    output = tf.reshape(output, (-1, output.shape[2])) # (batch_size * 1, hidden_size)\n",
        "\n",
        "    # \n",
        "    x = self.fc(output) # (batch_size, vocab)\n",
        "\n",
        "    return x, state, attention_weights"
      ],
      "execution_count": 41,
      "outputs": []
    },
    {
      "cell_type": "code",
      "metadata": {
        "id": "ASu-j64JmWSS",
        "colab": {
          "base_uri": "https://localhost:8080/"
        },
        "outputId": "13f33dd2-c40b-48f8-c134-b6e16f79ac19"
      },
      "source": [
        "# 디코더 인스턴스 생성\n",
        "decoder = Decoder(vocab_tar_size, embedding_dim, units, BATCH_SIZE)\n",
        "\n",
        "sample_decoder_output, _, _ = decoder(tf.random.uniform((10, 1)), sample_hidden, sample_output)\n",
        "print ('Decoder output shape: (batch_size, vocab size) {}'.format(sample_decoder_output.shape))"
      ],
      "execution_count": 42,
      "outputs": [
        {
          "output_type": "stream",
          "name": "stdout",
          "text": [
            "Decoder output shape: (batch_size, vocab size) (10, 6868)\n"
          ]
        }
      ]
    },
    {
      "cell_type": "markdown",
      "metadata": {
        "id": "4lB5GlXJmAWX"
      },
      "source": [
        "### 최적화 및 손실 함수 정의"
      ]
    },
    {
      "cell_type": "code",
      "metadata": {
        "id": "WFRTnhz6meuo"
      },
      "source": [
        "# 최적화/손실 함수 정의\n",
        "optimizer = tf.keras.optimizers.Adam()\n",
        "loss_object = tf.keras.losses.SparseCategoricalCrossentropy(\n",
        "    from_logits=True, reduction='none')\n",
        "\n",
        "def loss_function(real, pred):\n",
        "  mask = tf.math.logical_not(tf.math.equal(real, 0))\n",
        "  loss_ = loss_object(real, pred)\n",
        "\n",
        "  mask = tf.cast(mask, dtype=loss_.dtype)\n",
        "  loss_ *= mask\n",
        "\n",
        "  return tf.reduce_mean(loss_)"
      ],
      "execution_count": 43,
      "outputs": []
    },
    {
      "cell_type": "markdown",
      "metadata": {
        "id": "vsWIa18BmFvH"
      },
      "source": [
        "### 모델 Check-Point 설정"
      ]
    },
    {
      "cell_type": "code",
      "metadata": {
        "id": "Nu5ylVyqmr_Z"
      },
      "source": [
        "# check-point 설정\n",
        "checkpoint_dir = './training_checkpoints'\n",
        "checkpoint_prefix = os.path.join(checkpoint_dir, \"ckpt\")\n",
        "checkpoint = tf.train.Checkpoint(optimizer=optimizer,\n",
        "                                 encoder=encoder,\n",
        "                                 decoder=decoder)"
      ],
      "execution_count": 44,
      "outputs": []
    },
    {
      "cell_type": "markdown",
      "metadata": {
        "id": "17skl9bimP29"
      },
      "source": [
        "### 모델 학습\n",
        "\n",
        "- cf) 교사 강요(teacher forcing)을 사용한 모델 학습 : 디코더에 대한 다음 입력값을 결정하기 위해서 교사 강요(teacher forcing)를 사용, \n",
        "교사 강요(teacher forcing)는 타겟 단어가 디코더에 다음 입력값으로 전달하기 위한 기술로서, 정답값을 입력으로 넣어 모델 학습을 빠르고 효율적으로 진행한다."
      ]
    },
    {
      "cell_type": "code",
      "metadata": {
        "id": "GfMxsGAvmxFm"
      },
      "source": [
        "\"\"\"\n",
        "<modeling process>\n",
        "\n",
        "1. 인코더 결과와 인코더 은닉 상태(hidden state)를 반환하는 인코더를 통해서 입력을 전달\n",
        "2. 인코더 결과, 인코더 은닉 상태(hidden state), 디코더 입력 (start 토큰)을 디코더에 전달\n",
        "3. 전달 받은 값을 통해 디코더는 예측 값과 디코더 은닉 상태(hidden state)를 반환\n",
        "4. 그 다음에 디코더 은닉 상태(hidden state)가 다시 모델에 전달되고 예측 값을 사용하여 손실을 계산\n",
        "5 .디코더에 대한 다음 입력을 결정하기 위해서 교사 강요(teacher forcing)를 사용\n",
        "6. *** 교사 강요(teacher forcing)는 타겟 단어가 디코더에 다음 입력으로 전달하기 위한 기술입니다.\n",
        "6. 마지막 단계는 그레디언트(gradients)를 계산하여 이를 옵티마이저(optimizer)와 역전파(backpropagate)에 적용\n",
        "\n",
        "\"\"\"\n",
        "\n",
        "@tf.function\n",
        "def train_step(inp, targ, enc_hidden):\n",
        "  loss = 0\n",
        "\n",
        "  with tf.GradientTape() as tape:\n",
        "    enc_output, enc_hidden = encoder(inp, enc_hidden) # 입력값 인코딩\n",
        "\n",
        "    dec_hidden = enc_hidden # Initialize the decoder's state to the encoder's final state.\n",
        "\n",
        "    dec_input = tf.expand_dims([targ_lang.word_index['<start>']] * BATCH_SIZE, 1)\n",
        " \n",
        "    # Pass in two tokens from the target sequence:\n",
        "    # The target for the decoder's next prediction.\n",
        "    for t in range(1, targ.shape[1]):\n",
        "      # The current input to the decoder.\n",
        "      predictions, dec_hidden, _ = decoder(dec_input, dec_hidden, enc_output)\n",
        "\n",
        "      loss += loss_function(targ[:, t], predictions)\n",
        "\n",
        "      # 교사 강요(teacher forcing) 사용\n",
        "      dec_input = tf.expand_dims(targ[:, t], 1)\n",
        "\n",
        "  # Average the loss over all non padding tokens.\n",
        "  batch_loss = (loss / int(targ.shape[1]))\n",
        "\n",
        "   # Apply an optimization step\n",
        "  variables = encoder.trainable_variables + decoder.trainable_variables\n",
        "  gradients = tape.gradient(loss, variables)\n",
        "  optimizer.apply_gradients(zip(gradients, variables))\n",
        "\n",
        "  return batch_loss"
      ],
      "execution_count": 45,
      "outputs": []
    },
    {
      "cell_type": "markdown",
      "metadata": {
        "id": "BWion2d0mbtq"
      },
      "source": [
        "##5-3 모델링 결과 분석"
      ]
    },
    {
      "cell_type": "code",
      "metadata": {
        "id": "jtKOcz4Im4SM",
        "colab": {
          "base_uri": "https://localhost:8080/"
        },
        "outputId": "7c0cbcdd-47f0-4258-b739-c76c9b2903bb"
      },
      "source": [
        "epochs = 10\n",
        "\n",
        "for epoch in range(epochs):\n",
        "  start = time.time()\n",
        "\n",
        "  enc_hidden = encoder.initialize_hidden_state()\n",
        "  total_loss = 0\n",
        "\n",
        "  for (batch, (inp, targ)) in enumerate(dataset.take(steps_per_epoch)):\n",
        "    batch_loss = train_step(inp, targ, enc_hidden)\n",
        "    total_loss += batch_loss\n",
        "\n",
        "    if batch % 400 == 0:\n",
        "        print('Epoch {} Batch {} Loss {:.4f}'.format(epoch + 1, batch, batch_loss.numpy()))\n",
        "\n",
        "  # epoch가 2번 실행될 때마다, 모델 저장      \n",
        "  if (epoch + 1) % 2 == 0:\n",
        "    checkpoint.save(file_prefix = checkpoint_prefix)\n",
        "\n",
        "  print('Epoch {} Loss {:.4f}'.format(epoch + 1, total_loss / steps_per_epoch)) # 1 epoch당 평균 loss값  \n",
        "  print('Time taken for 1 epoch {} sec\\n'.format(time.time() - start)) # 1 epoch당 시간 소요량"
      ],
      "execution_count": 46,
      "outputs": [
        {
          "output_type": "stream",
          "name": "stdout",
          "text": [
            "Epoch 1 Batch 0 Loss 1.9657\n",
            "Epoch 1 Batch 400 Loss 0.9381\n",
            "Epoch 1 Batch 800 Loss 0.8632\n",
            "Epoch 1 Batch 1200 Loss 0.7727\n",
            "Epoch 1 Batch 1600 Loss 0.6511\n",
            "Epoch 1 Batch 2000 Loss 0.9613\n",
            "Epoch 1 Loss 0.8799\n",
            "Time taken for 1 epoch 369.9931378364563 sec\n",
            "\n",
            "Epoch 2 Batch 0 Loss 0.7341\n",
            "Epoch 2 Batch 400 Loss 0.6660\n",
            "Epoch 2 Batch 800 Loss 0.6172\n",
            "Epoch 2 Batch 1200 Loss 0.6112\n",
            "Epoch 2 Batch 1600 Loss 0.7961\n",
            "Epoch 2 Batch 2000 Loss 0.5173\n",
            "Epoch 2 Loss 0.6538\n",
            "Time taken for 1 epoch 310.3597927093506 sec\n",
            "\n",
            "Epoch 3 Batch 0 Loss 0.4788\n",
            "Epoch 3 Batch 400 Loss 0.4520\n",
            "Epoch 3 Batch 800 Loss 0.5787\n",
            "Epoch 3 Batch 1200 Loss 0.4816\n",
            "Epoch 3 Batch 1600 Loss 0.5324\n",
            "Epoch 3 Batch 2000 Loss 0.3558\n",
            "Epoch 3 Loss 0.4720\n",
            "Time taken for 1 epoch 309.8066232204437 sec\n",
            "\n",
            "Epoch 4 Batch 0 Loss 0.3464\n",
            "Epoch 4 Batch 400 Loss 0.5050\n",
            "Epoch 4 Batch 800 Loss 0.3293\n",
            "Epoch 4 Batch 1200 Loss 0.2780\n",
            "Epoch 4 Batch 1600 Loss 0.3785\n",
            "Epoch 4 Batch 2000 Loss 0.4331\n",
            "Epoch 4 Loss 0.3283\n",
            "Time taken for 1 epoch 309.67040634155273 sec\n",
            "\n",
            "Epoch 5 Batch 0 Loss 0.2863\n",
            "Epoch 5 Batch 400 Loss 0.2157\n",
            "Epoch 5 Batch 800 Loss 0.2714\n",
            "Epoch 5 Batch 1200 Loss 0.2479\n",
            "Epoch 5 Batch 1600 Loss 0.1627\n",
            "Epoch 5 Batch 2000 Loss 0.2766\n",
            "Epoch 5 Loss 0.2221\n",
            "Time taken for 1 epoch 309.0182180404663 sec\n",
            "\n",
            "Epoch 6 Batch 0 Loss 0.0986\n",
            "Epoch 6 Batch 400 Loss 0.1643\n",
            "Epoch 6 Batch 800 Loss 0.1221\n",
            "Epoch 6 Batch 1200 Loss 0.1309\n",
            "Epoch 6 Batch 1600 Loss 0.1049\n",
            "Epoch 6 Batch 2000 Loss 0.2824\n",
            "Epoch 6 Loss 0.1515\n",
            "Time taken for 1 epoch 309.27219104766846 sec\n",
            "\n",
            "Epoch 7 Batch 0 Loss 0.1123\n",
            "Epoch 7 Batch 400 Loss 0.1587\n",
            "Epoch 7 Batch 800 Loss 0.0560\n",
            "Epoch 7 Batch 1200 Loss 0.1011\n",
            "Epoch 7 Batch 1600 Loss 0.1314\n",
            "Epoch 7 Batch 2000 Loss 0.1874\n",
            "Epoch 7 Loss 0.1095\n",
            "Time taken for 1 epoch 308.7889823913574 sec\n",
            "\n",
            "Epoch 8 Batch 0 Loss 0.0304\n",
            "Epoch 8 Batch 400 Loss 0.0255\n",
            "Epoch 8 Batch 800 Loss 0.0712\n",
            "Epoch 8 Batch 1200 Loss 0.1417\n",
            "Epoch 8 Batch 1600 Loss 0.1748\n",
            "Epoch 8 Batch 2000 Loss 0.0992\n",
            "Epoch 8 Loss 0.0859\n",
            "Time taken for 1 epoch 309.58482360839844 sec\n",
            "\n",
            "Epoch 9 Batch 0 Loss 0.0858\n",
            "Epoch 9 Batch 400 Loss 0.0495\n",
            "Epoch 9 Batch 800 Loss 0.0980\n",
            "Epoch 9 Batch 1200 Loss 0.0484\n",
            "Epoch 9 Batch 1600 Loss 0.0959\n",
            "Epoch 9 Batch 2000 Loss 0.0740\n",
            "Epoch 9 Loss 0.0721\n",
            "Time taken for 1 epoch 311.35067558288574 sec\n",
            "\n",
            "Epoch 10 Batch 0 Loss 0.0988\n",
            "Epoch 10 Batch 400 Loss 0.0433\n",
            "Epoch 10 Batch 800 Loss 0.0831\n",
            "Epoch 10 Batch 1200 Loss 0.0608\n",
            "Epoch 10 Batch 1600 Loss 0.0380\n",
            "Epoch 10 Batch 2000 Loss 0.0623\n",
            "Epoch 10 Loss 0.0630\n",
            "Time taken for 1 epoch 310.631716966629 sec\n",
            "\n"
          ]
        }
      ]
    },
    {
      "cell_type": "markdown",
      "metadata": {
        "id": "86zKt_qJnE2W"
      },
      "source": [
        "# 6 모델 테스트 및 평가"
      ]
    },
    {
      "cell_type": "markdown",
      "metadata": {
        "id": "iEPkcWJdndGz"
      },
      "source": [
        "## 6-1 모델 평가 함수"
      ]
    },
    {
      "cell_type": "code",
      "metadata": {
        "id": "1Ig9Y7vrcr0V"
      },
      "source": [
        "# cf) 평가 함수는 교사 강요 제외\n",
        "def evaluate(sentence):\n",
        "    attention_plot = np.zeros((max_length_targ, max_length_inp))\n",
        "\n",
        "    sentence = preprocess_sentence(sentence)\n",
        "\n",
        "    inputs = [inp_lang.word_index[i] for i in sentence.split(' ')]\n",
        "    inputs = tf.keras.preprocessing.sequence.pad_sequences([inputs],\n",
        "                                                           maxlen=max_length_inp,\n",
        "                                                           padding='post')\n",
        "    inputs = tf.convert_to_tensor(inputs)\n",
        "\n",
        "    result = ''\n",
        "\n",
        "    hidden = [tf.zeros((1, units))]\n",
        "    enc_out, enc_hidden = encoder(inputs, hidden)\n",
        "\n",
        "    dec_hidden = enc_hidden\n",
        "    dec_input = tf.expand_dims([targ_lang.word_index['<start>']], 0)\n",
        "\n",
        "    for t in range(max_length_targ):\n",
        "        predictions, dec_hidden, attention_weights = decoder(dec_input,\n",
        "                                                             dec_hidden,\n",
        "                                                             enc_out)\n",
        "\n",
        "        # 시각화를 위한 어텐션 가중치 저장(보존)\n",
        "        attention_weights = tf.reshape(attention_weights, (-1, ))\n",
        "        attention_plot[t] = attention_weights.numpy()\n",
        "\n",
        "        predicted_id = tf.argmax(predictions[0]).numpy()\n",
        "\n",
        "        result += targ_lang.index_word[predicted_id] + ' '\n",
        "\n",
        "        if targ_lang.index_word[predicted_id] == '<end>':\n",
        "            return result, sentence, attention_plot\n",
        "\n",
        "        dec_input = tf.expand_dims([predicted_id], 0)\n",
        "\n",
        "    return result, sentence, attention_plot"
      ],
      "execution_count": 47,
      "outputs": []
    },
    {
      "cell_type": "markdown",
      "metadata": {
        "id": "wxHETzRDn9el"
      },
      "source": [
        "## 6-2 기계 번역 시각화"
      ]
    },
    {
      "cell_type": "markdown",
      "metadata": {
        "id": "t_BbmQL8qUeB"
      },
      "source": [
        "### 중문 폰트 다운로드"
      ]
    },
    {
      "cell_type": "code",
      "metadata": {
        "id": "XHzVy-cDc476",
        "colab": {
          "base_uri": "https://localhost:8080/"
        },
        "outputId": "69e61c80-9dae-4081-f1ed-e3129919ddfd"
      },
      "source": [
        "# 결과 시각화를 위한 중문 폰트 다운\n",
        "!wget -O /usr/share/fonts/truetype/liberation/simhei.ttf \"https://www.wfonts.com/download/data/2014/06/01/simhei/chinese.simhei.ttf\"\n",
        "zhfont = mpl.font_manager.FontProperties(fname='/content/drive/MyDrive/AI_Bootcamp/Project2_Data/chinese.simhei.ttf')\n",
        "plt.rcParams['axes.unicode_minus'] = False  "
      ],
      "execution_count": 50,
      "outputs": [
        {
          "output_type": "stream",
          "name": "stdout",
          "text": [
            "--2021-11-17 12:04:55--  https://www.wfonts.com/download/data/2014/06/01/simhei/chinese.simhei.ttf\n",
            "Resolving www.wfonts.com (www.wfonts.com)... 104.225.219.210\n",
            "Connecting to www.wfonts.com (www.wfonts.com)|104.225.219.210|:443... connected.\n",
            "HTTP request sent, awaiting response... 200 OK\n",
            "Length: 10050870 (9.6M) [application/octetstream]\n",
            "Saving to: ‘/usr/share/fonts/truetype/liberation/simhei.ttf’\n",
            "\n",
            "/usr/share/fonts/tr 100%[===================>]   9.58M  17.3MB/s    in 0.6s    \n",
            "\n",
            "2021-11-17 12:04:56 (17.3 MB/s) - ‘/usr/share/fonts/truetype/liberation/simhei.ttf’ saved [10050870/10050870]\n",
            "\n"
          ]
        }
      ]
    },
    {
      "cell_type": "code",
      "metadata": {
        "id": "TCUOWaeCdxuo"
      },
      "source": [
        "# 어텐션 가중치 시각화 함수\n",
        "def plot_attention(attention, sentence, predicted_sentence):\n",
        "    fig = plt.figure(figsize=(10,10))\n",
        "    ax = fig.add_subplot(1, 1, 1)\n",
        "    ax.matshow(attention, cmap='viridis')\n",
        "\n",
        "    fontdict = {'fontsize': 14}\n",
        "\n",
        "    ax.set_xticklabels([''] + sentence, fontdict=fontdict, fontproperties=zhfont, rotation=90)\n",
        "    ax.set_yticklabels([''] + predicted_sentence, fontdict=fontdict)\n",
        "\n",
        "    ax.xaxis.set_major_locator(ticker.MultipleLocator(1))\n",
        "    ax.yaxis.set_major_locator(ticker.MultipleLocator(1))\n",
        "\n",
        "    plt.show()"
      ],
      "execution_count": 51,
      "outputs": []
    },
    {
      "cell_type": "markdown",
      "metadata": {
        "id": "jpX8JyU1qkTs"
      },
      "source": [
        "## 6-3 문장 번역 함수"
      ]
    },
    {
      "cell_type": "code",
      "metadata": {
        "id": "_L6P7tSCeDLD"
      },
      "source": [
        "def translate(sentence):\n",
        "    result, sentence, attention_plot = evaluate(sentence)\n",
        "\n",
        "    print('Input: %s' % (sentence))\n",
        "    print('Predicted translation: {}'.format(result))\n",
        "\n",
        "    attention_plot = attention_plot[:len(result.split(' ')), :len(sentence.split(' '))]\n",
        "    plot_attention(attention_plot, sentence.split(' '), result.split(' '))"
      ],
      "execution_count": 52,
      "outputs": []
    },
    {
      "cell_type": "markdown",
      "metadata": {
        "id": "24aURUk6qsvT"
      },
      "source": [
        "## 6-4 모델 체크포인트 복원"
      ]
    },
    {
      "cell_type": "code",
      "metadata": {
        "id": "BsO7sERGef_N",
        "colab": {
          "base_uri": "https://localhost:8080/"
        },
        "outputId": "15030bcf-98f2-4e16-ab57-895aa7abe7e2"
      },
      "source": [
        "# 체크포인트 복원\n",
        "checkpoint.restore(tf.train.latest_checkpoint(checkpoint_dir))"
      ],
      "execution_count": 53,
      "outputs": [
        {
          "output_type": "execute_result",
          "data": {
            "text/plain": [
              "<tensorflow.python.training.tracking.util.CheckpointLoadStatus at 0x7f2079ba1250>"
            ]
          },
          "metadata": {},
          "execution_count": 53
        }
      ]
    },
    {
      "cell_type": "markdown",
      "metadata": {
        "id": "YdD9FBcEq0aT"
      },
      "source": [
        "## 6-5 테스트 데이터 번역"
      ]
    },
    {
      "cell_type": "code",
      "metadata": {
        "colab": {
          "base_uri": "https://localhost:8080/",
          "height": 670
        },
        "id": "cya1iK557XIZ",
        "outputId": "71ba84df-025c-4aab-b2a1-5be6b1440eec"
      },
      "source": [
        "translate(u'我昨晚吃了咖喱。') # i ate curry last night."
      ],
      "execution_count": 161,
      "outputs": [
        {
          "output_type": "stream",
          "name": "stdout",
          "text": [
            "Input: <start> 我 昨晚 吃 了 咖喱 。 <end>\n",
            "Predicted translation: i had curry last night . <end> \n"
          ]
        },
        {
          "output_type": "display_data",
          "data": {
            "image/png": "[encoded data removed]",
            "text/plain": [
              "<Figure size 720x720 with 1 Axes>"
            ]
          },
          "metadata": {
            "needs_background": "light"
          }
        }
      ]
    },
    {
      "cell_type": "code",
      "metadata": {
        "colab": {
          "base_uri": "https://localhost:8080/",
          "height": 670
        },
        "id": "er7UJMaA7seZ",
        "outputId": "6bc70ff3-b4ce-4183-f90f-e220dc266485"
      },
      "source": [
        "translate(u'谢谢你的关注。') # thank you for your attention."
      ],
      "execution_count": 166,
      "outputs": [
        {
          "output_type": "stream",
          "name": "stdout",
          "text": [
            "Input: <start> 谢谢 你 的 关注 。 <end>\n",
            "Predicted translation: thanks for your manners . <end> \n"
          ]
        },
        {
          "output_type": "display_data",
          "data": {
            "image/png": "[encoded data removed]",
            "text/plain": [
              "<Figure size 720x720 with 1 Axes>"
            ]
          },
          "metadata": {
            "needs_background": "light"
          }
        }
      ]
    },
    {
      "cell_type": "code",
      "metadata": {
        "colab": {
          "base_uri": "https://localhost:8080/",
          "height": 670
        },
        "id": "VvZMVdQp8R-K",
        "outputId": "640b6478-53a4-462d-a946-97228c40227b"
      },
      "source": [
        "translate(u'警方逮捕了嫌疑人。') # the police arrested the suspect."
      ],
      "execution_count": 177,
      "outputs": [
        {
          "output_type": "stream",
          "name": "stdout",
          "text": [
            "Input: <start> 警方 逮捕 了 嫌疑人 。 <end>\n",
            "Predicted translation: the policeman arrested the suspect . <end> \n"
          ]
        },
        {
          "output_type": "display_data",
          "data": {
            "image/png": "[encoded data removed]",
            "text/plain": [
              "<Figure size 720x720 with 1 Axes>"
            ]
          },
          "metadata": {
            "needs_background": "light"
          }
        }
      ]
    },
    {
      "cell_type": "code",
      "metadata": {
        "colab": {
          "base_uri": "https://localhost:8080/",
          "height": 670
        },
        "id": "ILEHjf_m_Af0",
        "outputId": "23de39c0-3e64-4bf3-e182-4afc0c78e9ae"
      },
      "source": [
        "translate('他非常喜欢棒球。') # he really likes baseball."
      ],
      "execution_count": 227,
      "outputs": [
        {
          "output_type": "stream",
          "name": "stdout",
          "text": [
            "Input: <start> 他 非常 喜欢 棒球 。 <end>\n",
            "Predicted translation: he likes baseball very much . <end> \n"
          ]
        },
        {
          "output_type": "display_data",
          "data": {
            "image/png": "[encoded data removed]",
            "text/plain": [
              "<Figure size 720x720 with 1 Axes>"
            ]
          },
          "metadata": {
            "needs_background": "light"
          }
        }
      ]
    },
    {
      "cell_type": "code",
      "metadata": {
        "colab": {
          "base_uri": "https://localhost:8080/",
          "height": 583
        },
        "id": "3JHOF-68D3ul",
        "outputId": "be0f6042-b654-41ed-daa7-0ef59f9c67a2"
      },
      "source": [
        "translate('他看起来比他的实际年龄大。') # he looks old for his age."
      ],
      "execution_count": 262,
      "outputs": [
        {
          "output_type": "stream",
          "name": "stdout",
          "text": [
            "Input: <start> 他 看起来 比 他 的 实际 年龄 大 。 <end>\n",
            "Predicted translation: he looks older than his age . <end> \n"
          ]
        },
        {
          "output_type": "display_data",
          "data": {
            "image/png": "[encoded data removed]",
            "text/plain": [
              "<Figure size 720x720 with 1 Axes>"
            ]
          },
          "metadata": {
            "needs_background": "light"
          }
        }
      ]
    },
    {
      "cell_type": "code",
      "metadata": {
        "colab": {
          "base_uri": "https://localhost:8080/",
          "height": 498
        },
        "id": "ir-9RpJAESK1",
        "outputId": "bcdf1227-59f7-4363-c528-1e4e01d6c3ce"
      },
      "source": [
        "translate('问题是我没什么要跟他说的。')"
      ],
      "execution_count": 264,
      "outputs": [
        {
          "output_type": "stream",
          "name": "stdout",
          "text": [
            "Input: <start> 问题 是 我 没什么 要 跟 他 说 的 。 <end>\n",
            "Predicted translation: the problem is the same . <end> \n"
          ]
        },
        {
          "output_type": "display_data",
          "data": {
            "image/png": "[encoded data removed]",
            "text/plain": [
              "<Figure size 720x720 with 1 Axes>"
            ]
          },
          "metadata": {
            "needs_background": "light"
          }
        }
      ]
    },
    {
      "cell_type": "code",
      "metadata": {
        "colab": {
          "base_uri": "https://localhost:8080/",
          "height": 670
        },
        "id": "EXeQQftuElve",
        "outputId": "547837b5-bd3b-47f7-f1a4-13d8db87cbfd"
      },
      "source": [
        "translate('我父亲曾经去过澳洲两次。') # my father has been to australia twice."
      ],
      "execution_count": 267,
      "outputs": [
        {
          "output_type": "stream",
          "name": "stdout",
          "text": [
            "Input: <start> 我 父亲 曾经 去过 澳洲 两次 。 <end>\n",
            "Predicted translation: my father has been to australia . <end> \n"
          ]
        },
        {
          "output_type": "display_data",
          "data": {
            "image/png": "[encoded data removed]",
            "text/plain": [
              "<Figure size 720x720 with 1 Axes>"
            ]
          },
          "metadata": {
            "needs_background": "light"
          }
        }
      ]
    },
    {
      "cell_type": "code",
      "metadata": {
        "colab": {
          "base_uri": "https://localhost:8080/",
          "height": 520
        },
        "id": "FApEGx-zMMWR",
        "outputId": "d74a2896-a154-4b7b-d2b1-91c65f9cf88d"
      },
      "source": [
        "translate('如果真的朋友的话，是不会说这样的话把。') # a true friend would not say such a thing."
      ],
      "execution_count": 324,
      "outputs": [
        {
          "output_type": "stream",
          "name": "stdout",
          "text": [
            "Input: <start> 如果 真的 朋友 的话 ， 是 不会 说 这样的话 把 。 <end>\n",
            "Predicted translation: if the truth would be like . <end> \n"
          ]
        },
        {
          "output_type": "display_data",
          "data": {
            "image/png": "[encoded data removed]",
            "text/plain": [
              "<Figure size 720x720 with 1 Axes>"
            ]
          },
          "metadata": {
            "needs_background": "light"
          }
        }
      ]
    },
    {
      "cell_type": "markdown",
      "metadata": {
        "id": "qI1XRUKrrA7F"
      },
      "source": [
        "##6-6 bleu를 활용한 모델 번역 정확도 평가\n",
        "\n",
        "- bleu(Bilingual Evaluation Understudy) : 기계 번역 결과와 사람이 직접 번역한 결과가 얼마나 유사한지 비교하여 번역에 대한 성능을 측정하는 방법으로, 측정 기준은 n-gram에 기반한다."
      ]
    },
    {
      "cell_type": "code",
      "metadata": {
        "id": "NBS5SdMEn3wa"
      },
      "source": [
        "import nltk.translate.bleu_score as bleu\n",
        "from nltk.translate.bleu_score import SmoothingFunction\n",
        "from nltk.translate.bleu_score import corpus_bleu\n",
        "from nltk.translate.bleu_score import sentence_bleu\n",
        "# 출처 : https://machinelearningmastery.com/calculate-bleu-score-for-text-python/ "
      ],
      "execution_count": 268,
      "outputs": []
    },
    {
      "cell_type": "code",
      "metadata": {
        "id": "51RtjF7AnkuW"
      },
      "source": [
        "def bleu_score(refer, candidate, ngram=1): \n",
        "\n",
        "    smoothie = SmoothingFunction().method7\n",
        "    if ngram == 1:\n",
        "        weight = (1, 0, 0, 0)\n",
        "    elif ngram == 2:\n",
        "        weight = (0.5, 0.5, 0, 0)\n",
        "    elif ngram == 3:\n",
        "        weight = (0.33, 0.33, 0.33, 0)\n",
        "    elif ngram == 4:\n",
        "        weight = (0.25, 0.25, 0.25, 0.25)\n",
        "        \n",
        "    return sentence_bleu(refer, candidate, \n",
        "                         weights=weight, \n",
        "                         smoothing_function=smoothie)"
      ],
      "execution_count": 271,
      "outputs": []
    },
    {
      "cell_type": "markdown",
      "metadata": {
        "id": "gIhXhsUaPhwH"
      },
      "source": [
        "### 비교적 번역이 정확한 문장 예시"
      ]
    },
    {
      "cell_type": "code",
      "metadata": {
        "id": "VmKfZVUaQdzl"
      },
      "source": [
        "reference = ['thank you for your attention.'] # 谢谢你的关注。\n",
        "reference = [s.split(' ') for s in reference]\n",
        "candidate = 'thanks for your manners.'.split(' ')"
      ],
      "execution_count": 275,
      "outputs": []
    },
    {
      "cell_type": "code",
      "metadata": {
        "colab": {
          "base_uri": "https://localhost:8080/"
        },
        "id": "SZSqViVlQe8r",
        "outputId": "d9a860c9-a8fb-48d1-af6b-93340fc5fe4a"
      },
      "source": [
        "bleu_score(reference, candidate, ngram=1)"
      ],
      "execution_count": 273,
      "outputs": [
        {
          "output_type": "execute_result",
          "data": {
            "text/plain": [
              "0.6057339423888705"
            ]
          },
          "metadata": {},
          "execution_count": 273
        }
      ]
    },
    {
      "cell_type": "code",
      "metadata": {
        "id": "F_9kSXtWJdnJ"
      },
      "source": [
        "reference2 = ['my father has been to australia twice.'] # 我父亲曾经去过澳洲两次。\n",
        "reference2 = [s.split(' ') for s in reference2]\n",
        "candidate2 = 'my father has been to australia .'.split(' ')"
      ],
      "execution_count": 277,
      "outputs": []
    },
    {
      "cell_type": "code",
      "metadata": {
        "colab": {
          "base_uri": "https://localhost:8080/"
        },
        "id": "CU94A-nwRape",
        "outputId": "f2da3820-0b44-4efe-af46-dd0f068c819d"
      },
      "source": [
        "bleu_score(reference2, candidate2, ngram=4)   "
      ],
      "execution_count": 281,
      "outputs": [
        {
          "output_type": "execute_result",
          "data": {
            "text/plain": [
              "0.9112102370685213"
            ]
          },
          "metadata": {},
          "execution_count": 281
        }
      ]
    },
    {
      "cell_type": "code",
      "metadata": {
        "id": "tbTLxngHKPtJ"
      },
      "source": [
        "reference3 = ['i ate curry last night.'] # 我昨晚吃了咖喱。\n",
        "reference3 = [s.split(' ') for s in reference3]\n",
        "candidate3 = 'i had curry last night.'.split(' ')   "
      ],
      "execution_count": 282,
      "outputs": []
    },
    {
      "cell_type": "code",
      "metadata": {
        "colab": {
          "base_uri": "https://localhost:8080/"
        },
        "id": "zzcsjPteK3ou",
        "outputId": "731e1ee4-9aa2-46fa-e6fe-638c60971db4"
      },
      "source": [
        "bleu_score(reference3, candidate3, ngram=3)  "
      ],
      "execution_count": 285,
      "outputs": [
        {
          "output_type": "execute_result",
          "data": {
            "text/plain": [
              "0.6243168847497332"
            ]
          },
          "metadata": {},
          "execution_count": 285
        }
      ]
    },
    {
      "cell_type": "code",
      "metadata": {
        "id": "F9qSRZSoLMfo"
      },
      "source": [
        "reference4 = ['he looks old for his age.'] # 他看起来比他的实际年龄大。\n",
        "reference4 = [s.split(' ') for s in reference4]\n",
        "candidate4 = 'he looks older than his age.'.split(' ')  "
      ],
      "execution_count": 286,
      "outputs": []
    },
    {
      "cell_type": "code",
      "metadata": {
        "colab": {
          "base_uri": "https://localhost:8080/"
        },
        "id": "k3ifN9g3LuGW",
        "outputId": "a372e8ae-cf00-41ca-a68b-6380de14e1a2"
      },
      "source": [
        "bleu_score(reference4, candidate4, ngram=2)  "
      ],
      "execution_count": 288,
      "outputs": [
        {
          "output_type": "execute_result",
          "data": {
            "text/plain": [
              "0.6794009681972043"
            ]
          },
          "metadata": {},
          "execution_count": 288
        }
      ]
    },
    {
      "cell_type": "markdown",
      "metadata": {
        "id": "hl6902iaP1vI"
      },
      "source": [
        "### 번역이 부정확한 문장 예시"
      ]
    },
    {
      "cell_type": "code",
      "metadata": {
        "id": "U1msTK5mPvPM"
      },
      "source": [
        "reference5 = ['a true friend would not say such a thing.'] # 如果真的朋友的话，是不会说这样的话把。 \n",
        "reference5 = [s.split(' ') for s in reference5]\n",
        "candidate5 = 'if the truth would be like .'.split(' ')  "
      ],
      "execution_count": 325,
      "outputs": []
    },
    {
      "cell_type": "code",
      "metadata": {
        "colab": {
          "base_uri": "https://localhost:8080/"
        },
        "id": "R19djEzdQbWD",
        "outputId": "505dfd88-0b5d-46fe-d24b-192f3f8b0157"
      },
      "source": [
        "bleu_score(reference5, candidate5, ngram=1)  "
      ],
      "execution_count": 326,
      "outputs": [
        {
          "output_type": "execute_result",
          "data": {
            "text/plain": [
              "0.39223763558217095"
            ]
          },
          "metadata": {},
          "execution_count": 326
        }
      ]
    },
    {
      "cell_type": "markdown",
      "metadata": {
        "id": "vyv8MyxSrIuw"
      },
      "source": [
        "#7 프로젝트 결론 및 향후 개선점\n",
        "\n"
      ]
    },
    {
      "cell_type": "markdown",
      "metadata": {
        "id": "NN-46OdmTRLQ"
      },
      "source": [
        "## 7-1 프로젝트 결론 \n",
        "\n",
        "### 0 . Attention is all you need! : 본 프로젝트의 attention 기반 seq2seq 모델을 사용하여 중문-영문 기계어 번역을 진행했다. 프로젝트를 진행하며, 기존의 attention 기능이 결여된 seq2seq 모델의 한계점을 보완하여 attention 알고리즘이 기계어 번역 모델에 어떠한 과정을 통해 성능을 높였는지에 대해 심층적으로 분석하며 이해할 수 있었다.  \n",
        "\n",
        "### 1. 학습된 모델을 테스트셋 데이터에 적용했을 때, 길이가 짧은 단문에 대해 비교적 높은 bleu 스코어를 확보하여 번역을 잘 수행했다.\n",
        "\n"
      ]
    },
    {
      "cell_type": "markdown",
      "metadata": {
        "id": "ZsuupGciVjJL"
      },
      "source": [
        "##7-2 프로젝트 한계점 \n",
        "\n",
        "### 1. 양적으로 제한된 데이터셋을 사용하여 프로젝트를 수행했다.\n",
        "\n",
        "### 2. 구체적으로 문장의 길이가 긴 문장이나 조건절 등이 포함된 복문 같은 경우, 모델의 번역 정확도가 떨어졌다. \n",
        "\n",
        "### 3. 사람 이름 혹은 국가 지역 등의 고유 명사 그리고 중국어의 시그니쳐인 사자성어의 뜻을 내포한 타겟 언어 해석이 포함된 단어가 데이터셋에 포함되지 않았기 때문에 좀 더 단어 갯수의 포함 범위가 큰 데이터를 사용하거나 불용어 처리 등의 전처리를 추가적으로 수행할 경우 좀 더 퀄리티 높은 번역 모델이 될 수 있을 것이다. (네이버, 구글 번역기 Respect!)"
      ]
    },
    {
      "cell_type": "markdown",
      "metadata": {
        "id": "oSSzRaxyYrxV"
      },
      "source": [
        "##7-3 프로젝트 향후 개선점\n",
        "\n",
        "### 1. Perplexity 등의 추가적인 언어모델 평가 지표를 추가적으로 사용한다.\n",
        "\n",
        "### 2. Self-Attention 메커니즘 베이스의 Transformer 모델을 통한 번역기 모델을 만들어 성능을 개선시킬 수 있다.\n",
        "\n",
        "### 3. 기계어 번역 모델을 적용한 심플 웹서비스 구현을 해볼 수 있다.\n",
        "\n",
        "### 4. 프로젝트에서 사용하지 않았던 다른 국가 언어(한국어 등)를 사용한 기계어 번역 모델을 구축함으로서, NLP 활용 역량을 강화시킬 것이다."
      ]
    },
    {
      "cell_type": "markdown",
      "metadata": {
        "id": "QE8DfhCYrRW7"
      },
      "source": [
        "# 8 참고 문헌\n",
        "\n",
        "- Stanford Neural Machine Translation Systems for Spoken Language Domains (Minh-Thang Luong, Christopher D. Manning ; Computer Science Department, Stanford University, Stanford, CA 94305)\n",
        "\n",
        "- Sequence to Sequence Learning\n",
        "with Neural Networks (Ilya Sutskever, Oriol Vinyals, Quoc V. Le)\n",
        "\n",
        "- Transformer 를 사용한 영한 기계 번역 (천진우, 구자환, 김응모\n",
        "/성균관대학교 소프트웨어대학 ; 2020 온라인 추계학술발표대회 논문집 제27권 제2호 (2020. 11))\n",
        "\n",
        "- BLEU: a Method for Automatic Evaluation of Machine Translation (Kishore Papineni, Salim Roukos, Todd Ward, and Wei-Jing Zhu ; IBM T. J. Watson Research Center\n",
        "Yorktown Heights, NY 10598, USA)\n",
        "\n",
        "- https://wikidocs.net/73161 (위키독스 딥러닝을 이용한 자연어 처리 입문)\n",
        "\n"
      ]
    }
  ]
}