{
  "nbformat": 4,
  "nbformat_minor": 0,
  "metadata": {
    "colab": {
      "name": "Section2_Project.ipynb",
      "provenance": [],
      "collapsed_sections": [],
      "authorship_tag": "ABX9TyO2Nvj3BArcaxMLh8T6h0LW",
      "include_colab_link": true
    },
    "kernelspec": {
      "name": "python3",
      "display_name": "Python 3"
    },
    "language_info": {
      "name": "python"
    }
  },
  "cells": [
    {
      "cell_type": "markdown",
      "metadata": {
        "id": "view-in-github",
        "colab_type": "text"
      },
      "source": [
        "<a href=\"https://colab.research.google.com/github/blacktruth513/CodeStates_Project/blob/main/Section2_Project.ipynb\" target=\"_parent\"><img src=\"https://colab.research.google.com/assets/colab-badge.svg\" alt=\"Open In Colab\"/></a>"
      ]
    },
    {
      "cell_type": "code",
      "metadata": {
        "colab": {
          "resources": {
            "http://localhost:8080/nbextensions/google.colab/files.js": {
              "data": "Ly8gQ29weXJpZ2h0IDIwMTcgR29vZ2xlIExMQwovLwovLyBMaWNlbnNlZCB1bmRlciB0aGUgQXBhY2hlIExpY2Vuc2UsIFZlcnNpb24gMi4wICh0aGUgIkxpY2Vuc2UiKTsKLy8geW91IG1heSBub3QgdXNlIHRoaXMgZmlsZSBleGNlcHQgaW4gY29tcGxpYW5jZSB3aXRoIHRoZSBMaWNlbnNlLgovLyBZb3UgbWF5IG9idGFpbiBhIGNvcHkgb2YgdGhlIExpY2Vuc2UgYXQKLy8KLy8gICAgICBodHRwOi8vd3d3LmFwYWNoZS5vcmcvbGljZW5zZXMvTElDRU5TRS0yLjAKLy8KLy8gVW5sZXNzIHJlcXVpcmVkIGJ5IGFwcGxpY2FibGUgbGF3IG9yIGFncmVlZCB0byBpbiB3cml0aW5nLCBzb2Z0d2FyZQovLyBkaXN0cmlidXRlZCB1bmRlciB0aGUgTGljZW5zZSBpcyBkaXN0cmlidXRlZCBvbiBhbiAiQVMgSVMiIEJBU0lTLAovLyBXSVRIT1VUIFdBUlJBTlRJRVMgT1IgQ09ORElUSU9OUyBPRiBBTlkgS0lORCwgZWl0aGVyIGV4cHJlc3Mgb3IgaW1wbGllZC4KLy8gU2VlIHRoZSBMaWNlbnNlIGZvciB0aGUgc3BlY2lmaWMgbGFuZ3VhZ2UgZ292ZXJuaW5nIHBlcm1pc3Npb25zIGFuZAovLyBsaW1pdGF0aW9ucyB1bmRlciB0aGUgTGljZW5zZS4KCi8qKgogKiBAZmlsZW92ZXJ2aWV3IEhlbHBlcnMgZm9yIGdvb2dsZS5jb2xhYiBQeXRob24gbW9kdWxlLgogKi8KKGZ1bmN0aW9uKHNjb3BlKSB7CmZ1bmN0aW9uIHNwYW4odGV4dCwgc3R5bGVBdHRyaWJ1dGVzID0ge30pIHsKICBjb25zdCBlbGVtZW50ID0gZG9jdW1lbnQuY3JlYXRlRWxlbWVudCgnc3BhbicpOwogIGVsZW1lbnQudGV4dENvbnRlbnQgPSB0ZXh0OwogIGZvciAoY29uc3Qga2V5IG9mIE9iamVjdC5rZXlzKHN0eWxlQXR0cmlidXRlcykpIHsKICAgIGVsZW1lbnQuc3R5bGVba2V5XSA9IHN0eWxlQXR0cmlidXRlc1trZXldOwogIH0KICByZXR1cm4gZWxlbWVudDsKfQoKLy8gTWF4IG51bWJlciBvZiBieXRlcyB3aGljaCB3aWxsIGJlIHVwbG9hZGVkIGF0IGEgdGltZS4KY29uc3QgTUFYX1BBWUxPQURfU0laRSA9IDEwMCAqIDEwMjQ7CgpmdW5jdGlvbiBfdXBsb2FkRmlsZXMoaW5wdXRJZCwgb3V0cHV0SWQpIHsKICBjb25zdCBzdGVwcyA9IHVwbG9hZEZpbGVzU3RlcChpbnB1dElkLCBvdXRwdXRJZCk7CiAgY29uc3Qgb3V0cHV0RWxlbWVudCA9IGRvY3VtZW50LmdldEVsZW1lbnRCeUlkKG91dHB1dElkKTsKICAvLyBDYWNoZSBzdGVwcyBvbiB0aGUgb3V0cHV0RWxlbWVudCB0byBtYWtlIGl0IGF2YWlsYWJsZSBmb3IgdGhlIG5leHQgY2FsbAogIC8vIHRvIHVwbG9hZEZpbGVzQ29udGludWUgZnJvbSBQeXRob24uCiAgb3V0cHV0RWxlbWVudC5zdGVwcyA9IHN0ZXBzOwoKICByZXR1cm4gX3VwbG9hZEZpbGVzQ29udGludWUob3V0cHV0SWQpOwp9CgovLyBUaGlzIGlzIHJvdWdobHkgYW4gYXN5bmMgZ2VuZXJhdG9yIChub3Qgc3VwcG9ydGVkIGluIHRoZSBicm93c2VyIHlldCksCi8vIHdoZXJlIHRoZXJlIGFyZSBtdWx0aXBsZSBhc3luY2hyb25vdXMgc3RlcHMgYW5kIHRoZSBQeXRob24gc2lkZSBpcyBnb2luZwovLyB0byBwb2xsIGZvciBjb21wbGV0aW9uIG9mIGVhY2ggc3RlcC4KLy8gVGhpcyB1c2VzIGEgUHJvbWlzZSB0byBibG9jayB0aGUgcHl0aG9uIHNpZGUgb24gY29tcGxldGlvbiBvZiBlYWNoIHN0ZXAsCi8vIHRoZW4gcGFzc2VzIHRoZSByZXN1bHQgb2YgdGhlIHByZXZpb3VzIHN0ZXAgYXMgdGhlIGlucHV0IHRvIHRoZSBuZXh0IHN0ZXAuCmZ1bmN0aW9uIF91cGxvYWRGaWxlc0NvbnRpbnVlKG91dHB1dElkKSB7CiAgY29uc3Qgb3V0cHV0RWxlbWVudCA9IGRvY3VtZW50LmdldEVsZW1lbnRCeUlkKG91dHB1dElkKTsKICBjb25zdCBzdGVwcyA9IG91dHB1dEVsZW1lbnQuc3RlcHM7CgogIGNvbnN0IG5leHQgPSBzdGVwcy5uZXh0KG91dHB1dEVsZW1lbnQubGFzdFByb21pc2VWYWx1ZSk7CiAgcmV0dXJuIFByb21pc2UucmVzb2x2ZShuZXh0LnZhbHVlLnByb21pc2UpLnRoZW4oKHZhbHVlKSA9PiB7CiAgICAvLyBDYWNoZSB0aGUgbGFzdCBwcm9taXNlIHZhbHVlIHRvIG1ha2UgaXQgYXZhaWxhYmxlIHRvIHRoZSBuZXh0CiAgICAvLyBzdGVwIG9mIHRoZSBnZW5lcmF0b3IuCiAgICBvdXRwdXRFbGVtZW50Lmxhc3RQcm9taXNlVmFsdWUgPSB2YWx1ZTsKICAgIHJldHVybiBuZXh0LnZhbHVlLnJlc3BvbnNlOwogIH0pOwp9CgovKioKICogR2VuZXJhdG9yIGZ1bmN0aW9uIHdoaWNoIGlzIGNhbGxlZCBiZXR3ZWVuIGVhY2ggYXN5bmMgc3RlcCBvZiB0aGUgdXBsb2FkCiAqIHByb2Nlc3MuCiAqIEBwYXJhbSB7c3RyaW5nfSBpbnB1dElkIEVsZW1lbnQgSUQgb2YgdGhlIGlucHV0IGZpbGUgcGlja2VyIGVsZW1lbnQuCiAqIEBwYXJhbSB7c3RyaW5nfSBvdXRwdXRJZCBFbGVtZW50IElEIG9mIHRoZSBvdXRwdXQgZGlzcGxheS4KICogQHJldHVybiB7IUl0ZXJhYmxlPCFPYmplY3Q+fSBJdGVyYWJsZSBvZiBuZXh0IHN0ZXBzLgogKi8KZnVuY3Rpb24qIHVwbG9hZEZpbGVzU3RlcChpbnB1dElkLCBvdXRwdXRJZCkgewogIGNvbnN0IGlucHV0RWxlbWVudCA9IGRvY3VtZW50LmdldEVsZW1lbnRCeUlkKGlucHV0SWQpOwogIGlucHV0RWxlbWVudC5kaXNhYmxlZCA9IGZhbHNlOwoKICBjb25zdCBvdXRwdXRFbGVtZW50ID0gZG9jdW1lbnQuZ2V0RWxlbWVudEJ5SWQob3V0cHV0SWQpOwogIG91dHB1dEVsZW1lbnQuaW5uZXJIVE1MID0gJyc7CgogIGNvbnN0IHBpY2tlZFByb21pc2UgPSBuZXcgUHJvbWlzZSgocmVzb2x2ZSkgPT4gewogICAgaW5wdXRFbGVtZW50LmFkZEV2ZW50TGlzdGVuZXIoJ2NoYW5nZScsIChlKSA9PiB7CiAgICAgIHJlc29sdmUoZS50YXJnZXQuZmlsZXMpOwogICAgfSk7CiAgfSk7CgogIGNvbnN0IGNhbmNlbCA9IGRvY3VtZW50LmNyZWF0ZUVsZW1lbnQoJ2J1dHRvbicpOwogIGlucHV0RWxlbWVudC5wYXJlbnRFbGVtZW50LmFwcGVuZENoaWxkKGNhbmNlbCk7CiAgY2FuY2VsLnRleHRDb250ZW50ID0gJ0NhbmNlbCB1cGxvYWQnOwogIGNvbnN0IGNhbmNlbFByb21pc2UgPSBuZXcgUHJvbWlzZSgocmVzb2x2ZSkgPT4gewogICAgY2FuY2VsLm9uY2xpY2sgPSAoKSA9PiB7CiAgICAgIHJlc29sdmUobnVsbCk7CiAgICB9OwogIH0pOwoKICAvLyBXYWl0IGZvciB0aGUgdXNlciB0byBwaWNrIHRoZSBmaWxlcy4KICBjb25zdCBmaWxlcyA9IHlpZWxkIHsKICAgIHByb21pc2U6IFByb21pc2UucmFjZShbcGlja2VkUHJvbWlzZSwgY2FuY2VsUHJvbWlzZV0pLAogICAgcmVzcG9uc2U6IHsKICAgICAgYWN0aW9uOiAnc3RhcnRpbmcnLAogICAgfQogIH07CgogIGNhbmNlbC5yZW1vdmUoKTsKCiAgLy8gRGlzYWJsZSB0aGUgaW5wdXQgZWxlbWVudCBzaW5jZSBmdXJ0aGVyIHBpY2tzIGFyZSBub3QgYWxsb3dlZC4KICBpbnB1dEVsZW1lbnQuZGlzYWJsZWQgPSB0cnVlOwoKICBpZiAoIWZpbGVzKSB7CiAgICByZXR1cm4gewogICAgICByZXNwb25zZTogewogICAgICAgIGFjdGlvbjogJ2NvbXBsZXRlJywKICAgICAgfQogICAgfTsKICB9CgogIGZvciAoY29uc3QgZmlsZSBvZiBmaWxlcykgewogICAgY29uc3QgbGkgPSBkb2N1bWVudC5jcmVhdGVFbGVtZW50KCdsaScpOwogICAgbGkuYXBwZW5kKHNwYW4oZmlsZS5uYW1lLCB7Zm9udFdlaWdodDogJ2JvbGQnfSkpOwogICAgbGkuYXBwZW5kKHNwYW4oCiAgICAgICAgYCgke2ZpbGUudHlwZSB8fCAnbi9hJ30pIC0gJHtmaWxlLnNpemV9IGJ5dGVzLCBgICsKICAgICAgICBgbGFzdCBtb2RpZmllZDogJHsKICAgICAgICAgICAgZmlsZS5sYXN0TW9kaWZpZWREYXRlID8gZmlsZS5sYXN0TW9kaWZpZWREYXRlLnRvTG9jYWxlRGF0ZVN0cmluZygpIDoKICAgICAgICAgICAgICAgICAgICAgICAgICAgICAgICAgICAgJ24vYSd9IC0gYCkpOwogICAgY29uc3QgcGVyY2VudCA9IHNwYW4oJzAlIGRvbmUnKTsKICAgIGxpLmFwcGVuZENoaWxkKHBlcmNlbnQpOwoKICAgIG91dHB1dEVsZW1lbnQuYXBwZW5kQ2hpbGQobGkpOwoKICAgIGNvbnN0IGZpbGVEYXRhUHJvbWlzZSA9IG5ldyBQcm9taXNlKChyZXNvbHZlKSA9PiB7CiAgICAgIGNvbnN0IHJlYWRlciA9IG5ldyBGaWxlUmVhZGVyKCk7CiAgICAgIHJlYWRlci5vbmxvYWQgPSAoZSkgPT4gewogICAgICAgIHJlc29sdmUoZS50YXJnZXQucmVzdWx0KTsKICAgICAgfTsKICAgICAgcmVhZGVyLnJlYWRBc0FycmF5QnVmZmVyKGZpbGUpOwogICAgfSk7CiAgICAvLyBXYWl0IGZvciB0aGUgZGF0YSB0byBiZSByZWFkeS4KICAgIGxldCBmaWxlRGF0YSA9IHlpZWxkIHsKICAgICAgcHJvbWlzZTogZmlsZURhdGFQcm9taXNlLAogICAgICByZXNwb25zZTogewogICAgICAgIGFjdGlvbjogJ2NvbnRpbnVlJywKICAgICAgfQogICAgfTsKCiAgICAvLyBVc2UgYSBjaHVua2VkIHNlbmRpbmcgdG8gYXZvaWQgbWVzc2FnZSBzaXplIGxpbWl0cy4gU2VlIGIvNjIxMTU2NjAuCiAgICBsZXQgcG9zaXRpb24gPSAwOwogICAgZG8gewogICAgICBjb25zdCBsZW5ndGggPSBNYXRoLm1pbihmaWxlRGF0YS5ieXRlTGVuZ3RoIC0gcG9zaXRpb24sIE1BWF9QQVlMT0FEX1NJWkUpOwogICAgICBjb25zdCBjaHVuayA9IG5ldyBVaW50OEFycmF5KGZpbGVEYXRhLCBwb3NpdGlvbiwgbGVuZ3RoKTsKICAgICAgcG9zaXRpb24gKz0gbGVuZ3RoOwoKICAgICAgY29uc3QgYmFzZTY0ID0gYnRvYShTdHJpbmcuZnJvbUNoYXJDb2RlLmFwcGx5KG51bGwsIGNodW5rKSk7CiAgICAgIHlpZWxkIHsKICAgICAgICByZXNwb25zZTogewogICAgICAgICAgYWN0aW9uOiAnYXBwZW5kJywKICAgICAgICAgIGZpbGU6IGZpbGUubmFtZSwKICAgICAgICAgIGRhdGE6IGJhc2U2NCwKICAgICAgICB9LAogICAgICB9OwoKICAgICAgbGV0IHBlcmNlbnREb25lID0gZmlsZURhdGEuYnl0ZUxlbmd0aCA9PT0gMCA/CiAgICAgICAgICAxMDAgOgogICAgICAgICAgTWF0aC5yb3VuZCgocG9zaXRpb24gLyBmaWxlRGF0YS5ieXRlTGVuZ3RoKSAqIDEwMCk7CiAgICAgIHBlcmNlbnQudGV4dENvbnRlbnQgPSBgJHtwZXJjZW50RG9uZX0lIGRvbmVgOwoKICAgIH0gd2hpbGUgKHBvc2l0aW9uIDwgZmlsZURhdGEuYnl0ZUxlbmd0aCk7CiAgfQoKICAvLyBBbGwgZG9uZS4KICB5aWVsZCB7CiAgICByZXNwb25zZTogewogICAgICBhY3Rpb246ICdjb21wbGV0ZScsCiAgICB9CiAgfTsKfQoKc2NvcGUuZ29vZ2xlID0gc2NvcGUuZ29vZ2xlIHx8IHt9OwpzY29wZS5nb29nbGUuY29sYWIgPSBzY29wZS5nb29nbGUuY29sYWIgfHwge307CnNjb3BlLmdvb2dsZS5jb2xhYi5fZmlsZXMgPSB7CiAgX3VwbG9hZEZpbGVzLAogIF91cGxvYWRGaWxlc0NvbnRpbnVlLAp9Owp9KShzZWxmKTsK",
              "ok": true,
              "headers": [
                [
                  "content-type",
                  "application/javascript"
                ]
              ],
              "status": 200,
              "status_text": ""
            }
          },
          "base_uri": "https://localhost:8080/",
          "height": 324
        },
        "id": "Xs_6GlwfT6rZ",
        "outputId": "6d5c5269-d40d-4d78-d391-e670c503b004"
      },
      "source": [
        "!pip install kaggle\n",
        "from google.colab import files\n",
        "files.upload()\n",
        "!mkdir -p ~/.kaggle\n",
        "!cp kaggle.json ~/.kaggle/\n",
        "# Permission Warning이 발생하지 않도록 해줍니다.\n",
        "!chmod 600 ~/.kaggle/kaggle.json\n",
        "!kaggle datasets download -d ruiqurm/lianjia\n",
        "#!ls\n",
        "!unzip lianjia.zip "
      ],
      "execution_count": 1,
      "outputs": [
        {
          "output_type": "stream",
          "text": [
            "Requirement already satisfied: kaggle in /usr/local/lib/python3.7/dist-packages (1.5.12)\n",
            "Requirement already satisfied: python-dateutil in /usr/local/lib/python3.7/dist-packages (from kaggle) (2.8.1)\n",
            "Requirement already satisfied: python-slugify in /usr/local/lib/python3.7/dist-packages (from kaggle) (5.0.2)\n",
            "Requirement already satisfied: requests in /usr/local/lib/python3.7/dist-packages (from kaggle) (2.25.1)\n",
            "Requirement already satisfied: certifi in /usr/local/lib/python3.7/dist-packages (from kaggle) (2021.5.30)\n",
            "Requirement already satisfied: urllib3 in /usr/local/lib/python3.7/dist-packages (from kaggle) (1.24.3)\n",
            "Requirement already satisfied: six>=1.10 in /usr/local/lib/python3.7/dist-packages (from kaggle) (1.15.0)\n",
            "Requirement already satisfied: tqdm in /usr/local/lib/python3.7/dist-packages (from kaggle) (4.61.1)\n",
            "Requirement already satisfied: text-unidecode>=1.3 in /usr/local/lib/python3.7/dist-packages (from python-slugify->kaggle) (1.3)\n",
            "Requirement already satisfied: idna<3,>=2.5 in /usr/local/lib/python3.7/dist-packages (from requests->kaggle) (2.10)\n",
            "Requirement already satisfied: chardet<5,>=3.0.2 in /usr/local/lib/python3.7/dist-packages (from requests->kaggle) (3.0.4)\n"
          ],
          "name": "stdout"
        },
        {
          "output_type": "display_data",
          "data": {
            "text/html": [
              "\n",
              "     <input type=\"file\" id=\"files-86ff7535-3020-4083-a69b-e8bb91d89348\" name=\"files[]\" multiple disabled\n",
              "        style=\"border:none\" />\n",
              "     <output id=\"result-86ff7535-3020-4083-a69b-e8bb91d89348\">\n",
              "      Upload widget is only available when the cell has been executed in the\n",
              "      current browser session. Please rerun this cell to enable.\n",
              "      </output>\n",
              "      <script src=\"/nbextensions/google.colab/files.js\"></script> "
            ],
            "text/plain": [
              "<IPython.core.display.HTML object>"
            ]
          },
          "metadata": {
            "tags": []
          }
        },
        {
          "output_type": "stream",
          "text": [
            "Saving kaggle.json to kaggle (19).json\n",
            "lianjia.zip: Skipping, found more recently modified local copy (use --force to force download)\n",
            "Archive:  lianjia.zip\n",
            "replace new.csv? [y]es, [n]o, [A]ll, [N]one, [r]ename: n\n"
          ],
          "name": "stdout"
        }
      ]
    },
    {
      "cell_type": "code",
      "metadata": {
        "id": "RoSvxQgHn-9A"
      },
      "source": [
        "# %%capture\n",
        "# import sys\n",
        "\n",
        "# if 'google.colab' in sys.modules:\n",
        "#     # Install packages in Colab\n",
        "#     !pip install category_encoders==2.*\n",
        "#     !pip install eli5\n",
        "#     !pip install pandas-profiling==2.*\n",
        "#     !pip install pdpbox\n",
        "#     !pip install shap"
      ],
      "execution_count": 3,
      "outputs": []
    },
    {
      "cell_type": "code",
      "metadata": {
        "id": "wATbzI-nYA8t"
      },
      "source": [
        "import warnings\n",
        "warnings.filterwarnings('ignore')\n",
        "import pandas as pd\n",
        "import numpy as np\n",
        "import matplotlib.pyplot as plt\n",
        "import seaborn as sns"
      ],
      "execution_count": 2,
      "outputs": []
    },
    {
      "cell_type": "code",
      "metadata": {
        "colab": {
          "base_uri": "https://localhost:8080/",
          "height": 607
        },
        "id": "ihgfqUZ_WAk9",
        "outputId": "348c5eb9-c398-420f-c183-bc5674412210"
      },
      "source": [
        "df = pd.read_csv('./new.csv', encoding = 'GB2312',low_memory=False)  #GB/T 2312-1980 is a key official character set of the People's Republic of China, used for Simplified Chinese characters.\n",
        "df"
      ],
      "execution_count": 3,
      "outputs": [
        {
          "output_type": "execute_result",
          "data": {
            "text/html": [
              "<div>\n",
              "<style scoped>\n",
              "    .dataframe tbody tr th:only-of-type {\n",
              "        vertical-align: middle;\n",
              "    }\n",
              "\n",
              "    .dataframe tbody tr th {\n",
              "        vertical-align: top;\n",
              "    }\n",
              "\n",
              "    .dataframe thead th {\n",
              "        text-align: right;\n",
              "    }\n",
              "</style>\n",
              "<table border=\"1\" class=\"dataframe\">\n",
              "  <thead>\n",
              "    <tr style=\"text-align: right;\">\n",
              "      <th></th>\n",
              "      <th>url</th>\n",
              "      <th>id</th>\n",
              "      <th>Lng</th>\n",
              "      <th>Lat</th>\n",
              "      <th>Cid</th>\n",
              "      <th>tradeTime</th>\n",
              "      <th>DOM</th>\n",
              "      <th>followers</th>\n",
              "      <th>totalPrice</th>\n",
              "      <th>price</th>\n",
              "      <th>square</th>\n",
              "      <th>livingRoom</th>\n",
              "      <th>drawingRoom</th>\n",
              "      <th>kitchen</th>\n",
              "      <th>bathRoom</th>\n",
              "      <th>floor</th>\n",
              "      <th>buildingType</th>\n",
              "      <th>constructionTime</th>\n",
              "      <th>renovationCondition</th>\n",
              "      <th>buildingStructure</th>\n",
              "      <th>ladderRatio</th>\n",
              "      <th>elevator</th>\n",
              "      <th>fiveYearsProperty</th>\n",
              "      <th>subway</th>\n",
              "      <th>district</th>\n",
              "      <th>communityAverage</th>\n",
              "    </tr>\n",
              "  </thead>\n",
              "  <tbody>\n",
              "    <tr>\n",
              "      <th>0</th>\n",
              "      <td>https://bj.lianjia.com/chengjiao/101084782030....</td>\n",
              "      <td>101084782030</td>\n",
              "      <td>116.475489</td>\n",
              "      <td>40.019520</td>\n",
              "      <td>1111027376244</td>\n",
              "      <td>2016-08-09</td>\n",
              "      <td>1464.0</td>\n",
              "      <td>106</td>\n",
              "      <td>415.0</td>\n",
              "      <td>31680</td>\n",
              "      <td>131.00</td>\n",
              "      <td>2</td>\n",
              "      <td>1</td>\n",
              "      <td>1</td>\n",
              "      <td>1</td>\n",
              "      <td>高 26</td>\n",
              "      <td>1.0</td>\n",
              "      <td>2005</td>\n",
              "      <td>3</td>\n",
              "      <td>6</td>\n",
              "      <td>0.217</td>\n",
              "      <td>1.0</td>\n",
              "      <td>0.0</td>\n",
              "      <td>1.0</td>\n",
              "      <td>7</td>\n",
              "      <td>56021.0</td>\n",
              "    </tr>\n",
              "    <tr>\n",
              "      <th>1</th>\n",
              "      <td>https://bj.lianjia.com/chengjiao/101086012217....</td>\n",
              "      <td>101086012217</td>\n",
              "      <td>116.453917</td>\n",
              "      <td>39.881534</td>\n",
              "      <td>1111027381879</td>\n",
              "      <td>2016-07-28</td>\n",
              "      <td>903.0</td>\n",
              "      <td>126</td>\n",
              "      <td>575.0</td>\n",
              "      <td>43436</td>\n",
              "      <td>132.38</td>\n",
              "      <td>2</td>\n",
              "      <td>2</td>\n",
              "      <td>1</td>\n",
              "      <td>2</td>\n",
              "      <td>高 22</td>\n",
              "      <td>1.0</td>\n",
              "      <td>2004</td>\n",
              "      <td>4</td>\n",
              "      <td>6</td>\n",
              "      <td>0.667</td>\n",
              "      <td>1.0</td>\n",
              "      <td>1.0</td>\n",
              "      <td>0.0</td>\n",
              "      <td>7</td>\n",
              "      <td>71539.0</td>\n",
              "    </tr>\n",
              "    <tr>\n",
              "      <th>2</th>\n",
              "      <td>https://bj.lianjia.com/chengjiao/101086041636....</td>\n",
              "      <td>101086041636</td>\n",
              "      <td>116.561978</td>\n",
              "      <td>39.877145</td>\n",
              "      <td>1111040862969</td>\n",
              "      <td>2016-12-11</td>\n",
              "      <td>1271.0</td>\n",
              "      <td>48</td>\n",
              "      <td>1030.0</td>\n",
              "      <td>52021</td>\n",
              "      <td>198.00</td>\n",
              "      <td>3</td>\n",
              "      <td>2</td>\n",
              "      <td>1</td>\n",
              "      <td>3</td>\n",
              "      <td>中 4</td>\n",
              "      <td>4.0</td>\n",
              "      <td>2005</td>\n",
              "      <td>3</td>\n",
              "      <td>6</td>\n",
              "      <td>0.500</td>\n",
              "      <td>1.0</td>\n",
              "      <td>0.0</td>\n",
              "      <td>0.0</td>\n",
              "      <td>7</td>\n",
              "      <td>48160.0</td>\n",
              "    </tr>\n",
              "    <tr>\n",
              "      <th>3</th>\n",
              "      <td>https://bj.lianjia.com/chengjiao/101086406841....</td>\n",
              "      <td>101086406841</td>\n",
              "      <td>116.438010</td>\n",
              "      <td>40.076114</td>\n",
              "      <td>1111043185817</td>\n",
              "      <td>2016-09-30</td>\n",
              "      <td>965.0</td>\n",
              "      <td>138</td>\n",
              "      <td>297.5</td>\n",
              "      <td>22202</td>\n",
              "      <td>134.00</td>\n",
              "      <td>3</td>\n",
              "      <td>1</td>\n",
              "      <td>1</td>\n",
              "      <td>1</td>\n",
              "      <td>底 21</td>\n",
              "      <td>1.0</td>\n",
              "      <td>2008</td>\n",
              "      <td>1</td>\n",
              "      <td>6</td>\n",
              "      <td>0.273</td>\n",
              "      <td>1.0</td>\n",
              "      <td>0.0</td>\n",
              "      <td>0.0</td>\n",
              "      <td>6</td>\n",
              "      <td>51238.0</td>\n",
              "    </tr>\n",
              "    <tr>\n",
              "      <th>4</th>\n",
              "      <td>https://bj.lianjia.com/chengjiao/101086920653....</td>\n",
              "      <td>101086920653</td>\n",
              "      <td>116.428392</td>\n",
              "      <td>39.886229</td>\n",
              "      <td>1111027381174</td>\n",
              "      <td>2016-08-28</td>\n",
              "      <td>927.0</td>\n",
              "      <td>286</td>\n",
              "      <td>392.0</td>\n",
              "      <td>48396</td>\n",
              "      <td>81.00</td>\n",
              "      <td>2</td>\n",
              "      <td>1</td>\n",
              "      <td>1</td>\n",
              "      <td>1</td>\n",
              "      <td>中 6</td>\n",
              "      <td>4.0</td>\n",
              "      <td>1960</td>\n",
              "      <td>2</td>\n",
              "      <td>2</td>\n",
              "      <td>0.333</td>\n",
              "      <td>0.0</td>\n",
              "      <td>1.0</td>\n",
              "      <td>1.0</td>\n",
              "      <td>1</td>\n",
              "      <td>62588.0</td>\n",
              "    </tr>\n",
              "    <tr>\n",
              "      <th>...</th>\n",
              "      <td>...</td>\n",
              "      <td>...</td>\n",
              "      <td>...</td>\n",
              "      <td>...</td>\n",
              "      <td>...</td>\n",
              "      <td>...</td>\n",
              "      <td>...</td>\n",
              "      <td>...</td>\n",
              "      <td>...</td>\n",
              "      <td>...</td>\n",
              "      <td>...</td>\n",
              "      <td>...</td>\n",
              "      <td>...</td>\n",
              "      <td>...</td>\n",
              "      <td>...</td>\n",
              "      <td>...</td>\n",
              "      <td>...</td>\n",
              "      <td>...</td>\n",
              "      <td>...</td>\n",
              "      <td>...</td>\n",
              "      <td>...</td>\n",
              "      <td>...</td>\n",
              "      <td>...</td>\n",
              "      <td>...</td>\n",
              "      <td>...</td>\n",
              "      <td>...</td>\n",
              "    </tr>\n",
              "    <tr>\n",
              "      <th>318846</th>\n",
              "      <td>https://bj.lianjia.com/chengjiao/BJYZ92311192....</td>\n",
              "      <td>BJYZ92311192</td>\n",
              "      <td>116.546899</td>\n",
              "      <td>39.755236</td>\n",
              "      <td>1111027377053</td>\n",
              "      <td>2016-06-10</td>\n",
              "      <td>1.0</td>\n",
              "      <td>8</td>\n",
              "      <td>350.0</td>\n",
              "      <td>20580</td>\n",
              "      <td>170.07</td>\n",
              "      <td>3</td>\n",
              "      <td>2</td>\n",
              "      <td>1</td>\n",
              "      <td>2</td>\n",
              "      <td>中 5</td>\n",
              "      <td>4.0</td>\n",
              "      <td>2003</td>\n",
              "      <td>1</td>\n",
              "      <td>6</td>\n",
              "      <td>0.333</td>\n",
              "      <td>0.0</td>\n",
              "      <td>1.0</td>\n",
              "      <td>0.0</td>\n",
              "      <td>3</td>\n",
              "      <td>36545.0</td>\n",
              "    </tr>\n",
              "    <tr>\n",
              "      <th>318847</th>\n",
              "      <td>https://bj.lianjia.com/chengjiao/BJYZ92320171....</td>\n",
              "      <td>BJYZ92320171</td>\n",
              "      <td>116.497474</td>\n",
              "      <td>39.810115</td>\n",
              "      <td>1111027377957</td>\n",
              "      <td>2016-06-10</td>\n",
              "      <td>NaN</td>\n",
              "      <td>1</td>\n",
              "      <td>108.8</td>\n",
              "      <td>31006</td>\n",
              "      <td>35.09</td>\n",
              "      <td>1</td>\n",
              "      <td>0</td>\n",
              "      <td>1</td>\n",
              "      <td>1</td>\n",
              "      <td>中 24</td>\n",
              "      <td>1.0</td>\n",
              "      <td>2009</td>\n",
              "      <td>1</td>\n",
              "      <td>6</td>\n",
              "      <td>0.222</td>\n",
              "      <td>1.0</td>\n",
              "      <td>0.0</td>\n",
              "      <td>1.0</td>\n",
              "      <td>3</td>\n",
              "      <td>54282.0</td>\n",
              "    </tr>\n",
              "    <tr>\n",
              "      <th>318848</th>\n",
              "      <td>https://bj.lianjia.com/chengjiao/BJYZ92324217....</td>\n",
              "      <td>BJYZ92324217</td>\n",
              "      <td>116.497256</td>\n",
              "      <td>39.804081</td>\n",
              "      <td>1111027380056</td>\n",
              "      <td>2016-06-05</td>\n",
              "      <td>1.0</td>\n",
              "      <td>2</td>\n",
              "      <td>359.0</td>\n",
              "      <td>35138</td>\n",
              "      <td>102.17</td>\n",
              "      <td>2</td>\n",
              "      <td>2</td>\n",
              "      <td>1</td>\n",
              "      <td>2</td>\n",
              "      <td>中 7</td>\n",
              "      <td>4.0</td>\n",
              "      <td>2000</td>\n",
              "      <td>3</td>\n",
              "      <td>6</td>\n",
              "      <td>0.500</td>\n",
              "      <td>1.0</td>\n",
              "      <td>1.0</td>\n",
              "      <td>0.0</td>\n",
              "      <td>3</td>\n",
              "      <td>46927.0</td>\n",
              "    </tr>\n",
              "    <tr>\n",
              "      <th>318849</th>\n",
              "      <td>https://bj.lianjia.com/chengjiao/BJYZ92333313....</td>\n",
              "      <td>BJYZ92333313</td>\n",
              "      <td>116.501794</td>\n",
              "      <td>39.799347</td>\n",
              "      <td>1111027377054</td>\n",
              "      <td>2016-06-12</td>\n",
              "      <td>NaN</td>\n",
              "      <td>4</td>\n",
              "      <td>720.0</td>\n",
              "      <td>40373</td>\n",
              "      <td>178.34</td>\n",
              "      <td>4</td>\n",
              "      <td>2</td>\n",
              "      <td>1</td>\n",
              "      <td>2</td>\n",
              "      <td>中 5</td>\n",
              "      <td>4.0</td>\n",
              "      <td>2003</td>\n",
              "      <td>4</td>\n",
              "      <td>2</td>\n",
              "      <td>0.500</td>\n",
              "      <td>0.0</td>\n",
              "      <td>1.0</td>\n",
              "      <td>0.0</td>\n",
              "      <td>3</td>\n",
              "      <td>54842.0</td>\n",
              "    </tr>\n",
              "    <tr>\n",
              "      <th>318850</th>\n",
              "      <td>https://bj.lianjia.com/chengjiao/BJYZ92363553....</td>\n",
              "      <td>BJYZ92363553</td>\n",
              "      <td>116.497474</td>\n",
              "      <td>39.810115</td>\n",
              "      <td>1111027377957</td>\n",
              "      <td>2016-06-11</td>\n",
              "      <td>1.0</td>\n",
              "      <td>0</td>\n",
              "      <td>450.0</td>\n",
              "      <td>48675</td>\n",
              "      <td>92.45</td>\n",
              "      <td>2</td>\n",
              "      <td>1</td>\n",
              "      <td>1</td>\n",
              "      <td>1</td>\n",
              "      <td>中 17</td>\n",
              "      <td>4.0</td>\n",
              "      <td>未知</td>\n",
              "      <td>4</td>\n",
              "      <td>6</td>\n",
              "      <td>1.000</td>\n",
              "      <td>1.0</td>\n",
              "      <td>0.0</td>\n",
              "      <td>1.0</td>\n",
              "      <td>3</td>\n",
              "      <td>54282.0</td>\n",
              "    </tr>\n",
              "  </tbody>\n",
              "</table>\n",
              "<p>318851 rows × 26 columns</p>\n",
              "</div>"
            ],
            "text/plain": [
              "                                                      url  ... communityAverage\n",
              "0       https://bj.lianjia.com/chengjiao/101084782030....  ...          56021.0\n",
              "1       https://bj.lianjia.com/chengjiao/101086012217....  ...          71539.0\n",
              "2       https://bj.lianjia.com/chengjiao/101086041636....  ...          48160.0\n",
              "3       https://bj.lianjia.com/chengjiao/101086406841....  ...          51238.0\n",
              "4       https://bj.lianjia.com/chengjiao/101086920653....  ...          62588.0\n",
              "...                                                   ...  ...              ...\n",
              "318846  https://bj.lianjia.com/chengjiao/BJYZ92311192....  ...          36545.0\n",
              "318847  https://bj.lianjia.com/chengjiao/BJYZ92320171....  ...          54282.0\n",
              "318848  https://bj.lianjia.com/chengjiao/BJYZ92324217....  ...          46927.0\n",
              "318849  https://bj.lianjia.com/chengjiao/BJYZ92333313....  ...          54842.0\n",
              "318850  https://bj.lianjia.com/chengjiao/BJYZ92363553....  ...          54282.0\n",
              "\n",
              "[318851 rows x 26 columns]"
            ]
          },
          "metadata": {
            "tags": []
          },
          "execution_count": 3
        }
      ]
    },
    {
      "cell_type": "code",
      "metadata": {
        "id": "Bgsnc055K7jU",
        "outputId": "aa860a70-522e-4cba-fc7f-a32b243640e6",
        "colab": {
          "base_uri": "https://localhost:8080/"
        }
      },
      "source": [
        "df.dtypes"
      ],
      "execution_count": 4,
      "outputs": [
        {
          "output_type": "execute_result",
          "data": {
            "text/plain": [
              "url                     object\n",
              "id                      object\n",
              "Lng                    float64\n",
              "Lat                    float64\n",
              "Cid                      int64\n",
              "tradeTime               object\n",
              "DOM                    float64\n",
              "followers                int64\n",
              "totalPrice             float64\n",
              "price                    int64\n",
              "square                 float64\n",
              "livingRoom              object\n",
              "drawingRoom             object\n",
              "kitchen                  int64\n",
              "bathRoom                object\n",
              "floor                   object\n",
              "buildingType           float64\n",
              "constructionTime        object\n",
              "renovationCondition      int64\n",
              "buildingStructure        int64\n",
              "ladderRatio            float64\n",
              "elevator               float64\n",
              "fiveYearsProperty      float64\n",
              "subway                 float64\n",
              "district                 int64\n",
              "communityAverage       float64\n",
              "dtype: object"
            ]
          },
          "metadata": {
            "tags": []
          },
          "execution_count": 4
        }
      ]
    },
    {
      "cell_type": "code",
      "metadata": {
        "colab": {
          "base_uri": "https://localhost:8080/",
          "height": 607
        },
        "id": "RIzgdN3x1ETD",
        "outputId": "587597e1-2e58-4d4a-af7b-15d9785df8ad"
      },
      "source": [
        "#실험용 데이터 카피 \n",
        "df_copy = df.copy()\n",
        "df_copy"
      ],
      "execution_count": 5,
      "outputs": [
        {
          "output_type": "execute_result",
          "data": {
            "text/html": [
              "<div>\n",
              "<style scoped>\n",
              "    .dataframe tbody tr th:only-of-type {\n",
              "        vertical-align: middle;\n",
              "    }\n",
              "\n",
              "    .dataframe tbody tr th {\n",
              "        vertical-align: top;\n",
              "    }\n",
              "\n",
              "    .dataframe thead th {\n",
              "        text-align: right;\n",
              "    }\n",
              "</style>\n",
              "<table border=\"1\" class=\"dataframe\">\n",
              "  <thead>\n",
              "    <tr style=\"text-align: right;\">\n",
              "      <th></th>\n",
              "      <th>url</th>\n",
              "      <th>id</th>\n",
              "      <th>Lng</th>\n",
              "      <th>Lat</th>\n",
              "      <th>Cid</th>\n",
              "      <th>tradeTime</th>\n",
              "      <th>DOM</th>\n",
              "      <th>followers</th>\n",
              "      <th>totalPrice</th>\n",
              "      <th>price</th>\n",
              "      <th>square</th>\n",
              "      <th>livingRoom</th>\n",
              "      <th>drawingRoom</th>\n",
              "      <th>kitchen</th>\n",
              "      <th>bathRoom</th>\n",
              "      <th>floor</th>\n",
              "      <th>buildingType</th>\n",
              "      <th>constructionTime</th>\n",
              "      <th>renovationCondition</th>\n",
              "      <th>buildingStructure</th>\n",
              "      <th>ladderRatio</th>\n",
              "      <th>elevator</th>\n",
              "      <th>fiveYearsProperty</th>\n",
              "      <th>subway</th>\n",
              "      <th>district</th>\n",
              "      <th>communityAverage</th>\n",
              "    </tr>\n",
              "  </thead>\n",
              "  <tbody>\n",
              "    <tr>\n",
              "      <th>0</th>\n",
              "      <td>https://bj.lianjia.com/chengjiao/101084782030....</td>\n",
              "      <td>101084782030</td>\n",
              "      <td>116.475489</td>\n",
              "      <td>40.019520</td>\n",
              "      <td>1111027376244</td>\n",
              "      <td>2016-08-09</td>\n",
              "      <td>1464.0</td>\n",
              "      <td>106</td>\n",
              "      <td>415.0</td>\n",
              "      <td>31680</td>\n",
              "      <td>131.00</td>\n",
              "      <td>2</td>\n",
              "      <td>1</td>\n",
              "      <td>1</td>\n",
              "      <td>1</td>\n",
              "      <td>高 26</td>\n",
              "      <td>1.0</td>\n",
              "      <td>2005</td>\n",
              "      <td>3</td>\n",
              "      <td>6</td>\n",
              "      <td>0.217</td>\n",
              "      <td>1.0</td>\n",
              "      <td>0.0</td>\n",
              "      <td>1.0</td>\n",
              "      <td>7</td>\n",
              "      <td>56021.0</td>\n",
              "    </tr>\n",
              "    <tr>\n",
              "      <th>1</th>\n",
              "      <td>https://bj.lianjia.com/chengjiao/101086012217....</td>\n",
              "      <td>101086012217</td>\n",
              "      <td>116.453917</td>\n",
              "      <td>39.881534</td>\n",
              "      <td>1111027381879</td>\n",
              "      <td>2016-07-28</td>\n",
              "      <td>903.0</td>\n",
              "      <td>126</td>\n",
              "      <td>575.0</td>\n",
              "      <td>43436</td>\n",
              "      <td>132.38</td>\n",
              "      <td>2</td>\n",
              "      <td>2</td>\n",
              "      <td>1</td>\n",
              "      <td>2</td>\n",
              "      <td>高 22</td>\n",
              "      <td>1.0</td>\n",
              "      <td>2004</td>\n",
              "      <td>4</td>\n",
              "      <td>6</td>\n",
              "      <td>0.667</td>\n",
              "      <td>1.0</td>\n",
              "      <td>1.0</td>\n",
              "      <td>0.0</td>\n",
              "      <td>7</td>\n",
              "      <td>71539.0</td>\n",
              "    </tr>\n",
              "    <tr>\n",
              "      <th>2</th>\n",
              "      <td>https://bj.lianjia.com/chengjiao/101086041636....</td>\n",
              "      <td>101086041636</td>\n",
              "      <td>116.561978</td>\n",
              "      <td>39.877145</td>\n",
              "      <td>1111040862969</td>\n",
              "      <td>2016-12-11</td>\n",
              "      <td>1271.0</td>\n",
              "      <td>48</td>\n",
              "      <td>1030.0</td>\n",
              "      <td>52021</td>\n",
              "      <td>198.00</td>\n",
              "      <td>3</td>\n",
              "      <td>2</td>\n",
              "      <td>1</td>\n",
              "      <td>3</td>\n",
              "      <td>中 4</td>\n",
              "      <td>4.0</td>\n",
              "      <td>2005</td>\n",
              "      <td>3</td>\n",
              "      <td>6</td>\n",
              "      <td>0.500</td>\n",
              "      <td>1.0</td>\n",
              "      <td>0.0</td>\n",
              "      <td>0.0</td>\n",
              "      <td>7</td>\n",
              "      <td>48160.0</td>\n",
              "    </tr>\n",
              "    <tr>\n",
              "      <th>3</th>\n",
              "      <td>https://bj.lianjia.com/chengjiao/101086406841....</td>\n",
              "      <td>101086406841</td>\n",
              "      <td>116.438010</td>\n",
              "      <td>40.076114</td>\n",
              "      <td>1111043185817</td>\n",
              "      <td>2016-09-30</td>\n",
              "      <td>965.0</td>\n",
              "      <td>138</td>\n",
              "      <td>297.5</td>\n",
              "      <td>22202</td>\n",
              "      <td>134.00</td>\n",
              "      <td>3</td>\n",
              "      <td>1</td>\n",
              "      <td>1</td>\n",
              "      <td>1</td>\n",
              "      <td>底 21</td>\n",
              "      <td>1.0</td>\n",
              "      <td>2008</td>\n",
              "      <td>1</td>\n",
              "      <td>6</td>\n",
              "      <td>0.273</td>\n",
              "      <td>1.0</td>\n",
              "      <td>0.0</td>\n",
              "      <td>0.0</td>\n",
              "      <td>6</td>\n",
              "      <td>51238.0</td>\n",
              "    </tr>\n",
              "    <tr>\n",
              "      <th>4</th>\n",
              "      <td>https://bj.lianjia.com/chengjiao/101086920653....</td>\n",
              "      <td>101086920653</td>\n",
              "      <td>116.428392</td>\n",
              "      <td>39.886229</td>\n",
              "      <td>1111027381174</td>\n",
              "      <td>2016-08-28</td>\n",
              "      <td>927.0</td>\n",
              "      <td>286</td>\n",
              "      <td>392.0</td>\n",
              "      <td>48396</td>\n",
              "      <td>81.00</td>\n",
              "      <td>2</td>\n",
              "      <td>1</td>\n",
              "      <td>1</td>\n",
              "      <td>1</td>\n",
              "      <td>中 6</td>\n",
              "      <td>4.0</td>\n",
              "      <td>1960</td>\n",
              "      <td>2</td>\n",
              "      <td>2</td>\n",
              "      <td>0.333</td>\n",
              "      <td>0.0</td>\n",
              "      <td>1.0</td>\n",
              "      <td>1.0</td>\n",
              "      <td>1</td>\n",
              "      <td>62588.0</td>\n",
              "    </tr>\n",
              "    <tr>\n",
              "      <th>...</th>\n",
              "      <td>...</td>\n",
              "      <td>...</td>\n",
              "      <td>...</td>\n",
              "      <td>...</td>\n",
              "      <td>...</td>\n",
              "      <td>...</td>\n",
              "      <td>...</td>\n",
              "      <td>...</td>\n",
              "      <td>...</td>\n",
              "      <td>...</td>\n",
              "      <td>...</td>\n",
              "      <td>...</td>\n",
              "      <td>...</td>\n",
              "      <td>...</td>\n",
              "      <td>...</td>\n",
              "      <td>...</td>\n",
              "      <td>...</td>\n",
              "      <td>...</td>\n",
              "      <td>...</td>\n",
              "      <td>...</td>\n",
              "      <td>...</td>\n",
              "      <td>...</td>\n",
              "      <td>...</td>\n",
              "      <td>...</td>\n",
              "      <td>...</td>\n",
              "      <td>...</td>\n",
              "    </tr>\n",
              "    <tr>\n",
              "      <th>318846</th>\n",
              "      <td>https://bj.lianjia.com/chengjiao/BJYZ92311192....</td>\n",
              "      <td>BJYZ92311192</td>\n",
              "      <td>116.546899</td>\n",
              "      <td>39.755236</td>\n",
              "      <td>1111027377053</td>\n",
              "      <td>2016-06-10</td>\n",
              "      <td>1.0</td>\n",
              "      <td>8</td>\n",
              "      <td>350.0</td>\n",
              "      <td>20580</td>\n",
              "      <td>170.07</td>\n",
              "      <td>3</td>\n",
              "      <td>2</td>\n",
              "      <td>1</td>\n",
              "      <td>2</td>\n",
              "      <td>中 5</td>\n",
              "      <td>4.0</td>\n",
              "      <td>2003</td>\n",
              "      <td>1</td>\n",
              "      <td>6</td>\n",
              "      <td>0.333</td>\n",
              "      <td>0.0</td>\n",
              "      <td>1.0</td>\n",
              "      <td>0.0</td>\n",
              "      <td>3</td>\n",
              "      <td>36545.0</td>\n",
              "    </tr>\n",
              "    <tr>\n",
              "      <th>318847</th>\n",
              "      <td>https://bj.lianjia.com/chengjiao/BJYZ92320171....</td>\n",
              "      <td>BJYZ92320171</td>\n",
              "      <td>116.497474</td>\n",
              "      <td>39.810115</td>\n",
              "      <td>1111027377957</td>\n",
              "      <td>2016-06-10</td>\n",
              "      <td>NaN</td>\n",
              "      <td>1</td>\n",
              "      <td>108.8</td>\n",
              "      <td>31006</td>\n",
              "      <td>35.09</td>\n",
              "      <td>1</td>\n",
              "      <td>0</td>\n",
              "      <td>1</td>\n",
              "      <td>1</td>\n",
              "      <td>中 24</td>\n",
              "      <td>1.0</td>\n",
              "      <td>2009</td>\n",
              "      <td>1</td>\n",
              "      <td>6</td>\n",
              "      <td>0.222</td>\n",
              "      <td>1.0</td>\n",
              "      <td>0.0</td>\n",
              "      <td>1.0</td>\n",
              "      <td>3</td>\n",
              "      <td>54282.0</td>\n",
              "    </tr>\n",
              "    <tr>\n",
              "      <th>318848</th>\n",
              "      <td>https://bj.lianjia.com/chengjiao/BJYZ92324217....</td>\n",
              "      <td>BJYZ92324217</td>\n",
              "      <td>116.497256</td>\n",
              "      <td>39.804081</td>\n",
              "      <td>1111027380056</td>\n",
              "      <td>2016-06-05</td>\n",
              "      <td>1.0</td>\n",
              "      <td>2</td>\n",
              "      <td>359.0</td>\n",
              "      <td>35138</td>\n",
              "      <td>102.17</td>\n",
              "      <td>2</td>\n",
              "      <td>2</td>\n",
              "      <td>1</td>\n",
              "      <td>2</td>\n",
              "      <td>中 7</td>\n",
              "      <td>4.0</td>\n",
              "      <td>2000</td>\n",
              "      <td>3</td>\n",
              "      <td>6</td>\n",
              "      <td>0.500</td>\n",
              "      <td>1.0</td>\n",
              "      <td>1.0</td>\n",
              "      <td>0.0</td>\n",
              "      <td>3</td>\n",
              "      <td>46927.0</td>\n",
              "    </tr>\n",
              "    <tr>\n",
              "      <th>318849</th>\n",
              "      <td>https://bj.lianjia.com/chengjiao/BJYZ92333313....</td>\n",
              "      <td>BJYZ92333313</td>\n",
              "      <td>116.501794</td>\n",
              "      <td>39.799347</td>\n",
              "      <td>1111027377054</td>\n",
              "      <td>2016-06-12</td>\n",
              "      <td>NaN</td>\n",
              "      <td>4</td>\n",
              "      <td>720.0</td>\n",
              "      <td>40373</td>\n",
              "      <td>178.34</td>\n",
              "      <td>4</td>\n",
              "      <td>2</td>\n",
              "      <td>1</td>\n",
              "      <td>2</td>\n",
              "      <td>中 5</td>\n",
              "      <td>4.0</td>\n",
              "      <td>2003</td>\n",
              "      <td>4</td>\n",
              "      <td>2</td>\n",
              "      <td>0.500</td>\n",
              "      <td>0.0</td>\n",
              "      <td>1.0</td>\n",
              "      <td>0.0</td>\n",
              "      <td>3</td>\n",
              "      <td>54842.0</td>\n",
              "    </tr>\n",
              "    <tr>\n",
              "      <th>318850</th>\n",
              "      <td>https://bj.lianjia.com/chengjiao/BJYZ92363553....</td>\n",
              "      <td>BJYZ92363553</td>\n",
              "      <td>116.497474</td>\n",
              "      <td>39.810115</td>\n",
              "      <td>1111027377957</td>\n",
              "      <td>2016-06-11</td>\n",
              "      <td>1.0</td>\n",
              "      <td>0</td>\n",
              "      <td>450.0</td>\n",
              "      <td>48675</td>\n",
              "      <td>92.45</td>\n",
              "      <td>2</td>\n",
              "      <td>1</td>\n",
              "      <td>1</td>\n",
              "      <td>1</td>\n",
              "      <td>中 17</td>\n",
              "      <td>4.0</td>\n",
              "      <td>未知</td>\n",
              "      <td>4</td>\n",
              "      <td>6</td>\n",
              "      <td>1.000</td>\n",
              "      <td>1.0</td>\n",
              "      <td>0.0</td>\n",
              "      <td>1.0</td>\n",
              "      <td>3</td>\n",
              "      <td>54282.0</td>\n",
              "    </tr>\n",
              "  </tbody>\n",
              "</table>\n",
              "<p>318851 rows × 26 columns</p>\n",
              "</div>"
            ],
            "text/plain": [
              "                                                      url  ... communityAverage\n",
              "0       https://bj.lianjia.com/chengjiao/101084782030....  ...          56021.0\n",
              "1       https://bj.lianjia.com/chengjiao/101086012217....  ...          71539.0\n",
              "2       https://bj.lianjia.com/chengjiao/101086041636....  ...          48160.0\n",
              "3       https://bj.lianjia.com/chengjiao/101086406841....  ...          51238.0\n",
              "4       https://bj.lianjia.com/chengjiao/101086920653....  ...          62588.0\n",
              "...                                                   ...  ...              ...\n",
              "318846  https://bj.lianjia.com/chengjiao/BJYZ92311192....  ...          36545.0\n",
              "318847  https://bj.lianjia.com/chengjiao/BJYZ92320171....  ...          54282.0\n",
              "318848  https://bj.lianjia.com/chengjiao/BJYZ92324217....  ...          46927.0\n",
              "318849  https://bj.lianjia.com/chengjiao/BJYZ92333313....  ...          54842.0\n",
              "318850  https://bj.lianjia.com/chengjiao/BJYZ92363553....  ...          54282.0\n",
              "\n",
              "[318851 rows x 26 columns]"
            ]
          },
          "metadata": {
            "tags": []
          },
          "execution_count": 5
        }
      ]
    },
    {
      "cell_type": "markdown",
      "metadata": {
        "id": "Z6nOOWRvsoQG"
      },
      "source": [
        "# 데이터 설명\n",
        "\n",
        "- 链家网是集房源信息搜索、产品研发、大数据处理、服务标准建立为一体的以数据驱动的全价值链房产服务平台。主营：二手房、租房、新房。您可通过小区找房，链家App等找房。 <br> \n",
        ":  \"리엔지아\"는 한국의 다방, 직방과 같은 중국의 대표적인 판매·임대·분양용 주택 공급 플랫폼으로 주요 영업(판매) 상품은 중고 주택, 새 주택, 렌트 등이 있다.\n",
        "\n",
        "- Contents : Housing price of Beijing from 2011 to 2017, fetching from Lianjia.com\n",
        "- Inspiration : \n",
        "It may help you predict the housing price of Beijing."
      ]
    },
    {
      "cell_type": "markdown",
      "metadata": {
        "id": "nIfqKXB4pPUZ"
      },
      "source": [
        "#변수 설명\n",
        "\n",
        "- url: the url which fetches the data\n",
        "-id: the id of transaction\n",
        "-Lng: and Lat coordinates, using the BD09 protocol.\n",
        "-Cid: community id\n",
        "-tradeTime: the time of transaction\n",
        "-DOM: active days on market.Know more in https://en.wikipedia.org/wiki/ / Days_on_market / 부동산이 매물로 시장에 나와 있는 기간\n",
        "-followers: the number of people follow the transaction. / 거래 참여자 수\n",
        "-totalPrice: the total price\n",
        "-price: the average price by square\n",
        "-square: the square of house\n",
        "-livingRoom: the number of living room\n",
        "-drawingRoom: the number of drawing room\n",
        "-kitchen: the number of kitchen\n",
        "-bathroom the number of bathroom\n",
        "-floor: the height of the house. I will turn the Chinese characters to English in the next version.\n",
        "-buildingType: including tower( 1 ) , bungalow( 2 )，combination of plate and tower( 3 ), plate( 4 ). / 범주형 \n",
        "-constructionTime: the time of construction\n",
        "-renovationCondition: including other( 1 ), rough( 2 ),Simplicity( 3 ), hardcover( 4 ) / 범주형\n",
        "-buildingStructure: including unknow( 1 ), mixed( 2 ), brick and wood( 3 ), brick and concrete( 4 ),steel( 5 ) and steel-concrete composite ( 6 ). / 범주형\n",
        "-ladderRatio: the proportion between number of residents on the same floor and number of elevator of ladder. It describes how many ladders a resident have on average.\n",
        "-elevator have ( 1 ) or not have elevator( 0 ) / 범주형\n",
        "-fiveYearsProperty: It's related to China restricted purchase of houses policy / 범주형\n",
        "-  Community average price / 지역 주택 평단가 가격"
      ]
    },
    {
      "cell_type": "code",
      "metadata": {
        "id": "M8fFTc6pz0oj",
        "colab": {
          "base_uri": "https://localhost:8080/"
        },
        "outputId": "88fe85d0-42ca-4135-f163-4602ecf8bede"
      },
      "source": [
        "df.info()"
      ],
      "execution_count": 6,
      "outputs": [
        {
          "output_type": "stream",
          "text": [
            "<class 'pandas.core.frame.DataFrame'>\n",
            "RangeIndex: 318851 entries, 0 to 318850\n",
            "Data columns (total 26 columns):\n",
            " #   Column               Non-Null Count   Dtype  \n",
            "---  ------               --------------   -----  \n",
            " 0   url                  318851 non-null  object \n",
            " 1   id                   318851 non-null  object \n",
            " 2   Lng                  318851 non-null  float64\n",
            " 3   Lat                  318851 non-null  float64\n",
            " 4   Cid                  318851 non-null  int64  \n",
            " 5   tradeTime            318851 non-null  object \n",
            " 6   DOM                  160874 non-null  float64\n",
            " 7   followers            318851 non-null  int64  \n",
            " 8   totalPrice           318851 non-null  float64\n",
            " 9   price                318851 non-null  int64  \n",
            " 10  square               318851 non-null  float64\n",
            " 11  livingRoom           318851 non-null  object \n",
            " 12  drawingRoom          318851 non-null  object \n",
            " 13  kitchen              318851 non-null  int64  \n",
            " 14  bathRoom             318851 non-null  object \n",
            " 15  floor                318851 non-null  object \n",
            " 16  buildingType         316830 non-null  float64\n",
            " 17  constructionTime     318851 non-null  object \n",
            " 18  renovationCondition  318851 non-null  int64  \n",
            " 19  buildingStructure    318851 non-null  int64  \n",
            " 20  ladderRatio          318851 non-null  float64\n",
            " 21  elevator             318819 non-null  float64\n",
            " 22  fiveYearsProperty    318819 non-null  float64\n",
            " 23  subway               318819 non-null  float64\n",
            " 24  district             318851 non-null  int64  \n",
            " 25  communityAverage     318388 non-null  float64\n",
            "dtypes: float64(11), int64(7), object(8)\n",
            "memory usage: 63.2+ MB\n"
          ],
          "name": "stdout"
        }
      ]
    },
    {
      "cell_type": "code",
      "metadata": {
        "colab": {
          "base_uri": "https://localhost:8080/",
          "height": 316
        },
        "id": "dgcnoqRy6SpJ",
        "outputId": "88df58a4-7ad3-4ca0-f5ca-ea15581f4b4f"
      },
      "source": [
        "df.describe()"
      ],
      "execution_count": 7,
      "outputs": [
        {
          "output_type": "execute_result",
          "data": {
            "text/html": [
              "<div>\n",
              "<style scoped>\n",
              "    .dataframe tbody tr th:only-of-type {\n",
              "        vertical-align: middle;\n",
              "    }\n",
              "\n",
              "    .dataframe tbody tr th {\n",
              "        vertical-align: top;\n",
              "    }\n",
              "\n",
              "    .dataframe thead th {\n",
              "        text-align: right;\n",
              "    }\n",
              "</style>\n",
              "<table border=\"1\" class=\"dataframe\">\n",
              "  <thead>\n",
              "    <tr style=\"text-align: right;\">\n",
              "      <th></th>\n",
              "      <th>Lng</th>\n",
              "      <th>Lat</th>\n",
              "      <th>Cid</th>\n",
              "      <th>DOM</th>\n",
              "      <th>followers</th>\n",
              "      <th>totalPrice</th>\n",
              "      <th>price</th>\n",
              "      <th>square</th>\n",
              "      <th>kitchen</th>\n",
              "      <th>buildingType</th>\n",
              "      <th>renovationCondition</th>\n",
              "      <th>buildingStructure</th>\n",
              "      <th>ladderRatio</th>\n",
              "      <th>elevator</th>\n",
              "      <th>fiveYearsProperty</th>\n",
              "      <th>subway</th>\n",
              "      <th>district</th>\n",
              "      <th>communityAverage</th>\n",
              "    </tr>\n",
              "  </thead>\n",
              "  <tbody>\n",
              "    <tr>\n",
              "      <th>count</th>\n",
              "      <td>318851.000000</td>\n",
              "      <td>318851.000000</td>\n",
              "      <td>3.188510e+05</td>\n",
              "      <td>160874.000000</td>\n",
              "      <td>318851.000000</td>\n",
              "      <td>318851.000000</td>\n",
              "      <td>318851.000000</td>\n",
              "      <td>318851.000000</td>\n",
              "      <td>318851.000000</td>\n",
              "      <td>316830.000000</td>\n",
              "      <td>318851.000000</td>\n",
              "      <td>318851.000000</td>\n",
              "      <td>3.188510e+05</td>\n",
              "      <td>318819.000000</td>\n",
              "      <td>318819.000000</td>\n",
              "      <td>318819.000000</td>\n",
              "      <td>318851.000000</td>\n",
              "      <td>318388.000000</td>\n",
              "    </tr>\n",
              "    <tr>\n",
              "      <th>mean</th>\n",
              "      <td>116.418459</td>\n",
              "      <td>39.949591</td>\n",
              "      <td>1.129113e+12</td>\n",
              "      <td>28.822339</td>\n",
              "      <td>16.731508</td>\n",
              "      <td>349.030201</td>\n",
              "      <td>43530.436379</td>\n",
              "      <td>83.240597</td>\n",
              "      <td>0.994599</td>\n",
              "      <td>3.009790</td>\n",
              "      <td>2.606330</td>\n",
              "      <td>4.451026</td>\n",
              "      <td>6.316486e+01</td>\n",
              "      <td>0.577055</td>\n",
              "      <td>0.645601</td>\n",
              "      <td>0.601112</td>\n",
              "      <td>6.763564</td>\n",
              "      <td>63682.446305</td>\n",
              "    </tr>\n",
              "    <tr>\n",
              "      <th>std</th>\n",
              "      <td>0.112054</td>\n",
              "      <td>0.091983</td>\n",
              "      <td>2.363447e+12</td>\n",
              "      <td>50.237343</td>\n",
              "      <td>34.209185</td>\n",
              "      <td>230.780778</td>\n",
              "      <td>21709.024204</td>\n",
              "      <td>37.234661</td>\n",
              "      <td>0.109609</td>\n",
              "      <td>1.269857</td>\n",
              "      <td>1.311739</td>\n",
              "      <td>1.901753</td>\n",
              "      <td>2.506851e+04</td>\n",
              "      <td>0.494028</td>\n",
              "      <td>0.478331</td>\n",
              "      <td>0.489670</td>\n",
              "      <td>2.812616</td>\n",
              "      <td>22329.215447</td>\n",
              "    </tr>\n",
              "    <tr>\n",
              "      <th>min</th>\n",
              "      <td>116.072514</td>\n",
              "      <td>39.627030</td>\n",
              "      <td>1.111027e+12</td>\n",
              "      <td>1.000000</td>\n",
              "      <td>0.000000</td>\n",
              "      <td>0.100000</td>\n",
              "      <td>1.000000</td>\n",
              "      <td>6.900000</td>\n",
              "      <td>0.000000</td>\n",
              "      <td>0.048000</td>\n",
              "      <td>0.000000</td>\n",
              "      <td>0.000000</td>\n",
              "      <td>0.000000e+00</td>\n",
              "      <td>0.000000</td>\n",
              "      <td>0.000000</td>\n",
              "      <td>0.000000</td>\n",
              "      <td>1.000000</td>\n",
              "      <td>10847.000000</td>\n",
              "    </tr>\n",
              "    <tr>\n",
              "      <th>25%</th>\n",
              "      <td>116.344985</td>\n",
              "      <td>39.893200</td>\n",
              "      <td>1.111027e+12</td>\n",
              "      <td>1.000000</td>\n",
              "      <td>0.000000</td>\n",
              "      <td>205.000000</td>\n",
              "      <td>28050.000000</td>\n",
              "      <td>57.900000</td>\n",
              "      <td>1.000000</td>\n",
              "      <td>1.000000</td>\n",
              "      <td>1.000000</td>\n",
              "      <td>2.000000</td>\n",
              "      <td>2.500000e-01</td>\n",
              "      <td>0.000000</td>\n",
              "      <td>0.000000</td>\n",
              "      <td>0.000000</td>\n",
              "      <td>6.000000</td>\n",
              "      <td>46339.000000</td>\n",
              "    </tr>\n",
              "    <tr>\n",
              "      <th>50%</th>\n",
              "      <td>116.416780</td>\n",
              "      <td>39.934527</td>\n",
              "      <td>1.111027e+12</td>\n",
              "      <td>6.000000</td>\n",
              "      <td>5.000000</td>\n",
              "      <td>294.000000</td>\n",
              "      <td>38737.000000</td>\n",
              "      <td>74.260000</td>\n",
              "      <td>1.000000</td>\n",
              "      <td>4.000000</td>\n",
              "      <td>3.000000</td>\n",
              "      <td>6.000000</td>\n",
              "      <td>3.330000e-01</td>\n",
              "      <td>1.000000</td>\n",
              "      <td>1.000000</td>\n",
              "      <td>1.000000</td>\n",
              "      <td>7.000000</td>\n",
              "      <td>59015.000000</td>\n",
              "    </tr>\n",
              "    <tr>\n",
              "      <th>75%</th>\n",
              "      <td>116.477581</td>\n",
              "      <td>40.003018</td>\n",
              "      <td>1.111027e+12</td>\n",
              "      <td>37.000000</td>\n",
              "      <td>18.000000</td>\n",
              "      <td>425.500000</td>\n",
              "      <td>53819.500000</td>\n",
              "      <td>98.710000</td>\n",
              "      <td>1.000000</td>\n",
              "      <td>4.000000</td>\n",
              "      <td>4.000000</td>\n",
              "      <td>6.000000</td>\n",
              "      <td>5.000000e-01</td>\n",
              "      <td>1.000000</td>\n",
              "      <td>1.000000</td>\n",
              "      <td>1.000000</td>\n",
              "      <td>8.000000</td>\n",
              "      <td>75950.000000</td>\n",
              "    </tr>\n",
              "    <tr>\n",
              "      <th>max</th>\n",
              "      <td>116.732378</td>\n",
              "      <td>40.252758</td>\n",
              "      <td>1.114620e+15</td>\n",
              "      <td>1677.000000</td>\n",
              "      <td>1143.000000</td>\n",
              "      <td>18130.000000</td>\n",
              "      <td>156250.000000</td>\n",
              "      <td>1745.500000</td>\n",
              "      <td>4.000000</td>\n",
              "      <td>4.000000</td>\n",
              "      <td>4.000000</td>\n",
              "      <td>6.000000</td>\n",
              "      <td>1.000940e+07</td>\n",
              "      <td>1.000000</td>\n",
              "      <td>1.000000</td>\n",
              "      <td>1.000000</td>\n",
              "      <td>13.000000</td>\n",
              "      <td>183109.000000</td>\n",
              "    </tr>\n",
              "  </tbody>\n",
              "</table>\n",
              "</div>"
            ],
            "text/plain": [
              "                 Lng            Lat  ...       district  communityAverage\n",
              "count  318851.000000  318851.000000  ...  318851.000000     318388.000000\n",
              "mean      116.418459      39.949591  ...       6.763564      63682.446305\n",
              "std         0.112054       0.091983  ...       2.812616      22329.215447\n",
              "min       116.072514      39.627030  ...       1.000000      10847.000000\n",
              "25%       116.344985      39.893200  ...       6.000000      46339.000000\n",
              "50%       116.416780      39.934527  ...       7.000000      59015.000000\n",
              "75%       116.477581      40.003018  ...       8.000000      75950.000000\n",
              "max       116.732378      40.252758  ...      13.000000     183109.000000\n",
              "\n",
              "[8 rows x 18 columns]"
            ]
          },
          "metadata": {
            "tags": []
          },
          "execution_count": 7
        }
      ]
    },
    {
      "cell_type": "code",
      "metadata": {
        "id": "lzdUg6dQz8V1",
        "colab": {
          "base_uri": "https://localhost:8080/"
        },
        "outputId": "a2eb5a74-c4c4-4a4e-ed22-2c7a0eeea5fd"
      },
      "source": [
        "# 데이터 결측값 확인\n",
        "df.isnull().sum()"
      ],
      "execution_count": 9,
      "outputs": [
        {
          "output_type": "execute_result",
          "data": {
            "text/plain": [
              "url                         0\n",
              "id                          0\n",
              "Lng                         0\n",
              "Lat                         0\n",
              "Cid                         0\n",
              "tradeTime                   0\n",
              "DOM                    157977\n",
              "followers                   0\n",
              "totalPrice                  0\n",
              "price                       0\n",
              "square                      0\n",
              "livingRoom                  0\n",
              "drawingRoom                 0\n",
              "kitchen                     0\n",
              "bathRoom                    0\n",
              "floor                       0\n",
              "buildingType             2021\n",
              "constructionTime            0\n",
              "renovationCondition         0\n",
              "buildingStructure           0\n",
              "ladderRatio                 0\n",
              "elevator                   32\n",
              "fiveYearsProperty          32\n",
              "subway                     32\n",
              "district                    0\n",
              "communityAverage          463\n",
              "dtype: int64"
            ]
          },
          "metadata": {
            "tags": []
          },
          "execution_count": 9
        }
      ]
    },
    {
      "cell_type": "code",
      "metadata": {
        "id": "-SrZGvc61xXz",
        "outputId": "bd114f0a-1f9b-4a96-fc2a-e9536f37327e",
        "colab": {
          "base_uri": "https://localhost:8080/",
          "height": 281
        }
      },
      "source": [
        "#이상값 확인\n",
        "plt.title('Outlier of target')\n",
        "plt.boxplot(df['totalPrice'], sym='bo')\n",
        "plt.show()"
      ],
      "execution_count": 10,
      "outputs": [
        {
          "output_type": "display_data",
          "data": {
            "image/png": "[encoded data removed]",
            "text/plain": [
              "<Figure size 432x288 with 1 Axes>"
            ]
          },
          "metadata": {
            "tags": [],
            "needs_background": "light"
          }
        }
      ]
    },
    {
      "cell_type": "code",
      "metadata": {
        "id": "79hLKcuO1_vm",
        "outputId": "86e9563d-02b2-4546-ae7f-44e223c7cb1d",
        "colab": {
          "base_uri": "https://localhost:8080/",
          "height": 369
        }
      },
      "source": [
        "# 타겟변수 분포도 확인 시각화\n",
        "sns.displot(df['totalPrice']); #타겟 변수 / 분포가 왼쪽으로 편중되어 있다. "
      ],
      "execution_count": 11,
      "outputs": [
        {
          "output_type": "display_data",
          "data": {
            "image/png": "[encoded data removed]",
            "text/plain": [
              "<Figure size 360x360 with 1 Axes>"
            ]
          },
          "metadata": {
            "tags": [],
            "needs_background": "light"
          }
        }
      ]
    },
    {
      "cell_type": "code",
      "metadata": {
        "id": "HikXLN3sO_Tn",
        "outputId": "4cf5c864-5470-4ec7-9fe4-26e6422d305e",
        "colab": {
          "base_uri": "https://localhost:8080/"
        }
      },
      "source": [
        "df.dtypes"
      ],
      "execution_count": 7,
      "outputs": [
        {
          "output_type": "execute_result",
          "data": {
            "text/plain": [
              "url                     object\n",
              "id                      object\n",
              "Lng                    float64\n",
              "Lat                    float64\n",
              "Cid                      int64\n",
              "tradeTime               object\n",
              "DOM                    float64\n",
              "followers                int64\n",
              "totalPrice             float64\n",
              "price                    int64\n",
              "square                 float64\n",
              "livingRoom              object\n",
              "drawingRoom             object\n",
              "kitchen                  int64\n",
              "bathRoom                object\n",
              "floor                   object\n",
              "buildingType           float64\n",
              "constructionTime        object\n",
              "renovationCondition      int64\n",
              "buildingStructure        int64\n",
              "ladderRatio            float64\n",
              "elevator               float64\n",
              "fiveYearsProperty      float64\n",
              "subway                 float64\n",
              "district                 int64\n",
              "communityAverage       float64\n",
              "dtype: object"
            ]
          },
          "metadata": {
            "tags": []
          },
          "execution_count": 7
        }
      ]
    },
    {
      "cell_type": "code",
      "metadata": {
        "id": "lmxZzphNWTV1"
      },
      "source": [
        "import datetime as dt"
      ],
      "execution_count": 4,
      "outputs": []
    },
    {
      "cell_type": "code",
      "metadata": {
        "id": "5xm_0nMrA_lk"
      },
      "source": [
        "################################################# 데이터 전처리 ####################################################### \n",
        "\n",
        "# 1) 변수에 포함되어 있는 한자 등 특수 문자 제거 ex) (高 ，中， 底 : 주택의 높이를 나타내는 한자)\n",
        "df['floor'] = df['floor'].replace(r'[^0-9a-zA-Z ]', '', regex=True).replace(\"'\", '') # 정규식 활용\n",
        "\n",
        "# 2) 알 수 없는 관측치 제거  \n",
        "#df['constructionTime'].value_counts() # 약 19,000개의 건축 연도를 알 수 없는 데이터 값이 있다. 데이터 수를 고려했을 때, 이 값들을 제거해도 된다고 판단 \n",
        "df = df[~df['constructionTime'].isin(['未知'])]\n",
        "\n",
        "# 3) 컬럼에 포함되어 있는 결측값을 적절한 값 대체(DOM 컬럼에 대하여)\n",
        "# Days_on_market(DOM)란, 부동산이 매물로 시장에 나와 있는 기간(단위 / 일)로서, 본 데이터에 포함되어 있는 해당 컬럼의 결측치가 약 15만개(데이터 절반)에 달해 이 값을 중위값으로 대체하여 연구에 사용할 수 있도록 했다.\n",
        "df['DOM'].fillna(df['DOM'].median(),inplace=True) \n",
        "\n",
        "# 4) 결측치 제거 / 나머지 컬럼의 결측값이 비교적 적으므로 영향이 적다고 판단하여 결측치를 제거\n",
        "df = df.dropna(axis=0, how='any')\n",
        "\n",
        "# 4-1) 날짜 컬럼 정리 (연도만 사용)\n",
        "def tradeTimeMod(x):\n",
        "    return x[0:4]\n",
        "\n",
        "df['tradeTime'] = df['tradeTime'].apply(tradeTimeMod)\n",
        "\n",
        "# 5) object형 자료형을 가진 컬럼에 대해 int형으로 형변환\n",
        "#df['tradeTime'] = df['tradeTime'].astype('int64')\n",
        "df['livingRoom'] = df['livingRoom'].astype('int64')\n",
        "df['drawingRoom']= df['drawingRoom'].astype('int64')\n",
        "df['bathRoom']= df['bathRoom'].astype('int64')\n",
        "df['floor']= df['floor'].astype('int64')\n",
        "\n",
        "# 6) int형 자료형을 가진 컬럼에 대해 범주형으로 형변환\n",
        "df['buildingType']= df['buildingType'].astype(object) \n",
        "df['renovationCondition']= df['renovationCondition'].astype(object) \n",
        "df['buildingStructure ']= df['buildingStructure'].astype(object)\n",
        "df['elevator']= df['elevator'].astype(object)\n",
        "df['fiveYearsProperty']= df['fiveYearsProperty'].astype(object)\n",
        "df['subway']= df['subway'].astype(object)\n",
        "df['district']= df['district'].astype(object)\n",
        "\n",
        "# 7) 거래날짜 별 데이터 순차 정렬\n",
        "df = df.sort_values(by=['tradeTime'] ,ascending=True).reset_index()\n",
        "df.drop('index', axis=1, inplace=True)\n",
        "\n",
        "# 8) 분석에 영향력이 없다고 생각하는 변수 제거\n",
        "df.drop(['url', 'id', 'Lng', 'Lat', 'Cid', 'price'], axis=1, inplace=True)\n",
        "\n",
        "# 9) 화폐 단위 통일 (단위 가격 : 1만 위안, 예: totalPrice가 152.5면 1만배를 한 1,520,000 위안이 총 가격이다.)\n",
        "df['communityAverage'] = (df['communityAverage'] * 0.0001)\n",
        "\n",
        "# 10) 이상값 제거 \n",
        "#타겟 변수 이상값 제거\n",
        "df['totalPrice'] = df[df['totalPrice'] < np.percentile(df['totalPrice'], 99)]['totalPrice']\n",
        "# # 특성 변수 이상값 제거(0.05% 극단값)\n",
        "# df['price'] = df[df['price'] < np.percentile(df['price'], 99.5)]['price']\n",
        "# df['square'] = df[df['square'] < np.percentile(df['square'], 99.5)]['square']\n",
        "# df['communityAverage'] = df[df['communityAverage'] < np.percentile(df['communityAverage'], 99.5)]['communityAverage']\n",
        "\n",
        "# 거래날짜와 건축연도가 불일치하는 행 제거 \n",
        "df = df.drop(df.index[0:4])\n",
        "\n",
        "df = df.dropna(axis=0, how='any').reset_index()\n",
        "df.drop('index', axis=1, inplace=True)"
      ],
      "execution_count": 5,
      "outputs": []
    },
    {
      "cell_type": "code",
      "metadata": {
        "id": "q0SdZoPIuSQe",
        "outputId": "11a913ad-8a2a-45de-e114-99d093a58b16",
        "colab": {
          "base_uri": "https://localhost:8080/",
          "height": 438
        }
      },
      "source": [
        "df"
      ],
      "execution_count": 6,
      "outputs": [
        {
          "output_type": "execute_result",
          "data": {
            "text/html": [
              "<div>\n",
              "<style scoped>\n",
              "    .dataframe tbody tr th:only-of-type {\n",
              "        vertical-align: middle;\n",
              "    }\n",
              "\n",
              "    .dataframe tbody tr th {\n",
              "        vertical-align: top;\n",
              "    }\n",
              "\n",
              "    .dataframe thead th {\n",
              "        text-align: right;\n",
              "    }\n",
              "</style>\n",
              "<table border=\"1\" class=\"dataframe\">\n",
              "  <thead>\n",
              "    <tr style=\"text-align: right;\">\n",
              "      <th></th>\n",
              "      <th>tradeTime</th>\n",
              "      <th>DOM</th>\n",
              "      <th>followers</th>\n",
              "      <th>totalPrice</th>\n",
              "      <th>square</th>\n",
              "      <th>livingRoom</th>\n",
              "      <th>drawingRoom</th>\n",
              "      <th>kitchen</th>\n",
              "      <th>bathRoom</th>\n",
              "      <th>floor</th>\n",
              "      <th>buildingType</th>\n",
              "      <th>constructionTime</th>\n",
              "      <th>renovationCondition</th>\n",
              "      <th>buildingStructure</th>\n",
              "      <th>ladderRatio</th>\n",
              "      <th>elevator</th>\n",
              "      <th>fiveYearsProperty</th>\n",
              "      <th>subway</th>\n",
              "      <th>district</th>\n",
              "      <th>communityAverage</th>\n",
              "      <th>buildingStructure</th>\n",
              "    </tr>\n",
              "  </thead>\n",
              "  <tbody>\n",
              "    <tr>\n",
              "      <th>0</th>\n",
              "      <td>2009</td>\n",
              "      <td>7.0</td>\n",
              "      <td>0</td>\n",
              "      <td>150.0</td>\n",
              "      <td>55.63</td>\n",
              "      <td>2</td>\n",
              "      <td>1</td>\n",
              "      <td>1</td>\n",
              "      <td>1</td>\n",
              "      <td>6</td>\n",
              "      <td>4</td>\n",
              "      <td>1992</td>\n",
              "      <td>1</td>\n",
              "      <td>2</td>\n",
              "      <td>0.250</td>\n",
              "      <td>0</td>\n",
              "      <td>1</td>\n",
              "      <td>0</td>\n",
              "      <td>10</td>\n",
              "      <td>7.7781</td>\n",
              "      <td>2</td>\n",
              "    </tr>\n",
              "    <tr>\n",
              "      <th>1</th>\n",
              "      <td>2010</td>\n",
              "      <td>1.0</td>\n",
              "      <td>0</td>\n",
              "      <td>97.0</td>\n",
              "      <td>62.63</td>\n",
              "      <td>2</td>\n",
              "      <td>1</td>\n",
              "      <td>0</td>\n",
              "      <td>1</td>\n",
              "      <td>14</td>\n",
              "      <td>3</td>\n",
              "      <td>2006</td>\n",
              "      <td>3</td>\n",
              "      <td>6</td>\n",
              "      <td>0.125</td>\n",
              "      <td>1</td>\n",
              "      <td>0</td>\n",
              "      <td>0</td>\n",
              "      <td>12</td>\n",
              "      <td>3.9492</td>\n",
              "      <td>6</td>\n",
              "    </tr>\n",
              "    <tr>\n",
              "      <th>2</th>\n",
              "      <td>2010</td>\n",
              "      <td>1.0</td>\n",
              "      <td>0</td>\n",
              "      <td>79.0</td>\n",
              "      <td>45.32</td>\n",
              "      <td>1</td>\n",
              "      <td>1</td>\n",
              "      <td>0</td>\n",
              "      <td>1</td>\n",
              "      <td>14</td>\n",
              "      <td>3</td>\n",
              "      <td>2006</td>\n",
              "      <td>4</td>\n",
              "      <td>6</td>\n",
              "      <td>0.125</td>\n",
              "      <td>1</td>\n",
              "      <td>0</td>\n",
              "      <td>0</td>\n",
              "      <td>12</td>\n",
              "      <td>3.9492</td>\n",
              "      <td>6</td>\n",
              "    </tr>\n",
              "    <tr>\n",
              "      <th>3</th>\n",
              "      <td>2010</td>\n",
              "      <td>1.0</td>\n",
              "      <td>0</td>\n",
              "      <td>83.6</td>\n",
              "      <td>64.02</td>\n",
              "      <td>2</td>\n",
              "      <td>1</td>\n",
              "      <td>0</td>\n",
              "      <td>1</td>\n",
              "      <td>6</td>\n",
              "      <td>4</td>\n",
              "      <td>1990</td>\n",
              "      <td>3</td>\n",
              "      <td>2</td>\n",
              "      <td>0.333</td>\n",
              "      <td>0</td>\n",
              "      <td>0</td>\n",
              "      <td>0</td>\n",
              "      <td>12</td>\n",
              "      <td>3.9381</td>\n",
              "      <td>2</td>\n",
              "    </tr>\n",
              "    <tr>\n",
              "      <th>4</th>\n",
              "      <td>2010</td>\n",
              "      <td>1.0</td>\n",
              "      <td>0</td>\n",
              "      <td>153.0</td>\n",
              "      <td>91.39</td>\n",
              "      <td>2</td>\n",
              "      <td>1</td>\n",
              "      <td>0</td>\n",
              "      <td>1</td>\n",
              "      <td>6</td>\n",
              "      <td>4</td>\n",
              "      <td>2003</td>\n",
              "      <td>4</td>\n",
              "      <td>2</td>\n",
              "      <td>0.500</td>\n",
              "      <td>0</td>\n",
              "      <td>0</td>\n",
              "      <td>0</td>\n",
              "      <td>12</td>\n",
              "      <td>3.6923</td>\n",
              "      <td>2</td>\n",
              "    </tr>\n",
              "    <tr>\n",
              "      <th>...</th>\n",
              "      <td>...</td>\n",
              "      <td>...</td>\n",
              "      <td>...</td>\n",
              "      <td>...</td>\n",
              "      <td>...</td>\n",
              "      <td>...</td>\n",
              "      <td>...</td>\n",
              "      <td>...</td>\n",
              "      <td>...</td>\n",
              "      <td>...</td>\n",
              "      <td>...</td>\n",
              "      <td>...</td>\n",
              "      <td>...</td>\n",
              "      <td>...</td>\n",
              "      <td>...</td>\n",
              "      <td>...</td>\n",
              "      <td>...</td>\n",
              "      <td>...</td>\n",
              "      <td>...</td>\n",
              "      <td>...</td>\n",
              "      <td>...</td>\n",
              "    </tr>\n",
              "    <tr>\n",
              "      <th>294711</th>\n",
              "      <td>2018</td>\n",
              "      <td>86.0</td>\n",
              "      <td>97</td>\n",
              "      <td>510.0</td>\n",
              "      <td>108.72</td>\n",
              "      <td>2</td>\n",
              "      <td>1</td>\n",
              "      <td>1</td>\n",
              "      <td>1</td>\n",
              "      <td>25</td>\n",
              "      <td>1</td>\n",
              "      <td>2004</td>\n",
              "      <td>4</td>\n",
              "      <td>6</td>\n",
              "      <td>0.300</td>\n",
              "      <td>1</td>\n",
              "      <td>1</td>\n",
              "      <td>1</td>\n",
              "      <td>7</td>\n",
              "      <td>4.6667</td>\n",
              "      <td>6</td>\n",
              "    </tr>\n",
              "    <tr>\n",
              "      <th>294712</th>\n",
              "      <td>2018</td>\n",
              "      <td>240.0</td>\n",
              "      <td>54</td>\n",
              "      <td>518.0</td>\n",
              "      <td>118.58</td>\n",
              "      <td>3</td>\n",
              "      <td>1</td>\n",
              "      <td>1</td>\n",
              "      <td>1</td>\n",
              "      <td>6</td>\n",
              "      <td>4</td>\n",
              "      <td>2006</td>\n",
              "      <td>3</td>\n",
              "      <td>2</td>\n",
              "      <td>0.500</td>\n",
              "      <td>0</td>\n",
              "      <td>1</td>\n",
              "      <td>1</td>\n",
              "      <td>6</td>\n",
              "      <td>4.3641</td>\n",
              "      <td>2</td>\n",
              "    </tr>\n",
              "    <tr>\n",
              "      <th>294713</th>\n",
              "      <td>2018</td>\n",
              "      <td>23.0</td>\n",
              "      <td>49</td>\n",
              "      <td>415.5</td>\n",
              "      <td>40.50</td>\n",
              "      <td>1</td>\n",
              "      <td>1</td>\n",
              "      <td>1</td>\n",
              "      <td>1</td>\n",
              "      <td>20</td>\n",
              "      <td>1</td>\n",
              "      <td>1992</td>\n",
              "      <td>3</td>\n",
              "      <td>2</td>\n",
              "      <td>0.200</td>\n",
              "      <td>1</td>\n",
              "      <td>1</td>\n",
              "      <td>1</td>\n",
              "      <td>10</td>\n",
              "      <td>9.8860</td>\n",
              "      <td>2</td>\n",
              "    </tr>\n",
              "    <tr>\n",
              "      <th>294714</th>\n",
              "      <td>2018</td>\n",
              "      <td>45.0</td>\n",
              "      <td>159</td>\n",
              "      <td>282.0</td>\n",
              "      <td>81.83</td>\n",
              "      <td>2</td>\n",
              "      <td>1</td>\n",
              "      <td>1</td>\n",
              "      <td>1</td>\n",
              "      <td>6</td>\n",
              "      <td>4</td>\n",
              "      <td>2003</td>\n",
              "      <td>4</td>\n",
              "      <td>2</td>\n",
              "      <td>0.500</td>\n",
              "      <td>0</td>\n",
              "      <td>1</td>\n",
              "      <td>0</td>\n",
              "      <td>6</td>\n",
              "      <td>3.6090</td>\n",
              "      <td>2</td>\n",
              "    </tr>\n",
              "    <tr>\n",
              "      <th>294715</th>\n",
              "      <td>2018</td>\n",
              "      <td>175.0</td>\n",
              "      <td>334</td>\n",
              "      <td>220.0</td>\n",
              "      <td>36.23</td>\n",
              "      <td>1</td>\n",
              "      <td>1</td>\n",
              "      <td>1</td>\n",
              "      <td>1</td>\n",
              "      <td>5</td>\n",
              "      <td>4</td>\n",
              "      <td>1978</td>\n",
              "      <td>3</td>\n",
              "      <td>2</td>\n",
              "      <td>0.333</td>\n",
              "      <td>0</td>\n",
              "      <td>0</td>\n",
              "      <td>1</td>\n",
              "      <td>7</td>\n",
              "      <td>6.1239</td>\n",
              "      <td>2</td>\n",
              "    </tr>\n",
              "  </tbody>\n",
              "</table>\n",
              "<p>294716 rows × 21 columns</p>\n",
              "</div>"
            ],
            "text/plain": [
              "       tradeTime    DOM  ...  communityAverage  buildingStructure \n",
              "0           2009    7.0  ...            7.7781                   2\n",
              "1           2010    1.0  ...            3.9492                   6\n",
              "2           2010    1.0  ...            3.9492                   6\n",
              "3           2010    1.0  ...            3.9381                   2\n",
              "4           2010    1.0  ...            3.6923                   2\n",
              "...          ...    ...  ...               ...                 ...\n",
              "294711      2018   86.0  ...            4.6667                   6\n",
              "294712      2018  240.0  ...            4.3641                   2\n",
              "294713      2018   23.0  ...            9.8860                   2\n",
              "294714      2018   45.0  ...            3.6090                   2\n",
              "294715      2018  175.0  ...            6.1239                   2\n",
              "\n",
              "[294716 rows x 21 columns]"
            ]
          },
          "metadata": {
            "tags": []
          },
          "execution_count": 6
        }
      ]
    },
    {
      "cell_type": "code",
      "metadata": {
        "id": "33FfF-x_kbI8",
        "colab": {
          "base_uri": "https://localhost:8080/",
          "height": 296
        },
        "outputId": "133dad09-5c87-4b60-995a-1b5bc8ed169c"
      },
      "source": [
        "df.describe()"
      ],
      "execution_count": 7,
      "outputs": [
        {
          "output_type": "execute_result",
          "data": {
            "text/html": [
              "<div>\n",
              "<style scoped>\n",
              "    .dataframe tbody tr th:only-of-type {\n",
              "        vertical-align: middle;\n",
              "    }\n",
              "\n",
              "    .dataframe tbody tr th {\n",
              "        vertical-align: top;\n",
              "    }\n",
              "\n",
              "    .dataframe thead th {\n",
              "        text-align: right;\n",
              "    }\n",
              "</style>\n",
              "<table border=\"1\" class=\"dataframe\">\n",
              "  <thead>\n",
              "    <tr style=\"text-align: right;\">\n",
              "      <th></th>\n",
              "      <th>DOM</th>\n",
              "      <th>followers</th>\n",
              "      <th>totalPrice</th>\n",
              "      <th>square</th>\n",
              "      <th>livingRoom</th>\n",
              "      <th>drawingRoom</th>\n",
              "      <th>kitchen</th>\n",
              "      <th>bathRoom</th>\n",
              "      <th>floor</th>\n",
              "      <th>buildingStructure</th>\n",
              "      <th>ladderRatio</th>\n",
              "      <th>communityAverage</th>\n",
              "    </tr>\n",
              "  </thead>\n",
              "  <tbody>\n",
              "    <tr>\n",
              "      <th>count</th>\n",
              "      <td>294716.000000</td>\n",
              "      <td>294716.000000</td>\n",
              "      <td>294716.000000</td>\n",
              "      <td>294716.000000</td>\n",
              "      <td>294716.000000</td>\n",
              "      <td>294716.000000</td>\n",
              "      <td>294716.000000</td>\n",
              "      <td>294716.000000</td>\n",
              "      <td>294716.000000</td>\n",
              "      <td>294716.000000</td>\n",
              "      <td>2.947160e+05</td>\n",
              "      <td>294716.000000</td>\n",
              "    </tr>\n",
              "    <tr>\n",
              "      <th>mean</th>\n",
              "      <td>18.124425</td>\n",
              "      <td>17.094379</td>\n",
              "      <td>337.182582</td>\n",
              "      <td>81.584792</td>\n",
              "      <td>1.997774</td>\n",
              "      <td>1.164684</td>\n",
              "      <td>0.994266</td>\n",
              "      <td>1.171847</td>\n",
              "      <td>13.130672</td>\n",
              "      <td>4.408397</td>\n",
              "      <td>6.830502e+01</td>\n",
              "      <td>6.335387</td>\n",
              "    </tr>\n",
              "    <tr>\n",
              "      <th>std</th>\n",
              "      <td>37.003149</td>\n",
              "      <td>34.695139</td>\n",
              "      <td>186.491288</td>\n",
              "      <td>33.559485</td>\n",
              "      <td>0.752550</td>\n",
              "      <td>0.508203</td>\n",
              "      <td>0.101167</td>\n",
              "      <td>0.404900</td>\n",
              "      <td>7.752314</td>\n",
              "      <td>1.910217</td>\n",
              "      <td>2.607477e+04</td>\n",
              "      <td>2.190601</td>\n",
              "    </tr>\n",
              "    <tr>\n",
              "      <th>min</th>\n",
              "      <td>1.000000</td>\n",
              "      <td>0.000000</td>\n",
              "      <td>0.100000</td>\n",
              "      <td>7.370000</td>\n",
              "      <td>0.000000</td>\n",
              "      <td>0.000000</td>\n",
              "      <td>0.000000</td>\n",
              "      <td>0.000000</td>\n",
              "      <td>1.000000</td>\n",
              "      <td>1.000000</td>\n",
              "      <td>1.400000e-02</td>\n",
              "      <td>1.084700</td>\n",
              "    </tr>\n",
              "    <tr>\n",
              "      <th>25%</th>\n",
              "      <td>6.000000</td>\n",
              "      <td>0.000000</td>\n",
              "      <td>205.000000</td>\n",
              "      <td>57.840000</td>\n",
              "      <td>1.000000</td>\n",
              "      <td>1.000000</td>\n",
              "      <td>1.000000</td>\n",
              "      <td>1.000000</td>\n",
              "      <td>6.000000</td>\n",
              "      <td>2.000000</td>\n",
              "      <td>2.500000e-01</td>\n",
              "      <td>4.633900</td>\n",
              "    </tr>\n",
              "    <tr>\n",
              "      <th>50%</th>\n",
              "      <td>7.000000</td>\n",
              "      <td>5.000000</td>\n",
              "      <td>293.000000</td>\n",
              "      <td>73.580000</td>\n",
              "      <td>2.000000</td>\n",
              "      <td>1.000000</td>\n",
              "      <td>1.000000</td>\n",
              "      <td>1.000000</td>\n",
              "      <td>11.000000</td>\n",
              "      <td>6.000000</td>\n",
              "      <td>3.330000e-01</td>\n",
              "      <td>5.896000</td>\n",
              "    </tr>\n",
              "    <tr>\n",
              "      <th>75%</th>\n",
              "      <td>8.000000</td>\n",
              "      <td>19.000000</td>\n",
              "      <td>420.000000</td>\n",
              "      <td>97.470000</td>\n",
              "      <td>2.000000</td>\n",
              "      <td>1.000000</td>\n",
              "      <td>1.000000</td>\n",
              "      <td>1.000000</td>\n",
              "      <td>19.000000</td>\n",
              "      <td>6.000000</td>\n",
              "      <td>5.000000e-01</td>\n",
              "      <td>7.553900</td>\n",
              "    </tr>\n",
              "    <tr>\n",
              "      <th>max</th>\n",
              "      <td>1677.000000</td>\n",
              "      <td>1143.000000</td>\n",
              "      <td>1199.000000</td>\n",
              "      <td>497.650000</td>\n",
              "      <td>8.000000</td>\n",
              "      <td>5.000000</td>\n",
              "      <td>3.000000</td>\n",
              "      <td>7.000000</td>\n",
              "      <td>42.000000</td>\n",
              "      <td>6.000000</td>\n",
              "      <td>1.000940e+07</td>\n",
              "      <td>18.310900</td>\n",
              "    </tr>\n",
              "  </tbody>\n",
              "</table>\n",
              "</div>"
            ],
            "text/plain": [
              "                 DOM      followers  ...   ladderRatio  communityAverage\n",
              "count  294716.000000  294716.000000  ...  2.947160e+05     294716.000000\n",
              "mean       18.124425      17.094379  ...  6.830502e+01          6.335387\n",
              "std        37.003149      34.695139  ...  2.607477e+04          2.190601\n",
              "min         1.000000       0.000000  ...  1.400000e-02          1.084700\n",
              "25%         6.000000       0.000000  ...  2.500000e-01          4.633900\n",
              "50%         7.000000       5.000000  ...  3.330000e-01          5.896000\n",
              "75%         8.000000      19.000000  ...  5.000000e-01          7.553900\n",
              "max      1677.000000    1143.000000  ...  1.000940e+07         18.310900\n",
              "\n",
              "[8 rows x 12 columns]"
            ]
          },
          "metadata": {
            "tags": []
          },
          "execution_count": 7
        }
      ]
    },
    {
      "cell_type": "code",
      "metadata": {
        "colab": {
          "base_uri": "https://localhost:8080/"
        },
        "id": "lOh9ZUPtL7pm",
        "outputId": "d0188891-175d-441e-be8e-cbf91248084f"
      },
      "source": [
        "df.info()"
      ],
      "execution_count": 8,
      "outputs": [
        {
          "output_type": "stream",
          "text": [
            "<class 'pandas.core.frame.DataFrame'>\n",
            "RangeIndex: 294716 entries, 0 to 294715\n",
            "Data columns (total 21 columns):\n",
            " #   Column               Non-Null Count   Dtype  \n",
            "---  ------               --------------   -----  \n",
            " 0   tradeTime            294716 non-null  object \n",
            " 1   DOM                  294716 non-null  float64\n",
            " 2   followers            294716 non-null  int64  \n",
            " 3   totalPrice           294716 non-null  float64\n",
            " 4   square               294716 non-null  float64\n",
            " 5   livingRoom           294716 non-null  int64  \n",
            " 6   drawingRoom          294716 non-null  int64  \n",
            " 7   kitchen              294716 non-null  int64  \n",
            " 8   bathRoom             294716 non-null  int64  \n",
            " 9   floor                294716 non-null  int64  \n",
            " 10  buildingType         294716 non-null  object \n",
            " 11  constructionTime     294716 non-null  object \n",
            " 12  renovationCondition  294716 non-null  object \n",
            " 13  buildingStructure    294716 non-null  int64  \n",
            " 14  ladderRatio          294716 non-null  float64\n",
            " 15  elevator             294716 non-null  object \n",
            " 16  fiveYearsProperty    294716 non-null  object \n",
            " 17  subway               294716 non-null  object \n",
            " 18  district             294716 non-null  object \n",
            " 19  communityAverage     294716 non-null  float64\n",
            " 20  buildingStructure    294716 non-null  object \n",
            "dtypes: float64(5), int64(7), object(9)\n",
            "memory usage: 47.2+ MB\n"
          ],
          "name": "stdout"
        }
      ]
    },
    {
      "cell_type": "code",
      "metadata": {
        "id": "vh5hE-8pUuDc",
        "colab": {
          "base_uri": "https://localhost:8080/"
        },
        "outputId": "20d668de-9b81-4150-e178-ea54af372f3f"
      },
      "source": [
        "#완료된 정제 데이터 \n",
        "df.isnull().sum()"
      ],
      "execution_count": 9,
      "outputs": [
        {
          "output_type": "execute_result",
          "data": {
            "text/plain": [
              "tradeTime              0\n",
              "DOM                    0\n",
              "followers              0\n",
              "totalPrice             0\n",
              "square                 0\n",
              "livingRoom             0\n",
              "drawingRoom            0\n",
              "kitchen                0\n",
              "bathRoom               0\n",
              "floor                  0\n",
              "buildingType           0\n",
              "constructionTime       0\n",
              "renovationCondition    0\n",
              "buildingStructure      0\n",
              "ladderRatio            0\n",
              "elevator               0\n",
              "fiveYearsProperty      0\n",
              "subway                 0\n",
              "district               0\n",
              "communityAverage       0\n",
              "buildingStructure      0\n",
              "dtype: int64"
            ]
          },
          "metadata": {
            "tags": []
          },
          "execution_count": 9
        }
      ]
    },
    {
      "cell_type": "code",
      "metadata": {
        "id": "YGNoju_EYD6P",
        "colab": {
          "base_uri": "https://localhost:8080/",
          "height": 369
        },
        "outputId": "7eb8b40b-65b1-456a-8212-52f2aa259e69"
      },
      "source": [
        "# 주요변수 분포도 확인 시각화\n",
        "sns.displot(df['totalPrice']); #타겟 변수"
      ],
      "execution_count": 10,
      "outputs": [
        {
          "output_type": "display_data",
          "data": {
            "image/png": "[encoded data removed]",
            "text/plain": [
              "<Figure size 360x360 with 1 Axes>"
            ]
          },
          "metadata": {
            "tags": [],
            "needs_background": "light"
          }
        }
      ]
    },
    {
      "cell_type": "code",
      "metadata": {
        "id": "vkpjuaVpaTBQ",
        "colab": {
          "base_uri": "https://localhost:8080/",
          "height": 334
        },
        "outputId": "5a4f815d-de61-4044-9fc3-65c28a1da3a1"
      },
      "source": [
        "#로그변환을 통한 타겟변수 정규분포화\n",
        "plots=pd.DataFrame()\n",
        "plots['original']=df['totalPrice']\n",
        "plots['transformed']=np.log1p(df['totalPrice'])\n",
        "plots['backToOriginal']=np.expm1(np.log1p(df['totalPrice']))\n",
        "\n",
        "fig, ax = plt.subplots(1,3,figsize=(15,5))\n",
        "sns.histplot(plots['original'], ax=ax[0]);\n",
        "sns.histplot(plots['transformed'], ax=ax[1]);\n",
        "sns.histplot(plots['backToOriginal'], ax=ax[2]);"
      ],
      "execution_count": 11,
      "outputs": [
        {
          "output_type": "display_data",
          "data": {
            "image/png": "[encoded data removed]",
            "text/plain": [
              "<Figure size 1080x360 with 3 Axes>"
            ]
          },
          "metadata": {
            "tags": [],
            "needs_background": "light"
          }
        }
      ]
    },
    {
      "cell_type": "markdown",
      "metadata": {
        "id": "h1mPLfPza42s"
      },
      "source": [
        "- 분포를 로그변환했을 때 정규분포형에 가까워진 것을 알 수 있다. "
      ]
    },
    {
      "cell_type": "code",
      "metadata": {
        "id": "EfGwy34sVNwH"
      },
      "source": [
        "# 특성 간 상관 관계 분석 (수치형 변수) \n",
        "corr_df1 = df.corr(method='pearson') \n",
        "corr_df1 = corr_df1.loc['totalPrice']\n",
        "corr_df1 = corr_df1.drop(['totalPrice']) #동일 변수 상관계수 drop"
      ],
      "execution_count": 7,
      "outputs": []
    },
    {
      "cell_type": "code",
      "metadata": {
        "id": "sSaU8OIqVRzM",
        "colab": {
          "base_uri": "https://localhost:8080/",
          "height": 388
        },
        "outputId": "7a14a81d-e337-4171-9088-0a9230877627"
      },
      "source": [
        "corr_top = pd.DataFrame(corr_df1.sort_values(ascending=False)) #시리즈 > DF化\n",
        "corr_top"
      ],
      "execution_count": 8,
      "outputs": [
        {
          "output_type": "execute_result",
          "data": {
            "text/html": [
              "<div>\n",
              "<style scoped>\n",
              "    .dataframe tbody tr th:only-of-type {\n",
              "        vertical-align: middle;\n",
              "    }\n",
              "\n",
              "    .dataframe tbody tr th {\n",
              "        vertical-align: top;\n",
              "    }\n",
              "\n",
              "    .dataframe thead th {\n",
              "        text-align: right;\n",
              "    }\n",
              "</style>\n",
              "<table border=\"1\" class=\"dataframe\">\n",
              "  <thead>\n",
              "    <tr style=\"text-align: right;\">\n",
              "      <th></th>\n",
              "      <th>totalPrice</th>\n",
              "    </tr>\n",
              "  </thead>\n",
              "  <tbody>\n",
              "    <tr>\n",
              "      <th>square</th>\n",
              "      <td>0.491519</td>\n",
              "    </tr>\n",
              "    <tr>\n",
              "      <th>communityAverage</th>\n",
              "      <td>0.430065</td>\n",
              "    </tr>\n",
              "    <tr>\n",
              "      <th>livingRoom</th>\n",
              "      <td>0.405538</td>\n",
              "    </tr>\n",
              "    <tr>\n",
              "      <th>bathRoom</th>\n",
              "      <td>0.361747</td>\n",
              "    </tr>\n",
              "    <tr>\n",
              "      <th>drawingRoom</th>\n",
              "      <td>0.296863</td>\n",
              "    </tr>\n",
              "    <tr>\n",
              "      <th>DOM</th>\n",
              "      <td>0.258645</td>\n",
              "    </tr>\n",
              "    <tr>\n",
              "      <th>buildingStructure</th>\n",
              "      <td>0.194889</td>\n",
              "    </tr>\n",
              "    <tr>\n",
              "      <th>followers</th>\n",
              "      <td>0.182406</td>\n",
              "    </tr>\n",
              "    <tr>\n",
              "      <th>floor</th>\n",
              "      <td>0.175015</td>\n",
              "    </tr>\n",
              "    <tr>\n",
              "      <th>kitchen</th>\n",
              "      <td>0.071186</td>\n",
              "    </tr>\n",
              "    <tr>\n",
              "      <th>ladderRatio</th>\n",
              "      <td>-0.001204</td>\n",
              "    </tr>\n",
              "  </tbody>\n",
              "</table>\n",
              "</div>"
            ],
            "text/plain": [
              "                   totalPrice\n",
              "square               0.491519\n",
              "communityAverage     0.430065\n",
              "livingRoom           0.405538\n",
              "bathRoom             0.361747\n",
              "drawingRoom          0.296863\n",
              "DOM                  0.258645\n",
              "buildingStructure    0.194889\n",
              "followers            0.182406\n",
              "floor                0.175015\n",
              "kitchen              0.071186\n",
              "ladderRatio         -0.001204"
            ]
          },
          "metadata": {
            "tags": []
          },
          "execution_count": 8
        }
      ]
    },
    {
      "cell_type": "markdown",
      "metadata": {
        "id": "RHzZHgz6VqPD"
      },
      "source": [
        "- 상관관계 분석 결과 : price - square - communityAverage 순으로 높은 상관관계를 보이고 있으며 상관관계가 상대적으로 낮은 변수들에 대해 분석에 사용 여부를 정할 필요성이 있다고 판단했다. / 분석 요소 : target 변수인 totalprice에 대해 price 변수는 totalprice를 square 값으로 나눠 만든 변수이므로 상관관계와 인과관계에 대해 생각해봐야한다. "
      ]
    },
    {
      "cell_type": "code",
      "metadata": {
        "id": "xPDizfzcZ3C5"
      },
      "source": [
        "# 타겟변수 - 주요 특성 간 산점도 시각화 (상관관계 분석 결과를 바탕으로)\n",
        "df_sample1 = df[['totalPrice', 'square', 'communityAverage', 'bathRoom', 'livingRoom',  'drawingRoom']]"
      ],
      "execution_count": 14,
      "outputs": []
    },
    {
      "cell_type": "code",
      "metadata": {
        "id": "H1_jysTHawP0",
        "outputId": "fb732777-57a3-4b33-8b1b-d6655500c90f",
        "colab": {
          "base_uri": "https://localhost:8080/",
          "height": 1000
        }
      },
      "source": [
        "sns.pairplot(df_sample1)\n",
        "plt.show()"
      ],
      "execution_count": 15,
      "outputs": [
        {
          "output_type": "display_data",
          "data": {
            "image/png": "[encoded data removed]",
            "text/plain": [
              "<Figure size 1080x1080 with 42 Axes>"
            ]
          },
          "metadata": {
            "tags": [],
            "needs_background": "light"
          }
        }
      ]
    },
    {
      "cell_type": "code",
      "metadata": {
        "id": "b5LrozIZc2HG",
        "outputId": "5c9337d1-d27b-400b-b6b2-a5920c953833",
        "colab": {
          "base_uri": "https://localhost:8080/"
        }
      },
      "source": [
        "#!pip3 install statsmodels"
      ],
      "execution_count": 16,
      "outputs": [
        {
          "output_type": "stream",
          "text": [
            "Requirement already satisfied: statsmodels in /usr/local/lib/python3.7/dist-packages (0.10.2)\n",
            "Requirement already satisfied: patsy>=0.4.0 in /usr/local/lib/python3.7/dist-packages (from statsmodels) (0.5.1)\n",
            "Requirement already satisfied: scipy>=0.18 in /usr/local/lib/python3.7/dist-packages (from statsmodels) (1.4.1)\n",
            "Requirement already satisfied: pandas>=0.19 in /usr/local/lib/python3.7/dist-packages (from statsmodels) (1.1.5)\n",
            "Requirement already satisfied: numpy>=1.11 in /usr/local/lib/python3.7/dist-packages (from statsmodels) (1.19.5)\n",
            "Requirement already satisfied: six in /usr/local/lib/python3.7/dist-packages (from patsy>=0.4.0->statsmodels) (1.15.0)\n",
            "Requirement already satisfied: python-dateutil>=2.7.3 in /usr/local/lib/python3.7/dist-packages (from pandas>=0.19->statsmodels) (2.8.1)\n",
            "Requirement already satisfied: pytz>=2017.2 in /usr/local/lib/python3.7/dist-packages (from pandas>=0.19->statsmodels) (2018.9)\n"
          ],
          "name": "stdout"
        }
      ]
    },
    {
      "cell_type": "code",
      "metadata": {
        "id": "pywHXvBWcOzc"
      },
      "source": [
        "from statsmodels.stats.outliers_influence import variance_inflation_factor "
      ],
      "execution_count": 16,
      "outputs": []
    },
    {
      "cell_type": "code",
      "metadata": {
        "id": "b42qUnGwc_O9",
        "colab": {
          "base_uri": "https://localhost:8080/",
          "height": 235
        },
        "outputId": "59ff15e7-bebc-4828-bf74-9e9ccb30fe2c"
      },
      "source": [
        "vif = pd.DataFrame()\n",
        "vif[\"VIF Factor\"] = [variance_inflation_factor(df_sample1.values, i) for i in range(df_sample1.shape[1])]\n",
        "vif[\"features\"] = df_sample1.columns\n",
        "vif"
      ],
      "execution_count": 17,
      "outputs": [
        {
          "output_type": "execute_result",
          "data": {
            "text/html": [
              "<div>\n",
              "<style scoped>\n",
              "    .dataframe tbody tr th:only-of-type {\n",
              "        vertical-align: middle;\n",
              "    }\n",
              "\n",
              "    .dataframe tbody tr th {\n",
              "        vertical-align: top;\n",
              "    }\n",
              "\n",
              "    .dataframe thead th {\n",
              "        text-align: right;\n",
              "    }\n",
              "</style>\n",
              "<table border=\"1\" class=\"dataframe\">\n",
              "  <thead>\n",
              "    <tr style=\"text-align: right;\">\n",
              "      <th></th>\n",
              "      <th>VIF Factor</th>\n",
              "      <th>features</th>\n",
              "    </tr>\n",
              "  </thead>\n",
              "  <tbody>\n",
              "    <tr>\n",
              "      <th>0</th>\n",
              "      <td>8.008089</td>\n",
              "      <td>totalPrice</td>\n",
              "    </tr>\n",
              "    <tr>\n",
              "      <th>1</th>\n",
              "      <td>29.090980</td>\n",
              "      <td>square</td>\n",
              "    </tr>\n",
              "    <tr>\n",
              "      <th>2</th>\n",
              "      <td>7.552360</td>\n",
              "      <td>communityAverage</td>\n",
              "    </tr>\n",
              "    <tr>\n",
              "      <th>3</th>\n",
              "      <td>18.126718</td>\n",
              "      <td>bathRoom</td>\n",
              "    </tr>\n",
              "    <tr>\n",
              "      <th>4</th>\n",
              "      <td>16.120794</td>\n",
              "      <td>livingRoom</td>\n",
              "    </tr>\n",
              "    <tr>\n",
              "      <th>5</th>\n",
              "      <td>10.131568</td>\n",
              "      <td>drawingRoom</td>\n",
              "    </tr>\n",
              "  </tbody>\n",
              "</table>\n",
              "</div>"
            ],
            "text/plain": [
              "   VIF Factor          features\n",
              "0    8.008089        totalPrice\n",
              "1   29.090980            square\n",
              "2    7.552360  communityAverage\n",
              "3   18.126718          bathRoom\n",
              "4   16.120794        livingRoom\n",
              "5   10.131568       drawingRoom"
            ]
          },
          "metadata": {
            "tags": []
          },
          "execution_count": 17
        }
      ]
    },
    {
      "cell_type": "markdown",
      "metadata": {
        "id": "nGe_1N3idOxZ"
      },
      "source": [
        "- 다중공선성(VIF) 확인 결과 주요 변수에서 기준값인 10을 초과하는 수치를 보여 정규화 등의 조치를 시행할 필요성이 보인다 . cf) 다중공선성(Multicollinearity) : 독립 변수간 상관 관계를 보이는 것. price 변수를 제거했을 때 vif 값이 낮아졌다."
      ]
    },
    {
      "cell_type": "code",
      "metadata": {
        "id": "0N2oS4zc_DkR"
      },
      "source": [
        "# 타겟 변수 정의\n",
        "target = 'totalPrice'"
      ],
      "execution_count": 18,
      "outputs": []
    },
    {
      "cell_type": "code",
      "metadata": {
        "id": "UCKF6iwQ0N5C",
        "outputId": "54f591c0-24ee-45b5-af92-e01022efa6b8",
        "colab": {
          "base_uri": "https://localhost:8080/"
        }
      },
      "source": [
        "#!pip install fast_ml"
      ],
      "execution_count": 26,
      "outputs": [
        {
          "output_type": "stream",
          "text": [
            "Collecting fast_ml\n",
            "\u001b[?25l  Downloading https://files.pythonhosted.org/packages/83/65/6c955a0d393c79443a558c33c2e29732adb40c1f5d0553fa5962c0104535/fast_ml-3.66-py3-none-any.whl (41kB)\n",
            "\r\u001b[K     |████████                        | 10kB 749kB/s eta 0:00:01\r\u001b[K     |████████████████                | 20kB 1.5MB/s eta 0:00:01\r\u001b[K     |████████████████████████        | 30kB 2.2MB/s eta 0:00:01\r\u001b[K     |████████████████████████████████| 40kB 2.8MB/s eta 0:00:01\r\u001b[K     |████████████████████████████████| 51kB 2.5MB/s \n",
            "\u001b[?25hInstalling collected packages: fast-ml\n",
            "Successfully installed fast-ml-3.66\n"
          ],
          "name": "stdout"
        }
      ]
    },
    {
      "cell_type": "code",
      "metadata": {
        "id": "xZzNJ7p-yfhr"
      },
      "source": [
        "from fast_ml.model_development import train_valid_test_split"
      ],
      "execution_count": 19,
      "outputs": []
    },
    {
      "cell_type": "code",
      "metadata": {
        "id": "mOop9mM_zNCN"
      },
      "source": [
        "X_train, y_train, X_valid, y_valid, X_test, y_test = train_valid_test_split(df, target = 'totalPrice', \n",
        "                                                                            method='sorted', sort_by_col='tradeTime',\n",
        "                                                                            train_size=0.6, valid_size=0.2, test_size=0.2)"
      ],
      "execution_count": 20,
      "outputs": []
    },
    {
      "cell_type": "code",
      "metadata": {
        "id": "bJBsapDnVju-"
      },
      "source": [
        "# #데이터셋 분할 / 6:2:2\n",
        "# train = df[0:176830]\n",
        "# valid = df[176830:235833]\n",
        "# test = df[235833:294716]"
      ],
      "execution_count": 19,
      "outputs": []
    },
    {
      "cell_type": "code",
      "metadata": {
        "id": "fYhpws7VTRIg",
        "outputId": "513020a1-9c66-49cd-d3b7-3cb230cc2ab1",
        "colab": {
          "base_uri": "https://localhost:8080/"
        }
      },
      "source": [
        "print(X_train.shape, y_train.shape, X_valid.shape, y_valid.shape, X_test.shape, y_test.shape)"
      ],
      "execution_count": 21,
      "outputs": [
        {
          "output_type": "stream",
          "text": [
            "(176829, 20) (176829,) (58943, 20) (58943,) (58944, 20) (58944,)\n"
          ],
          "name": "stdout"
        }
      ]
    },
    {
      "cell_type": "code",
      "metadata": {
        "id": "Zi1XH22H2qPr",
        "outputId": "4385d677-bc59-48fb-95a8-66bf13738b4b",
        "colab": {
          "base_uri": "https://localhost:8080/",
          "height": 438
        }
      },
      "source": [
        "X_train"
      ],
      "execution_count": 22,
      "outputs": [
        {
          "output_type": "execute_result",
          "data": {
            "text/html": [
              "<div>\n",
              "<style scoped>\n",
              "    .dataframe tbody tr th:only-of-type {\n",
              "        vertical-align: middle;\n",
              "    }\n",
              "\n",
              "    .dataframe tbody tr th {\n",
              "        vertical-align: top;\n",
              "    }\n",
              "\n",
              "    .dataframe thead th {\n",
              "        text-align: right;\n",
              "    }\n",
              "</style>\n",
              "<table border=\"1\" class=\"dataframe\">\n",
              "  <thead>\n",
              "    <tr style=\"text-align: right;\">\n",
              "      <th></th>\n",
              "      <th>tradeTime</th>\n",
              "      <th>DOM</th>\n",
              "      <th>followers</th>\n",
              "      <th>square</th>\n",
              "      <th>livingRoom</th>\n",
              "      <th>drawingRoom</th>\n",
              "      <th>kitchen</th>\n",
              "      <th>bathRoom</th>\n",
              "      <th>floor</th>\n",
              "      <th>buildingType</th>\n",
              "      <th>constructionTime</th>\n",
              "      <th>renovationCondition</th>\n",
              "      <th>buildingStructure</th>\n",
              "      <th>ladderRatio</th>\n",
              "      <th>elevator</th>\n",
              "      <th>fiveYearsProperty</th>\n",
              "      <th>subway</th>\n",
              "      <th>district</th>\n",
              "      <th>communityAverage</th>\n",
              "      <th>buildingStructure</th>\n",
              "    </tr>\n",
              "  </thead>\n",
              "  <tbody>\n",
              "    <tr>\n",
              "      <th>0</th>\n",
              "      <td>2009</td>\n",
              "      <td>7.0</td>\n",
              "      <td>0</td>\n",
              "      <td>55.63</td>\n",
              "      <td>2</td>\n",
              "      <td>1</td>\n",
              "      <td>1</td>\n",
              "      <td>1</td>\n",
              "      <td>6</td>\n",
              "      <td>4</td>\n",
              "      <td>1992</td>\n",
              "      <td>1</td>\n",
              "      <td>2</td>\n",
              "      <td>0.250</td>\n",
              "      <td>0</td>\n",
              "      <td>1</td>\n",
              "      <td>0</td>\n",
              "      <td>10</td>\n",
              "      <td>7.7781</td>\n",
              "      <td>2</td>\n",
              "    </tr>\n",
              "    <tr>\n",
              "      <th>114</th>\n",
              "      <td>2010</td>\n",
              "      <td>1.0</td>\n",
              "      <td>0</td>\n",
              "      <td>65.84</td>\n",
              "      <td>2</td>\n",
              "      <td>1</td>\n",
              "      <td>0</td>\n",
              "      <td>1</td>\n",
              "      <td>6</td>\n",
              "      <td>4</td>\n",
              "      <td>2003</td>\n",
              "      <td>3</td>\n",
              "      <td>2</td>\n",
              "      <td>0.500</td>\n",
              "      <td>0</td>\n",
              "      <td>0</td>\n",
              "      <td>0</td>\n",
              "      <td>12</td>\n",
              "      <td>3.7588</td>\n",
              "      <td>2</td>\n",
              "    </tr>\n",
              "    <tr>\n",
              "      <th>115</th>\n",
              "      <td>2010</td>\n",
              "      <td>1.0</td>\n",
              "      <td>0</td>\n",
              "      <td>167.80</td>\n",
              "      <td>4</td>\n",
              "      <td>2</td>\n",
              "      <td>0</td>\n",
              "      <td>2</td>\n",
              "      <td>6</td>\n",
              "      <td>4</td>\n",
              "      <td>2003</td>\n",
              "      <td>4</td>\n",
              "      <td>2</td>\n",
              "      <td>0.500</td>\n",
              "      <td>0</td>\n",
              "      <td>0</td>\n",
              "      <td>0</td>\n",
              "      <td>12</td>\n",
              "      <td>3.9294</td>\n",
              "      <td>2</td>\n",
              "    </tr>\n",
              "    <tr>\n",
              "      <th>116</th>\n",
              "      <td>2010</td>\n",
              "      <td>1.0</td>\n",
              "      <td>0</td>\n",
              "      <td>91.05</td>\n",
              "      <td>1</td>\n",
              "      <td>2</td>\n",
              "      <td>0</td>\n",
              "      <td>1</td>\n",
              "      <td>15</td>\n",
              "      <td>4</td>\n",
              "      <td>2003</td>\n",
              "      <td>4</td>\n",
              "      <td>6</td>\n",
              "      <td>0.333</td>\n",
              "      <td>1</td>\n",
              "      <td>0</td>\n",
              "      <td>0</td>\n",
              "      <td>12</td>\n",
              "      <td>3.7588</td>\n",
              "      <td>6</td>\n",
              "    </tr>\n",
              "    <tr>\n",
              "      <th>117</th>\n",
              "      <td>2010</td>\n",
              "      <td>1.0</td>\n",
              "      <td>0</td>\n",
              "      <td>109.35</td>\n",
              "      <td>2</td>\n",
              "      <td>2</td>\n",
              "      <td>0</td>\n",
              "      <td>1</td>\n",
              "      <td>13</td>\n",
              "      <td>4</td>\n",
              "      <td>2005</td>\n",
              "      <td>4</td>\n",
              "      <td>6</td>\n",
              "      <td>0.667</td>\n",
              "      <td>1</td>\n",
              "      <td>0</td>\n",
              "      <td>0</td>\n",
              "      <td>12</td>\n",
              "      <td>3.9294</td>\n",
              "      <td>6</td>\n",
              "    </tr>\n",
              "    <tr>\n",
              "      <th>...</th>\n",
              "      <td>...</td>\n",
              "      <td>...</td>\n",
              "      <td>...</td>\n",
              "      <td>...</td>\n",
              "      <td>...</td>\n",
              "      <td>...</td>\n",
              "      <td>...</td>\n",
              "      <td>...</td>\n",
              "      <td>...</td>\n",
              "      <td>...</td>\n",
              "      <td>...</td>\n",
              "      <td>...</td>\n",
              "      <td>...</td>\n",
              "      <td>...</td>\n",
              "      <td>...</td>\n",
              "      <td>...</td>\n",
              "      <td>...</td>\n",
              "      <td>...</td>\n",
              "      <td>...</td>\n",
              "      <td>...</td>\n",
              "    </tr>\n",
              "    <tr>\n",
              "      <th>232526</th>\n",
              "      <td>2016</td>\n",
              "      <td>5.0</td>\n",
              "      <td>6</td>\n",
              "      <td>90.36</td>\n",
              "      <td>2</td>\n",
              "      <td>1</td>\n",
              "      <td>1</td>\n",
              "      <td>1</td>\n",
              "      <td>6</td>\n",
              "      <td>4</td>\n",
              "      <td>2008</td>\n",
              "      <td>1</td>\n",
              "      <td>2</td>\n",
              "      <td>0.333</td>\n",
              "      <td>0</td>\n",
              "      <td>0</td>\n",
              "      <td>0</td>\n",
              "      <td>8</td>\n",
              "      <td>7.5792</td>\n",
              "      <td>2</td>\n",
              "    </tr>\n",
              "    <tr>\n",
              "      <th>232536</th>\n",
              "      <td>2016</td>\n",
              "      <td>74.0</td>\n",
              "      <td>27</td>\n",
              "      <td>188.00</td>\n",
              "      <td>4</td>\n",
              "      <td>2</td>\n",
              "      <td>1</td>\n",
              "      <td>3</td>\n",
              "      <td>18</td>\n",
              "      <td>1</td>\n",
              "      <td>2013</td>\n",
              "      <td>4</td>\n",
              "      <td>6</td>\n",
              "      <td>1.000</td>\n",
              "      <td>1</td>\n",
              "      <td>0</td>\n",
              "      <td>1</td>\n",
              "      <td>7</td>\n",
              "      <td>6.9200</td>\n",
              "      <td>6</td>\n",
              "    </tr>\n",
              "    <tr>\n",
              "      <th>232537</th>\n",
              "      <td>2016</td>\n",
              "      <td>25.0</td>\n",
              "      <td>34</td>\n",
              "      <td>61.70</td>\n",
              "      <td>2</td>\n",
              "      <td>1</td>\n",
              "      <td>1</td>\n",
              "      <td>1</td>\n",
              "      <td>6</td>\n",
              "      <td>4</td>\n",
              "      <td>1989</td>\n",
              "      <td>4</td>\n",
              "      <td>2</td>\n",
              "      <td>0.071</td>\n",
              "      <td>0</td>\n",
              "      <td>1</td>\n",
              "      <td>1</td>\n",
              "      <td>8</td>\n",
              "      <td>7.8261</td>\n",
              "      <td>2</td>\n",
              "    </tr>\n",
              "    <tr>\n",
              "      <th>232538</th>\n",
              "      <td>2016</td>\n",
              "      <td>28.0</td>\n",
              "      <td>56</td>\n",
              "      <td>62.84</td>\n",
              "      <td>3</td>\n",
              "      <td>0</td>\n",
              "      <td>1</td>\n",
              "      <td>1</td>\n",
              "      <td>6</td>\n",
              "      <td>4</td>\n",
              "      <td>1980</td>\n",
              "      <td>4</td>\n",
              "      <td>2</td>\n",
              "      <td>0.333</td>\n",
              "      <td>0</td>\n",
              "      <td>0</td>\n",
              "      <td>1</td>\n",
              "      <td>1</td>\n",
              "      <td>6.6495</td>\n",
              "      <td>2</td>\n",
              "    </tr>\n",
              "    <tr>\n",
              "      <th>232555</th>\n",
              "      <td>2016</td>\n",
              "      <td>23.0</td>\n",
              "      <td>23</td>\n",
              "      <td>48.53</td>\n",
              "      <td>1</td>\n",
              "      <td>1</td>\n",
              "      <td>1</td>\n",
              "      <td>1</td>\n",
              "      <td>20</td>\n",
              "      <td>1</td>\n",
              "      <td>1996</td>\n",
              "      <td>3</td>\n",
              "      <td>6</td>\n",
              "      <td>0.200</td>\n",
              "      <td>1</td>\n",
              "      <td>1</td>\n",
              "      <td>1</td>\n",
              "      <td>7</td>\n",
              "      <td>7.1958</td>\n",
              "      <td>6</td>\n",
              "    </tr>\n",
              "  </tbody>\n",
              "</table>\n",
              "<p>176829 rows × 20 columns</p>\n",
              "</div>"
            ],
            "text/plain": [
              "       tradeTime   DOM  followers  ...  district  communityAverage  buildingStructure \n",
              "0           2009   7.0          0  ...        10            7.7781                   2\n",
              "114         2010   1.0          0  ...        12            3.7588                   2\n",
              "115         2010   1.0          0  ...        12            3.9294                   2\n",
              "116         2010   1.0          0  ...        12            3.7588                   6\n",
              "117         2010   1.0          0  ...        12            3.9294                   6\n",
              "...          ...   ...        ...  ...       ...               ...                 ...\n",
              "232526      2016   5.0          6  ...         8            7.5792                   2\n",
              "232536      2016  74.0         27  ...         7            6.9200                   6\n",
              "232537      2016  25.0         34  ...         8            7.8261                   2\n",
              "232538      2016  28.0         56  ...         1            6.6495                   2\n",
              "232555      2016  23.0         23  ...         7            7.1958                   6\n",
              "\n",
              "[176829 rows x 20 columns]"
            ]
          },
          "metadata": {
            "tags": []
          },
          "execution_count": 22
        }
      ]
    },
    {
      "cell_type": "code",
      "metadata": {
        "id": "3CoFCi6Tk61T",
        "outputId": "9f83fc89-43a2-4d16-9d23-64a8572bc726",
        "colab": {
          "base_uri": "https://localhost:8080/"
        }
      },
      "source": [
        "# baseline model\n",
        "base_pred = df.totalPrice.mean()\n",
        "base_pred = [df.totalPrice.mean() for i in range(len(y_train))]\n",
        "print('baseline MAE : {}'.format(mean_absolute_error(y_train, base_pred)))\n",
        "print('baseline RMSE : {}'.format(sqrt(mean_squared_error(y_train, base_pred))))\n",
        "print('baseline $R^2$ score : {}'.format(r2_score(y_train, base_pred)))"
      ],
      "execution_count": 17,
      "outputs": [
        {
          "output_type": "stream",
          "text": [
            "baseline MAE : 131.18309865854843\n",
            "baseline RMSE : 161.451196559387\n",
            "baseline $R^2$ score : -0.15295781496487493\n"
          ],
          "name": "stdout"
        }
      ]
    },
    {
      "cell_type": "code",
      "metadata": {
        "id": "ISK4ujLjDZ9q",
        "outputId": "7343b65f-f107-4e3c-e941-9177c2b6888a",
        "colab": {
          "base_uri": "https://localhost:8080/",
          "height": 290
        }
      },
      "source": [
        "# 상관 변수가 높은 특성과 타겟의 기준모델\n",
        "x_base = train['square']\n",
        "y_base = train['totalPrice']\n",
        "\n",
        "sns.lineplot(x=x_base, y=base_predict, color='red')\n",
        "sns.scatterplot(x=x_base, y=y_base, color='blue');"
      ],
      "execution_count": 26,
      "outputs": [
        {
          "output_type": "display_data",
          "data": {
            "image/png": "[encoded data removed]",
            "text/plain": [
              "<Figure size 432x288 with 1 Axes>"
            ]
          },
          "metadata": {
            "tags": [],
            "needs_background": "light"
          }
        }
      ]
    },
    {
      "cell_type": "code",
      "metadata": {
        "id": "GpZ029_bD1lM",
        "outputId": "04534b7d-19dc-499e-a2f7-3160f5439084",
        "colab": {
          "base_uri": "https://localhost:8080/",
          "height": 290
        }
      },
      "source": [
        "# Seaborn regplot(회귀선 그래프 시각화) 최소제곱법을 이용한 선형 회귀계수\n",
        "sns.regplot(x=df['square'], y=df['totalPrice']);"
      ],
      "execution_count": 27,
      "outputs": [
        {
          "output_type": "display_data",
          "data": {
            "image/png": "[encoded data removed]",
            "text/plain": [
              "<Figure size 432x288 with 1 Axes>"
            ]
          },
          "metadata": {
            "tags": [],
            "needs_background": "light"
          }
        }
      ]
    },
    {
      "cell_type": "markdown",
      "metadata": {
        "id": "eLYYSRB8FjP5"
      },
      "source": [
        "- 선형회귀선에 예측치가 좀 더 밀집한 형태로 변환됐음을 알 수 있다. "
      ]
    },
    {
      "cell_type": "code",
      "metadata": {
        "id": "R3RxeGlPG6_V"
      },
      "source": [
        "#모델링 / 다양한 모델에 데이터를 적용시킴으로서, 결괏값 차이 분석 실시"
      ],
      "execution_count": 16,
      "outputs": []
    },
    {
      "cell_type": "code",
      "metadata": {
        "id": "mAurK0nXSiO7"
      },
      "source": [
        "from math import sqrt\n",
        "from sklearn.pipeline import Pipeline, make_pipeline\n",
        "from category_encoders import OrdinalEncoder\n",
        "from sklearn.preprocessing import StandardScaler\n",
        "from sklearn.preprocessing import RobustScaler\n",
        "from sklearn.impute import SimpleImputer\n",
        "from sklearn.ensemble import RandomForestRegressor\n",
        "from sklearn.linear_model import LinearRegression, Ridge\n",
        "from sklearn.metrics import mean_absolute_error, mean_squared_error, r2_score\n",
        "from sklearn.compose import TransformedTargetRegressor\n",
        "from sklearn import metrics\n",
        "from sklearn.model_selection import cross_val_score\n",
        "from sklearn.preprocessing import PolynomialFeatures\n",
        "from sklearn.linear_model import LinearRegression, Ridge, Lasso, ElasticNet\n",
        "from sklearn.ensemble import AdaBoostRegressor, GradientBoostingRegressor\n",
        "from xgboost import XGBRFRegressor"
      ],
      "execution_count": 23,
      "outputs": []
    },
    {
      "cell_type": "code",
      "metadata": {
        "id": "mcLFAxa_THdk"
      },
      "source": [
        "# 파이프라인을 만들어 봅시다.\n",
        "pipe = Pipeline([('enc', OrdinalEncoder()),\n",
        "                  ('imp', SimpleImputer()),\n",
        "                  ('rfr', RandomForestRegressor())])"
      ],
      "execution_count": 18,
      "outputs": []
    },
    {
      "cell_type": "code",
      "metadata": {
        "id": "pvLVjGTHTkQN",
        "outputId": "940cafb7-9baf-450d-8289-b511394c723f",
        "colab": {
          "base_uri": "https://localhost:8080/"
        }
      },
      "source": [
        "pipe.fit(X_train, y_train)"
      ],
      "execution_count": 19,
      "outputs": [
        {
          "output_type": "execute_result",
          "data": {
            "text/plain": [
              "Pipeline(memory=None,\n",
              "         steps=[('enc',\n",
              "                 OrdinalEncoder(cols=['tradeTime', 'buildingType',\n",
              "                                      'constructionTime', 'renovationCondition',\n",
              "                                      'elevator', 'fiveYearsProperty', 'subway',\n",
              "                                      'district', 'buildingStructure '],\n",
              "                                drop_invariant=False, handle_missing='value',\n",
              "                                handle_unknown='value',\n",
              "                                mapping=[{'col': 'tradeTime',\n",
              "                                          'data_type': dtype('O'),\n",
              "                                          'mapping': 2009    1\n",
              "2010    2\n",
              "2011    3\n",
              "2012    4\n",
              "2013    5\n",
              "2...\n",
              "                 RandomForestRegressor(bootstrap=True, ccp_alpha=0.0,\n",
              "                                       criterion='mse', max_depth=None,\n",
              "                                       max_features='auto', max_leaf_nodes=None,\n",
              "                                       max_samples=None,\n",
              "                                       min_impurity_decrease=0.0,\n",
              "                                       min_impurity_split=None,\n",
              "                                       min_samples_leaf=1, min_samples_split=2,\n",
              "                                       min_weight_fraction_leaf=0.0,\n",
              "                                       n_estimators=100, n_jobs=None,\n",
              "                                       oob_score=False, random_state=None,\n",
              "                                       verbose=0, warm_start=False))],\n",
              "         verbose=False)"
            ]
          },
          "metadata": {
            "tags": []
          },
          "execution_count": 19
        }
      ]
    },
    {
      "cell_type": "code",
      "metadata": {
        "id": "wYfzQV4VYZIn",
        "outputId": "50412ac1-e1bf-48a3-a788-4625809adccc",
        "colab": {
          "base_uri": "https://localhost:8080/"
        }
      },
      "source": [
        "train_pred = pipe.predict(X_train)\n",
        "print('MAE : ', mean_absolute_error(y_train, train_pred))\n",
        "print('RMSE : ', np.sqrt(mean_squared_error(y_train, train_pred)))\n",
        "print('R2 Score : ', r2_score(y_train, train_pred))"
      ],
      "execution_count": 20,
      "outputs": [
        {
          "output_type": "stream",
          "text": [
            "MAE :  9.363198764285945\n",
            "RMSE :  15.491831705795754\n",
            "R2 Score :  0.9893845985667952\n"
          ],
          "name": "stdout"
        }
      ]
    },
    {
      "cell_type": "code",
      "metadata": {
        "id": "sMxuQbVoUfwA",
        "outputId": "bc9e00fa-5c34-41b7-d5f1-4825c3722364",
        "colab": {
          "base_uri": "https://localhost:8080/"
        }
      },
      "source": [
        "y_pred = pipe.predict(X_valid)\n",
        "print('MAE : ', mean_absolute_error(y_valid, y_pred))\n",
        "print('RMSE : ', np.sqrt(mean_squared_error(y_valid, y_pred)))\n",
        "print('R2 Score : ', r2_score(y_valid, y_pred))"
      ],
      "execution_count": 21,
      "outputs": [
        {
          "output_type": "stream",
          "text": [
            "MAE :  54.269817963197696\n",
            "RMSE :  73.47660425369862\n",
            "R2 Score :  0.8483530812677035\n"
          ],
          "name": "stdout"
        }
      ]
    },
    {
      "cell_type": "markdown",
      "metadata": {
        "id": "5EYC8rj1lxo5"
      },
      "source": [
        "- 모델 결과 분석 : 랜덤포레스트 모델로 하이퍼파라미터 조정 없이 데이터를 모델링한 결과, r^2값이 1에 수렴하여 지나치게 높은 정확도를 보이고, MAE/RMSE도 검증데이터셋에 적용 시 높아져 과적합의 위험성이 있다. > 하이퍼파라미터 조정을 통해 모델을 개선 시킬 필요성이 있다 ."
      ]
    },
    {
      "cell_type": "code",
      "metadata": {
        "id": "SpwRCq0758Zd",
        "outputId": "495429fe-2218-4b25-859d-2cf25b8fd2df",
        "colab": {
          "base_uri": "https://localhost:8080/"
        }
      },
      "source": [
        "X_train.dtypes "
      ],
      "execution_count": 22,
      "outputs": [
        {
          "output_type": "execute_result",
          "data": {
            "text/plain": [
              "tradeTime               object\n",
              "DOM                    float64\n",
              "followers                int64\n",
              "square                 float64\n",
              "livingRoom               int64\n",
              "drawingRoom              int64\n",
              "kitchen                  int64\n",
              "bathRoom                 int64\n",
              "floor                    int64\n",
              "buildingType            object\n",
              "constructionTime        object\n",
              "renovationCondition     object\n",
              "buildingStructure        int64\n",
              "ladderRatio            float64\n",
              "elevator                object\n",
              "fiveYearsProperty       object\n",
              "subway                  object\n",
              "district                object\n",
              "communityAverage       float64\n",
              "buildingStructure       object\n",
              "dtype: object"
            ]
          },
          "metadata": {
            "tags": []
          },
          "execution_count": 22
        }
      ]
    },
    {
      "cell_type": "code",
      "metadata": {
        "id": "78WN7Ts4a0gw"
      },
      "source": [
        "# def cross_val(model):\n",
        "#     pred = cross_val_score(model, X, y, cv=10)\n",
        "#     return pred.mean()\n",
        "\n",
        "# def print_evaluate(true, predicted):  \n",
        "#     mae = metrics.mean_absolute_error(true, predicted)\n",
        "#     mse = metrics.mean_squared_error(true, predicted)\n",
        "#     rmse = np.sqrt(metrics.mean_squared_error(true, predicted))\n",
        "#     r2_square = metrics.r2_score(true, predicted)\n",
        "#     print('MAE:', mae)\n",
        "#     print('MSE:', mse)\n",
        "#     print('RMSE:', rmse)\n",
        "#     print('R2 Square', r2_square)\n",
        "#     print('__________________________________')\n",
        "    \n",
        "# def evaluate(true, predicted):\n",
        "#     mae = metrics.mean_absolute_error(true, predicted)\n",
        "#     mse = metrics.mean_squared_error(true, predicted)\n",
        "#     rmse = np.sqrt(metrics.mean_squared_error(true, predicted))\n",
        "#     r2_square = metrics.r2_score(true, predicted)\n",
        "#     return mae, mse, rmse, r2_square"
      ],
      "execution_count": 23,
      "outputs": []
    },
    {
      "cell_type": "code",
      "metadata": {
        "id": "QXP4Dbs45E8M"
      },
      "source": [
        "pipe_linear = Pipeline([\n",
        "                ('scl', StandardScaler()),\n",
        "                ('poly', PolynomialFeatures()),\n",
        "                 ('fit', LinearRegression())])"
      ],
      "execution_count": 24,
      "outputs": []
    },
    {
      "cell_type": "code",
      "metadata": {
        "id": "ArE1nWjXqQSA",
        "outputId": "0c4795f9-a727-44ec-a67b-2a448742b2d5",
        "colab": {
          "base_uri": "https://localhost:8080/"
        }
      },
      "source": [
        "pipe_linear.fit(X_train,y_train)"
      ],
      "execution_count": 25,
      "outputs": [
        {
          "output_type": "execute_result",
          "data": {
            "text/plain": [
              "Pipeline(memory=None,\n",
              "         steps=[('scl',\n",
              "                 StandardScaler(copy=True, with_mean=True, with_std=True)),\n",
              "                ('poly',\n",
              "                 PolynomialFeatures(degree=2, include_bias=True,\n",
              "                                    interaction_only=False, order='C')),\n",
              "                ('fit',\n",
              "                 LinearRegression(copy_X=True, fit_intercept=True, n_jobs=None,\n",
              "                                  normalize=False))],\n",
              "         verbose=False)"
            ]
          },
          "metadata": {
            "tags": []
          },
          "execution_count": 25
        }
      ]
    },
    {
      "cell_type": "code",
      "metadata": {
        "id": "J9Unjlcqbfy-"
      },
      "source": [
        "train_pred1 = pipe_linear.predict(X_train)\n",
        "y_pred1 = pipe_linear.predict(X_valid)"
      ],
      "execution_count": 26,
      "outputs": []
    },
    {
      "cell_type": "code",
      "metadata": {
        "id": "GQ1xzFNZrpWm",
        "outputId": "58f18286-6632-4ef6-bfe6-33698bce2802",
        "colab": {
          "base_uri": "https://localhost:8080/"
        }
      },
      "source": [
        "print('선형회귀모델 학습 데이터셋 MAE : ', mean_absolute_error(y_train, train_pred1))\n",
        "print('선형회귀모델 학습 데이터셋 RMSE : ', np.sqrt(mean_squared_error(y_train,train_pred1)))\n",
        "print('선형회귀모델 학습 데이터셋 R2 Score : ', r2_score(y_train, train_pred1))"
      ],
      "execution_count": 51,
      "outputs": [
        {
          "output_type": "stream",
          "text": [
            "선형회귀모델 학습 데이터셋 MAE :  33.292791745008486\n",
            "선형회귀모델 학습 데이터셋 RMSE :  49.672125700829106\n",
            "선형회귀모델 학습 데이터셋 R2 Score :  0.8908669298441697\n"
          ],
          "name": "stdout"
        }
      ]
    },
    {
      "cell_type": "code",
      "metadata": {
        "id": "x1wpcC2DhTCh",
        "outputId": "53495699-a12e-4334-c092-940722cc8d66",
        "colab": {
          "base_uri": "https://localhost:8080/"
        }
      },
      "source": [
        "print('선형회귀모델 검증 데이터셋 MAE : ', mean_absolute_error(y_valid, y_pred1))\n",
        "print('선형회귀모델 검증 데이터셋 RMSE : ', np.sqrt(mean_squared_error(y_valid, y_pred1)))\n",
        "print('선형회귀모델 검증 데이터셋 R2 Score : ', r2_score(y_valid, y_pred1))"
      ],
      "execution_count": 53,
      "outputs": [
        {
          "output_type": "stream",
          "text": [
            "선형회귀모델 검증 데이터셋 MAE :  58.5651451195547\n",
            "선형회귀모델 검증 데이터셋 RMSE :  84.24774788934457\n",
            "선형회귀모델 검증 데이터셋 R2 Score :  0.8006335679285701\n"
          ],
          "name": "stdout"
        }
      ]
    },
    {
      "cell_type": "code",
      "metadata": {
        "id": "coTIGHfgtzYh"
      },
      "source": [
        "pipe_lasso = Pipeline([\n",
        "                ('scl', StandardScaler()),\n",
        "                ('poly', PolynomialFeatures()),\n",
        "                 ('fit', Lasso(random_state = 42))])"
      ],
      "execution_count": 47,
      "outputs": []
    },
    {
      "cell_type": "code",
      "metadata": {
        "id": "JtH1vSUIuLE6"
      },
      "source": [
        "pipe_lasso.fit(X_train,y_train)\n",
        "train_predlasso = pipe_lasso.predict(X_train)\n",
        "y_predlasso = pipe_lasso.predict(X_valid)"
      ],
      "execution_count": 48,
      "outputs": []
    },
    {
      "cell_type": "code",
      "metadata": {
        "id": "GfHVmICMuboQ",
        "outputId": "b5c47954-fded-4cc8-c472-87dc4b4a5417",
        "colab": {
          "base_uri": "https://localhost:8080/"
        }
      },
      "source": [
        "print('Lasso회귀모델 학습데이터셋 MAE : ', mean_absolute_error(y_train, train_predlasso))\n",
        "print('Lasso회귀모델 학습데이터셋 RMSE : ', np.sqrt(mean_squared_error(y_train,train_predlasso)))\n",
        "print('Lasso회귀모델 학습데이터셋 R2 Score : ', r2_score(y_train, train_predlasso))\n",
        "print('Lasso회귀모델 검증데이터셋 MAE : ', mean_absolute_error(y_valid, y_predlasso))\n",
        "print('Lasso회귀모델 검증데이터셋 RMSE : ', np.sqrt(mean_squared_error(y_valid, y_predlasso)))\n",
        "print('Lasso회귀모델 검증데이터셋 R2 Score : ', r2_score(y_valid, y_predlasso))"
      ],
      "execution_count": 54,
      "outputs": [
        {
          "output_type": "stream",
          "text": [
            "Lasso회귀모델 학습데이터셋 MAE :  34.00599434882849\n",
            "Lasso회귀모델 학습데이터셋 RMSE :  50.87118140108067\n",
            "Lasso회귀모델 학습데이터셋 R2 Score :  0.8855345214253367\n",
            "Lasso회귀모델 검증데이터셋 MAE :  60.53106545316013\n",
            "Lasso회귀모델 검증데이터셋 RMSE :  86.3551618568345\n",
            "Lasso회귀모델 검증데이터셋 R2 Score :  0.7905347225096249\n"
          ],
          "name": "stdout"
        }
      ]
    },
    {
      "cell_type": "code",
      "metadata": {
        "id": "LbQjoOn-usiV"
      },
      "source": [
        "pipe_ridge = Pipeline([\n",
        "                ('scl', StandardScaler()),\n",
        "                ('poly', PolynomialFeatures()),\n",
        "                 ('fit', Ridge(random_state = 42))])"
      ],
      "execution_count": 43,
      "outputs": []
    },
    {
      "cell_type": "code",
      "metadata": {
        "id": "TBeLP3KYuzZ1"
      },
      "source": [
        "pipe_ridge.fit(X_train,y_train)\n",
        "train_predridge = pipe_ridge.predict(X_train)\n",
        "y_predridge = pipe_ridge.predict(X_valid)"
      ],
      "execution_count": 45,
      "outputs": []
    },
    {
      "cell_type": "code",
      "metadata": {
        "id": "FANNP2peu-iE",
        "outputId": "c8a13189-46a7-42e9-fb23-0231bbf47e37",
        "colab": {
          "base_uri": "https://localhost:8080/"
        }
      },
      "source": [
        "print('Ridge회귀모델 학습데이터셋 MAE : ', mean_absolute_error(y_train, train_predridge))\n",
        "print('Ridge회귀모델 학습데이터셋 RMSE : ', np.sqrt(mean_squared_error(y_train,train_predridge)))\n",
        "print('Ridge회귀모델 학습데이터셋 R2 Score : ', r2_score(y_train, train_predridge))\n",
        "print('Ridge회귀모델 검증데이터셋 MAE : ', mean_absolute_error(y_valid, y_predride))\n",
        "print('Ridge회귀모델 검증데이터셋 RMSE : ', np.sqrt(mean_squared_error(y_valid, y_predridge)))\n",
        "print('Ridge회귀모델 검증데이터셋 R2 Score : ', r2_score(y_valid, y_predridge))"
      ],
      "execution_count": 55,
      "outputs": [
        {
          "output_type": "stream",
          "text": [
            "Ridge회귀모델 학습데이터셋 MAE :  33.33128109140819\n",
            "Ridge회귀모델 학습데이터셋 RMSE :  49.72915431884221\n",
            "Ridge회귀모델 학습데이터셋 R2 Score :  0.8906161944143691\n",
            "Ridge회귀모델 검증데이터셋 MAE :  58.64646976494929\n",
            "Ridge회귀모델 검증데이터셋 RMSE :  84.45004554095902\n",
            "Ridge회귀모델 검증데이터셋 R2 Score :  0.7996749717801512\n"
          ],
          "name": "stdout"
        }
      ]
    },
    {
      "cell_type": "code",
      "metadata": {
        "id": "pleDsqEXvQhQ"
      },
      "source": [
        "pipe_gbr = Pipeline([\n",
        "                ('scl', StandardScaler()),\n",
        "                 ('fit', GradientBoostingRegressor())])"
      ],
      "execution_count": 40,
      "outputs": []
    },
    {
      "cell_type": "code",
      "metadata": {
        "id": "qI1awZQrwLG_"
      },
      "source": [
        "pipe_gbr.fit(X_train,y_train)\n",
        "train_predgbr = pipe_gbr.predict(X_train)\n",
        "y_predgbr = pipe_gbr.predict(X_valid)"
      ],
      "execution_count": 41,
      "outputs": []
    },
    {
      "cell_type": "code",
      "metadata": {
        "id": "Whkg3nSJwgLV",
        "outputId": "f6347adf-3971-4661-d174-3d179a1708c2",
        "colab": {
          "base_uri": "https://localhost:8080/"
        }
      },
      "source": [
        "print('GBR회귀모델 학습데이터셋 MAE : ', mean_absolute_error(y_train, train_predgbr))\n",
        "print('GBR회귀모델 학습데이터셋 RMSE : ', np.sqrt(mean_squared_error(y_train,train_predgbr)))\n",
        "print('GBR회귀모델 학습데이터셋 R2 Score : ', r2_score(y_train, train_predgbr))\n",
        "print('GBR회귀모델 검증데이터셋 MAE : ', mean_absolute_error(y_valid, y_predgbr))\n",
        "print('GBR회귀모델 검증데이터셋 RMSE : ', np.sqrt(mean_squared_error(y_valid, y_predgbr)))\n",
        "print('GBR회귀모델 검증데이터셋 R2 Score : ', r2_score(y_valid, y_predgbr))"
      ],
      "execution_count": 56,
      "outputs": [
        {
          "output_type": "stream",
          "text": [
            "GBR회귀모델 학습데이터셋 MAE :  30.105988013763174\n",
            "GBR회귀모델 학습데이터셋 RMSE :  45.975295328688134\n",
            "GBR회귀모델 학습데이터셋 R2 Score :  0.9065068189499388\n",
            "GBR회귀모델 검증데이터셋 MAE :  55.57804800337115\n",
            "GBR회귀모델 검증데이터셋 RMSE :  72.71810474019887\n",
            "GBR회귀모델 검증데이터셋 R2 Score :  0.8514678255558074\n"
          ],
          "name": "stdout"
        }
      ]
    },
    {
      "cell_type": "code",
      "metadata": {
        "id": "IlDPqO0HwtfC"
      },
      "source": [
        "pipe_ada = Pipeline([\n",
        "                ('scl', StandardScaler()),\n",
        "                 ('fit', AdaBoostRegressor())])"
      ],
      "execution_count": 36,
      "outputs": []
    },
    {
      "cell_type": "code",
      "metadata": {
        "id": "en-lGuZ2w8g3"
      },
      "source": [
        "pipe_ada.fit(X_train,y_train)\n",
        "train_predada = pipe_ada.predict(X_train)\n",
        "y_predada = pipe_ada.predict(X_valid)"
      ],
      "execution_count": 38,
      "outputs": []
    },
    {
      "cell_type": "code",
      "metadata": {
        "id": "da3oGB-uxIZU",
        "outputId": "43d16a39-88f2-409f-f7ca-5169dfb31ba9",
        "colab": {
          "base_uri": "https://localhost:8080/"
        }
      },
      "source": [
        "print('ADA회귀모델 학습데이터셋 MAE : ', mean_absolute_error(y_train, train_predada))\n",
        "print('ADA회귀모델 학습데이터셋 RMSE : ', np.sqrt(mean_squared_error(y_train,train_predada)))\n",
        "print('ADA회귀모델 학습데이터셋 R2 Score : ', r2_score(y_train, train_predada))\n",
        "print('ADA회귀모델 검증데이터셋 MAE : ', mean_absolute_error(y_valid, y_predada))\n",
        "print('ADA회귀모델 검증데이터셋 RMSE : ', np.sqrt(mean_squared_error(y_valid, y_predada)))\n",
        "print('ADA회귀모델 검증데이터셋 R2 Score : ', r2_score(y_valid, y_predada))"
      ],
      "execution_count": 57,
      "outputs": [
        {
          "output_type": "stream",
          "text": [
            "ADA회귀모델 학습데이터셋 MAE :  86.1248548830209\n",
            "ADA회귀모델 학습데이터셋 RMSE :  103.49337180463795\n",
            "ADA회귀모델 학습데이터셋 R2 Score :  0.5262426571815615\n",
            "ADA회귀모델 검증데이터셋 MAE :  87.62860441317117\n",
            "ADA회귀모델 검증데이터셋 RMSE :  109.43044181010686\n",
            "ADA회귀모델 검증데이터셋 R2 Score :  0.663634270351549\n"
          ],
          "name": "stdout"
        }
      ]
    },
    {
      "cell_type": "code",
      "metadata": {
        "id": "FHZxM3MMxQy6"
      },
      "source": [
        "pipe_xgb = Pipeline([\n",
        "                ('scl', StandardScaler()),\n",
        "                 ('fit', XGBRFRegressor())])"
      ],
      "execution_count": 32,
      "outputs": []
    },
    {
      "cell_type": "code",
      "metadata": {
        "id": "L0EtL_aJxc1a",
        "outputId": "5235b02e-2e9a-498e-fd42-0e0c1e997c03",
        "colab": {
          "base_uri": "https://localhost:8080/"
        }
      },
      "source": [
        "pipe_xgb.fit(X_train,y_train)\n",
        "train_predxgb = pipe_xgb.predict(X_train)\n",
        "y_predxgb = pipe_xgb.predict(X_valid)"
      ],
      "execution_count": 34,
      "outputs": [
        {
          "output_type": "stream",
          "text": [
            "[16:43:04] WARNING: /workspace/src/objective/regression_obj.cu:152: reg:linear is now deprecated in favor of reg:squarederror.\n"
          ],
          "name": "stdout"
        }
      ]
    },
    {
      "cell_type": "code",
      "metadata": {
        "id": "7uw76w9Lxmnu",
        "outputId": "69a810b8-b64d-40c7-f0c9-83ab95142108",
        "colab": {
          "base_uri": "https://localhost:8080/"
        }
      },
      "source": [
        "print('XGB회귀모델 학습데이터셋 MAE : ', mean_absolute_error(y_train, train_predxgb))\n",
        "print('XGB회귀모델 학습데이터셋 RMSE : ', np.sqrt(mean_squared_error(y_train,train_predxgb)))\n",
        "print('XGB회귀모델 학습데이터셋 R2 Score : ', r2_score(y_train, train_predxgb))\n",
        "print('XGB회귀모델 검증데이터셋 MAE : ', mean_absolute_error(y_valid, y_predxgb))\n",
        "print('XGB회귀모델 검증데이터셋 RMSE : ', np.sqrt(mean_squared_error(y_valid, y_predxgb)))\n",
        "print('XGB회귀모델 검증데이터셋 R2 Score : ', r2_score(y_valid, y_predxgb))"
      ],
      "execution_count": 58,
      "outputs": [
        {
          "output_type": "stream",
          "text": [
            "XGB회귀모델 학습데이터셋 MAE :  62.11563162247099\n",
            "XGB회귀모델 학습데이터셋 RMSE :  88.1808882724066\n",
            "XGB회귀모델 학습데이터셋 R2 Score :  0.6560622705496718\n",
            "XGB회귀모델 검증데이터셋 MAE :  110.9134029265657\n",
            "XGB회귀모델 검증데이터셋 RMSE :  153.02513137127966\n",
            "XGB회귀모델 검증데이터셋 R2 Score :  0.3422498460597613\n"
          ],
          "name": "stdout"
        }
      ]
    }
  ]
}