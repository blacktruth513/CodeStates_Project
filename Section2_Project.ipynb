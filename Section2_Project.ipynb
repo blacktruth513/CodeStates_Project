{
  "nbformat": 4,
  "nbformat_minor": 0,
  "metadata": {
    "colab": {
      "name": "Section2_Project.ipynb",
      "provenance": [],
      "collapsed_sections": [],
      "authorship_tag": "ABX9TyOqj3ojKzWZ8zPYNn7W390J",
      "include_colab_link": true
    },
    "kernelspec": {
      "name": "python3",
      "display_name": "Python 3"
    },
    "language_info": {
      "name": "python"
    }
  },
  "cells": [
    {
      "cell_type": "markdown",
      "metadata": {
        "id": "view-in-github",
        "colab_type": "text"
      },
      "source": [
        "<a href=\"https://colab.research.google.com/github/blacktruth513/CodeStates_Project/blob/main/Section2_Project.ipynb\" target=\"_parent\"><img src=\"https://colab.research.google.com/assets/colab-badge.svg\" alt=\"Open In Colab\"/></a>"
      ]
    },
    {
      "cell_type": "code",
      "metadata": {
        "colab": {
          "resources": {
            "http://localhost:8080/nbextensions/google.colab/files.js": {
              "data": "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",
              "ok": true,
              "headers": [
                [
                  "content-type",
                  "application/javascript"
                ]
              ],
              "status": 200,
              "status_text": ""
            }
          },
          "base_uri": "https://localhost:8080/",
          "height": 324
        },
        "id": "Xs_6GlwfT6rZ",
        "outputId": "60dfae3e-cfd1-44af-a646-62554d08611a"
      },
      "source": [
        "!pip install kaggle\n",
        "from google.colab import files\n",
        "files.upload()\n",
        "!mkdir -p ~/.kaggle\n",
        "!cp kaggle.json ~/.kaggle/\n",
        "# Permission Warning이 발생하지 않도록 해줍니다.\n",
        "!chmod 600 ~/.kaggle/kaggle.json\n",
        "!kaggle datasets download -d ruiqurm/lianjia\n",
        "#!ls\n",
        "!unzip lianjia.zip "
      ],
      "execution_count": 1,
      "outputs": [
        {
          "output_type": "stream",
          "text": [
            "Requirement already satisfied: kaggle in /usr/local/lib/python3.7/dist-packages (1.5.12)\n",
            "Requirement already satisfied: certifi in /usr/local/lib/python3.7/dist-packages (from kaggle) (2021.5.30)\n",
            "Requirement already satisfied: urllib3 in /usr/local/lib/python3.7/dist-packages (from kaggle) (1.24.3)\n",
            "Requirement already satisfied: tqdm in /usr/local/lib/python3.7/dist-packages (from kaggle) (4.61.1)\n",
            "Requirement already satisfied: six>=1.10 in /usr/local/lib/python3.7/dist-packages (from kaggle) (1.15.0)\n",
            "Requirement already satisfied: requests in /usr/local/lib/python3.7/dist-packages (from kaggle) (2.25.1)\n",
            "Requirement already satisfied: python-slugify in /usr/local/lib/python3.7/dist-packages (from kaggle) (5.0.2)\n",
            "Requirement already satisfied: python-dateutil in /usr/local/lib/python3.7/dist-packages (from kaggle) (2.8.1)\n",
            "Requirement already satisfied: chardet<5,>=3.0.2 in /usr/local/lib/python3.7/dist-packages (from requests->kaggle) (3.0.4)\n",
            "Requirement already satisfied: idna<3,>=2.5 in /usr/local/lib/python3.7/dist-packages (from requests->kaggle) (2.10)\n",
            "Requirement already satisfied: text-unidecode>=1.3 in /usr/local/lib/python3.7/dist-packages (from python-slugify->kaggle) (1.3)\n"
          ],
          "name": "stdout"
        },
        {
          "output_type": "display_data",
          "data": {
            "text/html": [
              "\n",
              "     <input type=\"file\" id=\"files-1362cd9e-1335-4074-849b-9f47467f8e8a\" name=\"files[]\" multiple disabled\n",
              "        style=\"border:none\" />\n",
              "     <output id=\"result-1362cd9e-1335-4074-849b-9f47467f8e8a\">\n",
              "      Upload widget is only available when the cell has been executed in the\n",
              "      current browser session. Please rerun this cell to enable.\n",
              "      </output>\n",
              "      <script src=\"/nbextensions/google.colab/files.js\"></script> "
            ],
            "text/plain": [
              "<IPython.core.display.HTML object>"
            ]
          },
          "metadata": {
            "tags": []
          }
        },
        {
          "output_type": "stream",
          "text": [
            "Saving kaggle.json to kaggle (1).json\n",
            "lianjia.zip: Skipping, found more recently modified local copy (use --force to force download)\n",
            "Archive:  lianjia.zip\n",
            "replace new.csv? [y]es, [n]o, [A]ll, [N]one, [r]ename: n\n"
          ],
          "name": "stdout"
        }
      ]
    },
    {
      "cell_type": "code",
      "metadata": {
        "id": "RoSvxQgHn-9A"
      },
      "source": [
        "# %%capture\n",
        "# import sys\n",
        "\n",
        "# if 'google.colab' in sys.modules:\n",
        "#     # Install packages in Colab\n",
        "#     !pip install category_encoders==2.*\n",
        "#     !pip install eli5\n",
        "#     !pip install pandas-profiling==2.*\n",
        "#     !pip install pdpbox\n",
        "#     !pip install shap"
      ],
      "execution_count": 2,
      "outputs": []
    },
    {
      "cell_type": "code",
      "metadata": {
        "id": "wATbzI-nYA8t"
      },
      "source": [
        "import pandas as pd"
      ],
      "execution_count": 3,
      "outputs": []
    },
    {
      "cell_type": "code",
      "metadata": {
        "colab": {
          "base_uri": "https://localhost:8080/",
          "height": 607
        },
        "id": "ihgfqUZ_WAk9",
        "outputId": "6bdb7f84-94ab-4b2e-b638-287ea5bd7fcf"
      },
      "source": [
        "df = pd.read_csv('./new.csv', encoding = 'GB2312',low_memory=False)  #GB/T 2312-1980 is a key official character set of the People's Republic of China, used for Simplified Chinese characters.\n",
        "df"
      ],
      "execution_count": 4,
      "outputs": [
        {
          "output_type": "execute_result",
          "data": {
            "text/html": [
              "<div>\n",
              "<style scoped>\n",
              "    .dataframe tbody tr th:only-of-type {\n",
              "        vertical-align: middle;\n",
              "    }\n",
              "\n",
              "    .dataframe tbody tr th {\n",
              "        vertical-align: top;\n",
              "    }\n",
              "\n",
              "    .dataframe thead th {\n",
              "        text-align: right;\n",
              "    }\n",
              "</style>\n",
              "<table border=\"1\" class=\"dataframe\">\n",
              "  <thead>\n",
              "    <tr style=\"text-align: right;\">\n",
              "      <th></th>\n",
              "      <th>url</th>\n",
              "      <th>id</th>\n",
              "      <th>Lng</th>\n",
              "      <th>Lat</th>\n",
              "      <th>Cid</th>\n",
              "      <th>tradeTime</th>\n",
              "      <th>DOM</th>\n",
              "      <th>followers</th>\n",
              "      <th>totalPrice</th>\n",
              "      <th>price</th>\n",
              "      <th>square</th>\n",
              "      <th>livingRoom</th>\n",
              "      <th>drawingRoom</th>\n",
              "      <th>kitchen</th>\n",
              "      <th>bathRoom</th>\n",
              "      <th>floor</th>\n",
              "      <th>buildingType</th>\n",
              "      <th>constructionTime</th>\n",
              "      <th>renovationCondition</th>\n",
              "      <th>buildingStructure</th>\n",
              "      <th>ladderRatio</th>\n",
              "      <th>elevator</th>\n",
              "      <th>fiveYearsProperty</th>\n",
              "      <th>subway</th>\n",
              "      <th>district</th>\n",
              "      <th>communityAverage</th>\n",
              "    </tr>\n",
              "  </thead>\n",
              "  <tbody>\n",
              "    <tr>\n",
              "      <th>0</th>\n",
              "      <td>https://bj.lianjia.com/chengjiao/101084782030....</td>\n",
              "      <td>101084782030</td>\n",
              "      <td>116.475489</td>\n",
              "      <td>40.019520</td>\n",
              "      <td>1111027376244</td>\n",
              "      <td>2016-08-09</td>\n",
              "      <td>1464.0</td>\n",
              "      <td>106</td>\n",
              "      <td>415.0</td>\n",
              "      <td>31680</td>\n",
              "      <td>131.00</td>\n",
              "      <td>2</td>\n",
              "      <td>1</td>\n",
              "      <td>1</td>\n",
              "      <td>1</td>\n",
              "      <td>高 26</td>\n",
              "      <td>1.0</td>\n",
              "      <td>2005</td>\n",
              "      <td>3</td>\n",
              "      <td>6</td>\n",
              "      <td>0.217</td>\n",
              "      <td>1.0</td>\n",
              "      <td>0.0</td>\n",
              "      <td>1.0</td>\n",
              "      <td>7</td>\n",
              "      <td>56021.0</td>\n",
              "    </tr>\n",
              "    <tr>\n",
              "      <th>1</th>\n",
              "      <td>https://bj.lianjia.com/chengjiao/101086012217....</td>\n",
              "      <td>101086012217</td>\n",
              "      <td>116.453917</td>\n",
              "      <td>39.881534</td>\n",
              "      <td>1111027381879</td>\n",
              "      <td>2016-07-28</td>\n",
              "      <td>903.0</td>\n",
              "      <td>126</td>\n",
              "      <td>575.0</td>\n",
              "      <td>43436</td>\n",
              "      <td>132.38</td>\n",
              "      <td>2</td>\n",
              "      <td>2</td>\n",
              "      <td>1</td>\n",
              "      <td>2</td>\n",
              "      <td>高 22</td>\n",
              "      <td>1.0</td>\n",
              "      <td>2004</td>\n",
              "      <td>4</td>\n",
              "      <td>6</td>\n",
              "      <td>0.667</td>\n",
              "      <td>1.0</td>\n",
              "      <td>1.0</td>\n",
              "      <td>0.0</td>\n",
              "      <td>7</td>\n",
              "      <td>71539.0</td>\n",
              "    </tr>\n",
              "    <tr>\n",
              "      <th>2</th>\n",
              "      <td>https://bj.lianjia.com/chengjiao/101086041636....</td>\n",
              "      <td>101086041636</td>\n",
              "      <td>116.561978</td>\n",
              "      <td>39.877145</td>\n",
              "      <td>1111040862969</td>\n",
              "      <td>2016-12-11</td>\n",
              "      <td>1271.0</td>\n",
              "      <td>48</td>\n",
              "      <td>1030.0</td>\n",
              "      <td>52021</td>\n",
              "      <td>198.00</td>\n",
              "      <td>3</td>\n",
              "      <td>2</td>\n",
              "      <td>1</td>\n",
              "      <td>3</td>\n",
              "      <td>中 4</td>\n",
              "      <td>4.0</td>\n",
              "      <td>2005</td>\n",
              "      <td>3</td>\n",
              "      <td>6</td>\n",
              "      <td>0.500</td>\n",
              "      <td>1.0</td>\n",
              "      <td>0.0</td>\n",
              "      <td>0.0</td>\n",
              "      <td>7</td>\n",
              "      <td>48160.0</td>\n",
              "    </tr>\n",
              "    <tr>\n",
              "      <th>3</th>\n",
              "      <td>https://bj.lianjia.com/chengjiao/101086406841....</td>\n",
              "      <td>101086406841</td>\n",
              "      <td>116.438010</td>\n",
              "      <td>40.076114</td>\n",
              "      <td>1111043185817</td>\n",
              "      <td>2016-09-30</td>\n",
              "      <td>965.0</td>\n",
              "      <td>138</td>\n",
              "      <td>297.5</td>\n",
              "      <td>22202</td>\n",
              "      <td>134.00</td>\n",
              "      <td>3</td>\n",
              "      <td>1</td>\n",
              "      <td>1</td>\n",
              "      <td>1</td>\n",
              "      <td>底 21</td>\n",
              "      <td>1.0</td>\n",
              "      <td>2008</td>\n",
              "      <td>1</td>\n",
              "      <td>6</td>\n",
              "      <td>0.273</td>\n",
              "      <td>1.0</td>\n",
              "      <td>0.0</td>\n",
              "      <td>0.0</td>\n",
              "      <td>6</td>\n",
              "      <td>51238.0</td>\n",
              "    </tr>\n",
              "    <tr>\n",
              "      <th>4</th>\n",
              "      <td>https://bj.lianjia.com/chengjiao/101086920653....</td>\n",
              "      <td>101086920653</td>\n",
              "      <td>116.428392</td>\n",
              "      <td>39.886229</td>\n",
              "      <td>1111027381174</td>\n",
              "      <td>2016-08-28</td>\n",
              "      <td>927.0</td>\n",
              "      <td>286</td>\n",
              "      <td>392.0</td>\n",
              "      <td>48396</td>\n",
              "      <td>81.00</td>\n",
              "      <td>2</td>\n",
              "      <td>1</td>\n",
              "      <td>1</td>\n",
              "      <td>1</td>\n",
              "      <td>中 6</td>\n",
              "      <td>4.0</td>\n",
              "      <td>1960</td>\n",
              "      <td>2</td>\n",
              "      <td>2</td>\n",
              "      <td>0.333</td>\n",
              "      <td>0.0</td>\n",
              "      <td>1.0</td>\n",
              "      <td>1.0</td>\n",
              "      <td>1</td>\n",
              "      <td>62588.0</td>\n",
              "    </tr>\n",
              "    <tr>\n",
              "      <th>...</th>\n",
              "      <td>...</td>\n",
              "      <td>...</td>\n",
              "      <td>...</td>\n",
              "      <td>...</td>\n",
              "      <td>...</td>\n",
              "      <td>...</td>\n",
              "      <td>...</td>\n",
              "      <td>...</td>\n",
              "      <td>...</td>\n",
              "      <td>...</td>\n",
              "      <td>...</td>\n",
              "      <td>...</td>\n",
              "      <td>...</td>\n",
              "      <td>...</td>\n",
              "      <td>...</td>\n",
              "      <td>...</td>\n",
              "      <td>...</td>\n",
              "      <td>...</td>\n",
              "      <td>...</td>\n",
              "      <td>...</td>\n",
              "      <td>...</td>\n",
              "      <td>...</td>\n",
              "      <td>...</td>\n",
              "      <td>...</td>\n",
              "      <td>...</td>\n",
              "      <td>...</td>\n",
              "    </tr>\n",
              "    <tr>\n",
              "      <th>318846</th>\n",
              "      <td>https://bj.lianjia.com/chengjiao/BJYZ92311192....</td>\n",
              "      <td>BJYZ92311192</td>\n",
              "      <td>116.546899</td>\n",
              "      <td>39.755236</td>\n",
              "      <td>1111027377053</td>\n",
              "      <td>2016-06-10</td>\n",
              "      <td>1.0</td>\n",
              "      <td>8</td>\n",
              "      <td>350.0</td>\n",
              "      <td>20580</td>\n",
              "      <td>170.07</td>\n",
              "      <td>3</td>\n",
              "      <td>2</td>\n",
              "      <td>1</td>\n",
              "      <td>2</td>\n",
              "      <td>中 5</td>\n",
              "      <td>4.0</td>\n",
              "      <td>2003</td>\n",
              "      <td>1</td>\n",
              "      <td>6</td>\n",
              "      <td>0.333</td>\n",
              "      <td>0.0</td>\n",
              "      <td>1.0</td>\n",
              "      <td>0.0</td>\n",
              "      <td>3</td>\n",
              "      <td>36545.0</td>\n",
              "    </tr>\n",
              "    <tr>\n",
              "      <th>318847</th>\n",
              "      <td>https://bj.lianjia.com/chengjiao/BJYZ92320171....</td>\n",
              "      <td>BJYZ92320171</td>\n",
              "      <td>116.497474</td>\n",
              "      <td>39.810115</td>\n",
              "      <td>1111027377957</td>\n",
              "      <td>2016-06-10</td>\n",
              "      <td>NaN</td>\n",
              "      <td>1</td>\n",
              "      <td>108.8</td>\n",
              "      <td>31006</td>\n",
              "      <td>35.09</td>\n",
              "      <td>1</td>\n",
              "      <td>0</td>\n",
              "      <td>1</td>\n",
              "      <td>1</td>\n",
              "      <td>中 24</td>\n",
              "      <td>1.0</td>\n",
              "      <td>2009</td>\n",
              "      <td>1</td>\n",
              "      <td>6</td>\n",
              "      <td>0.222</td>\n",
              "      <td>1.0</td>\n",
              "      <td>0.0</td>\n",
              "      <td>1.0</td>\n",
              "      <td>3</td>\n",
              "      <td>54282.0</td>\n",
              "    </tr>\n",
              "    <tr>\n",
              "      <th>318848</th>\n",
              "      <td>https://bj.lianjia.com/chengjiao/BJYZ92324217....</td>\n",
              "      <td>BJYZ92324217</td>\n",
              "      <td>116.497256</td>\n",
              "      <td>39.804081</td>\n",
              "      <td>1111027380056</td>\n",
              "      <td>2016-06-05</td>\n",
              "      <td>1.0</td>\n",
              "      <td>2</td>\n",
              "      <td>359.0</td>\n",
              "      <td>35138</td>\n",
              "      <td>102.17</td>\n",
              "      <td>2</td>\n",
              "      <td>2</td>\n",
              "      <td>1</td>\n",
              "      <td>2</td>\n",
              "      <td>中 7</td>\n",
              "      <td>4.0</td>\n",
              "      <td>2000</td>\n",
              "      <td>3</td>\n",
              "      <td>6</td>\n",
              "      <td>0.500</td>\n",
              "      <td>1.0</td>\n",
              "      <td>1.0</td>\n",
              "      <td>0.0</td>\n",
              "      <td>3</td>\n",
              "      <td>46927.0</td>\n",
              "    </tr>\n",
              "    <tr>\n",
              "      <th>318849</th>\n",
              "      <td>https://bj.lianjia.com/chengjiao/BJYZ92333313....</td>\n",
              "      <td>BJYZ92333313</td>\n",
              "      <td>116.501794</td>\n",
              "      <td>39.799347</td>\n",
              "      <td>1111027377054</td>\n",
              "      <td>2016-06-12</td>\n",
              "      <td>NaN</td>\n",
              "      <td>4</td>\n",
              "      <td>720.0</td>\n",
              "      <td>40373</td>\n",
              "      <td>178.34</td>\n",
              "      <td>4</td>\n",
              "      <td>2</td>\n",
              "      <td>1</td>\n",
              "      <td>2</td>\n",
              "      <td>中 5</td>\n",
              "      <td>4.0</td>\n",
              "      <td>2003</td>\n",
              "      <td>4</td>\n",
              "      <td>2</td>\n",
              "      <td>0.500</td>\n",
              "      <td>0.0</td>\n",
              "      <td>1.0</td>\n",
              "      <td>0.0</td>\n",
              "      <td>3</td>\n",
              "      <td>54842.0</td>\n",
              "    </tr>\n",
              "    <tr>\n",
              "      <th>318850</th>\n",
              "      <td>https://bj.lianjia.com/chengjiao/BJYZ92363553....</td>\n",
              "      <td>BJYZ92363553</td>\n",
              "      <td>116.497474</td>\n",
              "      <td>39.810115</td>\n",
              "      <td>1111027377957</td>\n",
              "      <td>2016-06-11</td>\n",
              "      <td>1.0</td>\n",
              "      <td>0</td>\n",
              "      <td>450.0</td>\n",
              "      <td>48675</td>\n",
              "      <td>92.45</td>\n",
              "      <td>2</td>\n",
              "      <td>1</td>\n",
              "      <td>1</td>\n",
              "      <td>1</td>\n",
              "      <td>中 17</td>\n",
              "      <td>4.0</td>\n",
              "      <td>未知</td>\n",
              "      <td>4</td>\n",
              "      <td>6</td>\n",
              "      <td>1.000</td>\n",
              "      <td>1.0</td>\n",
              "      <td>0.0</td>\n",
              "      <td>1.0</td>\n",
              "      <td>3</td>\n",
              "      <td>54282.0</td>\n",
              "    </tr>\n",
              "  </tbody>\n",
              "</table>\n",
              "<p>318851 rows × 26 columns</p>\n",
              "</div>"
            ],
            "text/plain": [
              "                                                      url  ... communityAverage\n",
              "0       https://bj.lianjia.com/chengjiao/101084782030....  ...          56021.0\n",
              "1       https://bj.lianjia.com/chengjiao/101086012217....  ...          71539.0\n",
              "2       https://bj.lianjia.com/chengjiao/101086041636....  ...          48160.0\n",
              "3       https://bj.lianjia.com/chengjiao/101086406841....  ...          51238.0\n",
              "4       https://bj.lianjia.com/chengjiao/101086920653....  ...          62588.0\n",
              "...                                                   ...  ...              ...\n",
              "318846  https://bj.lianjia.com/chengjiao/BJYZ92311192....  ...          36545.0\n",
              "318847  https://bj.lianjia.com/chengjiao/BJYZ92320171....  ...          54282.0\n",
              "318848  https://bj.lianjia.com/chengjiao/BJYZ92324217....  ...          46927.0\n",
              "318849  https://bj.lianjia.com/chengjiao/BJYZ92333313....  ...          54842.0\n",
              "318850  https://bj.lianjia.com/chengjiao/BJYZ92363553....  ...          54282.0\n",
              "\n",
              "[318851 rows x 26 columns]"
            ]
          },
          "metadata": {
            "tags": []
          },
          "execution_count": 4
        }
      ]
    },
    {
      "cell_type": "markdown",
      "metadata": {
        "id": "Z6nOOWRvsoQG"
      },
      "source": [
        "# 데이터 설명\n",
        "\n",
        "- 链家网是集房源信息搜索、产品研发、大数据处理、服务标准建立为一体的以数据驱动的全价值链房产服务平台。主营：二手房、租房、新房。您可通过小区找房，链家App等找房。 <br> \n",
        ":  \"리엔지아\"는 한국의 다방, 직방과 같은 중국의 대표적인 판매·입대·분양용 주택 공급 사이트로 주요 영업군은 중고 주택, 새 주택, 렌트 등이 있다.\n",
        "\n",
        "- Contents : Housing price of Beijing from 2011 to 2017, fetching from Lianjia.com\n",
        "- Inspiration : \n",
        "It may help you predict the housing price of Beijing."
      ]
    },
    {
      "cell_type": "markdown",
      "metadata": {
        "id": "nIfqKXB4pPUZ"
      },
      "source": [
        "#변수 설명\n",
        "\n",
        "- url: the url which fetches the data\n",
        "-id: the id of transaction\n",
        "-Lng: and Lat coordinates, using the BD09 protocol.\n",
        "-Cid: community id\n",
        "-tradeTime: the time of transaction\n",
        "-DOM: active days on market.Know more in https://en.wikipedia.org/wiki/ / Days_on_market / 부동산이 매물로 시장에 나와 있는 기간\n",
        "-followers: the number of people follow the transaction. / 거래 참여자 수\n",
        "-totalPrice: the total price\n",
        "-price: the average price by square\n",
        "-square: the square of house\n",
        "-livingRoom: the number of living room\n",
        "-drawingRoom: the number of drawing room\n",
        "-kitchen: the number of kitchen\n",
        "-bathroom the number of bathroom\n",
        "-floor: the height of the house. I will turn the Chinese characters to English in the next version.\n",
        "-buildingType: including tower( 1 ) , bungalow( 2 )，combination of plate and tower( 3 ), plate( 4 ). / 범주형 \n",
        "-constructionTime: the time of construction\n",
        "-renovationCondition: including other( 1 ), rough( 2 ),Simplicity( 3 ), hardcover( 4 ) / 범주형\n",
        "-buildingStructure: including unknow( 1 ), mixed( 2 ), brick and wood( 3 ), brick and concrete( 4 ),steel( 5 ) and steel-concrete composite ( 6 ). / 범주형\n",
        "-ladderRatio: the proportion between number of residents on the same floor and number of elevator of ladder. It describes how many ladders a resident have on average.\n",
        "-elevator have ( 1 ) or not have elevator( 0 ) / 범주형\n",
        "-fiveYearsProperty: It's related to China restricted purchase of houses policy / 범주형"
      ]
    },
    {
      "cell_type": "code",
      "metadata": {
        "id": "M8fFTc6pz0oj",
        "outputId": "5a01725e-cd74-4064-f529-0a1b954ed7c7",
        "colab": {
          "base_uri": "https://localhost:8080/"
        }
      },
      "source": [
        "df.info()"
      ],
      "execution_count": 12,
      "outputs": [
        {
          "output_type": "stream",
          "text": [
            "<class 'pandas.core.frame.DataFrame'>\n",
            "RangeIndex: 318851 entries, 0 to 318850\n",
            "Data columns (total 26 columns):\n",
            " #   Column               Non-Null Count   Dtype  \n",
            "---  ------               --------------   -----  \n",
            " 0   url                  318851 non-null  object \n",
            " 1   id                   318851 non-null  object \n",
            " 2   Lng                  318851 non-null  float64\n",
            " 3   Lat                  318851 non-null  float64\n",
            " 4   Cid                  318851 non-null  int64  \n",
            " 5   tradeTime            318851 non-null  object \n",
            " 6   DOM                  160874 non-null  float64\n",
            " 7   followers            318851 non-null  int64  \n",
            " 8   totalPrice           318851 non-null  float64\n",
            " 9   price                318851 non-null  int64  \n",
            " 10  square               318851 non-null  float64\n",
            " 11  livingRoom           318851 non-null  object \n",
            " 12  drawingRoom          318851 non-null  object \n",
            " 13  kitchen              318851 non-null  int64  \n",
            " 14  bathRoom             318851 non-null  object \n",
            " 15  floor                318851 non-null  object \n",
            " 16  buildingType         316830 non-null  float64\n",
            " 17  constructionTime     318851 non-null  object \n",
            " 18  renovationCondition  318851 non-null  int64  \n",
            " 19  buildingStructure    318851 non-null  int64  \n",
            " 20  ladderRatio          318851 non-null  float64\n",
            " 21  elevator             318819 non-null  float64\n",
            " 22  fiveYearsProperty    318819 non-null  float64\n",
            " 23  subway               318819 non-null  float64\n",
            " 24  district             318851 non-null  int64  \n",
            " 25  communityAverage     318388 non-null  float64\n",
            "dtypes: float64(11), int64(7), object(8)\n",
            "memory usage: 63.2+ MB\n"
          ],
          "name": "stdout"
        }
      ]
    },
    {
      "cell_type": "code",
      "metadata": {
        "id": "lzdUg6dQz8V1",
        "outputId": "26eef007-1c2f-4eaa-b2b6-7e1645d3ce8f",
        "colab": {
          "base_uri": "https://localhost:8080/"
        }
      },
      "source": [
        "# 데이터 결측값 확인\n",
        "df.isnull().sum()"
      ],
      "execution_count": 13,
      "outputs": [
        {
          "output_type": "execute_result",
          "data": {
            "text/plain": [
              "url                         0\n",
              "id                          0\n",
              "Lng                         0\n",
              "Lat                         0\n",
              "Cid                         0\n",
              "tradeTime                   0\n",
              "DOM                    157977\n",
              "followers                   0\n",
              "totalPrice                  0\n",
              "price                       0\n",
              "square                      0\n",
              "livingRoom                  0\n",
              "drawingRoom                 0\n",
              "kitchen                     0\n",
              "bathRoom                    0\n",
              "floor                       0\n",
              "buildingType             2021\n",
              "constructionTime            0\n",
              "renovationCondition         0\n",
              "buildingStructure           0\n",
              "ladderRatio                 0\n",
              "elevator                   32\n",
              "fiveYearsProperty          32\n",
              "subway                     32\n",
              "district                    0\n",
              "communityAverage          463\n",
              "dtype: int64"
            ]
          },
          "metadata": {
            "tags": []
          },
          "execution_count": 13
        }
      ]
    },
    {
      "cell_type": "code",
      "metadata": {
        "id": "tbz9sQY6qryd",
        "outputId": "fbc8d873-300c-42d7-a15e-8ff700318dd2",
        "colab": {
          "base_uri": "https://localhost:8080/",
          "height": 35
        }
      },
      "source": [
        "df['url'][1]"
      ],
      "execution_count": 7,
      "outputs": [
        {
          "output_type": "execute_result",
          "data": {
            "application/vnd.google.colaboratory.intrinsic+json": {
              "type": "string"
            },
            "text/plain": [
              "'https://bj.lianjia.com/chengjiao/101086012217.html'"
            ]
          },
          "metadata": {
            "tags": []
          },
          "execution_count": 7
        }
      ]
    },
    {
      "cell_type": "code",
      "metadata": {
        "id": "Xi_5X_BlX8ws",
        "outputId": "b56b6a69-2dc8-4829-a94d-2bffab9d2045",
        "colab": {
          "base_uri": "https://localhost:8080/"
        }
      },
      "source": [
        "df['floor'].value_counts()"
      ],
      "execution_count": 5,
      "outputs": [
        {
          "output_type": "execute_result",
          "data": {
            "text/plain": [
              "中 6      34788\n",
              "顶 6      22763\n",
              "高 6      20904\n",
              "低 6      15737\n",
              "底 6      13338\n",
              "         ...  \n",
              "未知 29        2\n",
              "低 63         1\n",
              "低 5          1\n",
              "低 35         1\n",
              "低 2          1\n",
              "Name: floor, Length: 203, dtype: int64"
            ]
          },
          "metadata": {
            "tags": []
          },
          "execution_count": 5
        }
      ]
    },
    {
      "cell_type": "code",
      "metadata": {
        "id": "lCcVZhUfpsxV",
        "outputId": "427df3f3-d438-4a71-ea2a-6b451de431d7",
        "colab": {
          "base_uri": "https://localhost:8080/"
        }
      },
      "source": [
        "df['tradeTime'].value_counts()[:50]"
      ],
      "execution_count": 11,
      "outputs": [
        {
          "output_type": "execute_result",
          "data": {
            "text/plain": [
              "2016-02-28    1096\n",
              "2016-03-06     948\n",
              "2016-07-31     940\n",
              "2016-08-31     910\n",
              "2016-03-05     824\n",
              "2016-08-29     823\n",
              "2016-02-27     796\n",
              "2017-02-27     765\n",
              "2016-08-30     742\n",
              "2017-02-28     707\n",
              "2016-02-21     686\n",
              "2015-12-13     682\n",
              "2015-12-20     677\n",
              "2016-03-13     646\n",
              "2015-12-06     636\n",
              "2017-03-13     605\n",
              "2016-03-12     596\n",
              "2016-01-17     595\n",
              "2017-03-06     589\n",
              "2016-01-10     578\n",
              "2015-12-19     566\n",
              "2015-12-27     566\n",
              "2016-03-20     558\n",
              "2015-11-29     554\n",
              "2016-01-24     554\n",
              "2016-08-24     545\n",
              "2016-02-29     544\n",
              "2016-08-15     538\n",
              "2016-08-28     536\n",
              "2017-02-20     535\n",
              "2017-02-26     525\n",
              "2016-09-18     524\n",
              "2017-03-15     522\n",
              "2016-08-17     513\n",
              "2016-08-25     506\n",
              "2016-08-22     496\n",
              "2016-09-26     491\n",
              "2016-03-19     490\n",
              "2016-09-28     487\n",
              "2016-07-27     486\n",
              "2013-03-10     483\n",
              "2016-02-20     483\n",
              "2016-09-30     481\n",
              "2015-06-28     479\n",
              "2016-03-02     476\n",
              "2016-01-09     476\n",
              "2016-01-03     472\n",
              "2016-08-26     465\n",
              "2016-08-23     463\n",
              "2016-01-16     461\n",
              "Name: tradeTime, dtype: int64"
            ]
          },
          "metadata": {
            "tags": []
          },
          "execution_count": 11
        }
      ]
    },
    {
      "cell_type": "code",
      "metadata": {
        "id": "fFx4bMw6yptE"
      },
      "source": [
        "from sklearn.model_selection import time"
      ],
      "execution_count": null,
      "outputs": []
    }
  ]
}